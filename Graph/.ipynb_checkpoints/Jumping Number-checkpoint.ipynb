{
 "cells": [
  {
   "cell_type": "code",
   "execution_count": 51,
   "metadata": {},
   "outputs": [
    {
     "name": "stdout",
     "output_type": "stream",
     "text": [
      "[1, 2, 3, 4, 5, 6, 7, 8, 9, 10, 12, 21, 23, 32, 34, 43, 45, 54, 56, 65, 67, 76, 78, 87, 89, 98, 101]\n"
     ]
    }
   ],
   "source": [
    "def jumping_number(n):\n",
    "    queue = deque()\n",
    "    arr = []\n",
    "    for i in range(1, 10):\n",
    "        queue.append(i)\n",
    "        while queue:\n",
    "            num = queue.pop()\n",
    "            if num <= n:\n",
    "                arr.append(num)\n",
    "                last_digit = num % 10\n",
    "                if last_digit == 0:\n",
    "                    queue.append((num * 10) + (last_digit + 1))\n",
    "                elif last_digit == 9:\n",
    "                    queue.append((num * 10) + (last_digit - 1))\n",
    "                else:\n",
    "                    queue.append((num * 10) + (last_digit + 1))\n",
    "                    queue.append((num * 10) + (last_digit - 1))\n",
    "    return sorted(arr)\n",
    "print(jumping_number(110))"
   ]
  },
  {
   "cell_type": "code",
   "execution_count": null,
   "metadata": {},
   "outputs": [],
   "source": []
  }
 ],
 "metadata": {
  "kernelspec": {
   "display_name": "Python 3",
   "language": "python",
   "name": "python3"
  },
  "language_info": {
   "codemirror_mode": {
    "name": "ipython",
    "version": 3
   },
   "file_extension": ".py",
   "mimetype": "text/x-python",
   "name": "python",
   "nbconvert_exporter": "python",
   "pygments_lexer": "ipython3",
   "version": "3.8.2"
  }
 },
 "nbformat": 4,
 "nbformat_minor": 4
}
