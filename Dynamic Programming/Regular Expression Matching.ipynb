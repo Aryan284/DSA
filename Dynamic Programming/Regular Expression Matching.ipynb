{
 "cells": [
  {
   "cell_type": "code",
   "execution_count": 5,
   "metadata": {},
   "outputs": [
    {
     "data": {
      "text/plain": [
       "True"
      ]
     },
     "execution_count": 5,
     "metadata": {},
     "output_type": "execute_result"
    }
   ],
   "source": [
    "s = \"aab\"\n",
    "p = \"c*a*b\"\n",
    "def solve(s, p):\n",
    "    dp = [[False for i in range(len(p) + 1)] for j in range(len(s) + 1)]\n",
    "    dp[0][0] = True\n",
    "    for i in range(1, len(p) + 1):\n",
    "        if p[i - 1] == \"*\":\n",
    "            dp[0][i] = dp[0][i - 2]\n",
    "    for i in range(1, len(s) + 1):\n",
    "        for j in range(1, len(p) + 1):\n",
    "            if s[i - 1] == p[j - 1] or p[j - 1] == \".\":\n",
    "                dp[i][j] = dp[i - 1][j - 1]\n",
    "            elif p[j - 1] == \"*\":\n",
    "                dp[i][j] = dp[i][j - 2]\n",
    "                if p[j - 2] == \".\" or s[i - 1] == p[j - 2]:\n",
    "                    dp[i][j] |= dp[i - 1][j]\n",
    "            else:\n",
    "                dp[i][j] = False\n",
    "    return dp[-1][-1]\n",
    "solve(s,p)"
   ]
  },
  {
   "cell_type": "code",
   "execution_count": null,
   "metadata": {},
   "outputs": [],
   "source": []
  }
 ],
 "metadata": {
  "kernelspec": {
   "display_name": "Python 3",
   "language": "python",
   "name": "python3"
  },
  "language_info": {
   "codemirror_mode": {
    "name": "ipython",
    "version": 3
   },
   "file_extension": ".py",
   "mimetype": "text/x-python",
   "name": "python",
   "nbconvert_exporter": "python",
   "pygments_lexer": "ipython3",
   "version": "3.8.2"
  }
 },
 "nbformat": 4,
 "nbformat_minor": 4
}
