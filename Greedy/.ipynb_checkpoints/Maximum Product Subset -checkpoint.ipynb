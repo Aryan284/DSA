{
 "cells": [
  {
   "cell_type": "code",
   "execution_count": 23,
   "metadata": {},
   "outputs": [
    {
     "data": {
      "text/plain": [
       "12"
      ]
     },
     "execution_count": 23,
     "metadata": {},
     "output_type": "execute_result"
    }
   ],
   "source": [
    "def productsub(arr):\n",
    "    n = len(arr)\n",
    "    if n == 1:\n",
    "        return arr[0]\n",
    "    prod = 1\n",
    "    count_zero = 0\n",
    "    count_neg = 0\n",
    "    max_neg = float(\"-inf\")\n",
    "    for i in range(len(arr)):\n",
    "        if arr[i] == 0:\n",
    "            count_zero += 1\n",
    "            continue\n",
    "        if arr[i] < 0:\n",
    "            count_neg += 1\n",
    "            max_neg = max(max_neg, arr[i])\n",
    "        prod *= arr[i] \n",
    "    if count_zero == n:\n",
    "        return 0\n",
    "    if count_neg & 1:\n",
    "        if (count_neg == 1 and count_zero > 0 and (count_zero + count_neg == n)):\n",
    "            return 0\n",
    "        prod = prod // max_neg\n",
    "    return prod\n",
    "productsub([0, 3, 4, -1])"
   ]
  },
  {
   "cell_type": "code",
   "execution_count": null,
   "metadata": {},
   "outputs": [],
   "source": [
    "# if [-1, -1, -2 4, 3] i.e count_neg is odd and no zero then product is multiply all divide with max_neg\n",
    "# if [1, -1, -1, 32] i.e count_neg is even result is simply product\n",
    "## if [0, -1] i.e count_zero is 1 and count_negative is odd then result is zero\n"
   ]
  }
 ],
 "metadata": {
  "kernelspec": {
   "display_name": "Python 3",
   "language": "python",
   "name": "python3"
  },
  "language_info": {
   "codemirror_mode": {
    "name": "ipython",
    "version": 3
   },
   "file_extension": ".py",
   "mimetype": "text/x-python",
   "name": "python",
   "nbconvert_exporter": "python",
   "pygments_lexer": "ipython3",
   "version": "3.8.2"
  }
 },
 "nbformat": 4,
 "nbformat_minor": 4
}
