{
 "cells": [
  {
   "cell_type": "code",
   "execution_count": 2,
   "metadata": {},
   "outputs": [
    {
     "data": {
      "text/plain": [
       "4"
      ]
     },
     "execution_count": 2,
     "metadata": {},
     "output_type": "execute_result"
    }
   ],
   "source": [
    "## Recursive Apporach\n",
    "string = \"AGGTAB\"\n",
    "string1 = \"GXTXAYB\"\n",
    "def LCS(string, string1, m, n):\n",
    "    if m == 0 or n == 0:\n",
    "        return 0\n",
    "    elif string[m - 1] == string1[n - 1]:\n",
    "        return 1 + LCS(string, string1, m - 1, n - 1)\n",
    "    else:\n",
    "        return max(LCS(string, string1, m - 1, n), LCS(string, string1, m, n - 1))\n",
    "LCS(string, string1, len(string), len(string1))"
   ]
  },
  {
   "cell_type": "code",
   "execution_count": 1,
   "metadata": {},
   "outputs": [
    {
     "data": {
      "text/plain": [
       "2"
      ]
     },
     "execution_count": 1,
     "metadata": {},
     "output_type": "execute_result"
    }
   ],
   "source": [
    "## Dp Approach\n",
    "string = \"geek\"\n",
    "string1 = \"eke\"\n",
    "def LCS(string, string1, m, n):\n",
    "    dp = [[-1 for i in range(n + 1)] for j in range(m + 1)]\n",
    "    ## Intialisation\n",
    "    for i in range(m + 1):\n",
    "        dp[i][0] = 0\n",
    "    for i in range(n + 1):\n",
    "        dp[0][i] = 0\n",
    "    for i in range(1, m + 1):\n",
    "        for j in range(1, n + 1):\n",
    "            if string[i - 1] == string1[j - 1]:\n",
    "                dp[i][j] = 1 + dp[i -1][j - 1]\n",
    "            else:\n",
    "                dp[i][j] = max(dp[i - 1][j], dp[i][j - 1])\n",
    "    return dp[m][n]\n",
    "LCS(string, string1, len(string), len(string1))"
   ]
  },
  {
   "cell_type": "code",
   "execution_count": null,
   "metadata": {},
   "outputs": [],
   "source": []
  }
 ],
 "metadata": {
  "kernelspec": {
   "display_name": "Python 3",
   "language": "python",
   "name": "python3"
  },
  "language_info": {
   "codemirror_mode": {
    "name": "ipython",
    "version": 3
   },
   "file_extension": ".py",
   "mimetype": "text/x-python",
   "name": "python",
   "nbconvert_exporter": "python",
   "pygments_lexer": "ipython3",
   "version": "3.8.2"
  }
 },
 "nbformat": 4,
 "nbformat_minor": 4
}
