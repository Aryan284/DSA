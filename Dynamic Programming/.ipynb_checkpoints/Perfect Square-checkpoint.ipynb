{
 "cells": [
  {
   "cell_type": "code",
   "execution_count": 24,
   "metadata": {},
   "outputs": [
    {
     "data": {
      "text/plain": [
       "4"
      ]
     },
     "execution_count": 24,
     "metadata": {},
     "output_type": "execute_result"
    }
   ],
   "source": [
    "from collections import deque\n",
    "n = 9999\n",
    "def perfect(n):\n",
    "    queue = deque()\n",
    "    arr = [i**2 for i in range(0, int(math.sqrt(n)))][::-1]\n",
    "    res = set()\n",
    "    queue.append([n, 0])\n",
    "    while queue:\n",
    "        num, step = queue.popleft()\n",
    "        for i in (arr):\n",
    "            if num - i == 0:\n",
    "                return step + 1\n",
    "            if num - i > 0:\n",
    "                if (num - i, step + 1) not in res:\n",
    "                    queue.append([num-i, step + 1])\n",
    "    print(arr)\n",
    "perfect(n)"
   ]
  },
  {
   "cell_type": "code",
   "execution_count": null,
   "metadata": {},
   "outputs": [],
   "source": []
  }
 ],
 "metadata": {
  "kernelspec": {
   "display_name": "Python 3",
   "language": "python",
   "name": "python3"
  },
  "language_info": {
   "codemirror_mode": {
    "name": "ipython",
    "version": 3
   },
   "file_extension": ".py",
   "mimetype": "text/x-python",
   "name": "python",
   "nbconvert_exporter": "python",
   "pygments_lexer": "ipython3",
   "version": "3.8.2"
  }
 },
 "nbformat": 4,
 "nbformat_minor": 4
}
