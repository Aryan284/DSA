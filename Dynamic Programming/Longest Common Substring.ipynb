{
 "cells": [
  {
   "cell_type": "code",
   "execution_count": 9,
   "metadata": {},
   "outputs": [
    {
     "data": {
      "text/plain": [
       "4"
      ]
     },
     "execution_count": 9,
     "metadata": {},
     "output_type": "execute_result"
    }
   ],
   "source": [
    "## Recursive Approach\n",
    "string = \"abcdxyz\"\n",
    "string1 = \"xyzabcd\"\n",
    "def Lcsubstring(string, string1, m, n, count):\n",
    "    if m == 0 or n == 0:\n",
    "        return count\n",
    "    elif string[m - 1] == string1[n - 1]:\n",
    "        count = Lcsubstring(string, string1, m - 1, n - 1, count + 1)\n",
    "    count =  max(count, max(Lcsubstring(string, string1, m - 1, n, 0), Lcsubstring(string, string1, m, n - 1, 0)))\n",
    "    return count\n",
    "Lcsubstring(string, string1, len(string), len(string1), 0)"
   ]
  },
  {
   "cell_type": "code",
   "execution_count": 8,
   "metadata": {},
   "outputs": [
    {
     "data": {
      "text/plain": [
       "2"
      ]
     },
     "execution_count": 8,
     "metadata": {},
     "output_type": "execute_result"
    }
   ],
   "source": [
    "## Dp Approach\n",
    "string = \"tabriz\"\n",
    "string1 = \"torini\"\n",
    "def Lcsubstring(string, string1, m, n):\n",
    "    result = 0\n",
    "    dp = [[0 for i in range(n + 1)] for j in range(m + 1)]\n",
    "    for i in range(m + 1):\n",
    "        for j in range(n + 1):\n",
    "            if i == 0 or j == 0:\n",
    "                dp[i][j] = 0\n",
    "            elif string[i - 1] == string1[j - 1]:\n",
    "                dp[i][j] = dp[i - 1][j - 1] + 1\n",
    "                result = max(result, dp[i][j])\n",
    "            else:\n",
    "                dp[i][j] = 0\n",
    "    return result\n",
    "#     for i in dp:\n",
    "#         print(i)\n",
    "#     index = dp[m][n]\n",
    "#     res = [\"\"] * (index + 1)\n",
    "#     res[index] = \"\"\n",
    "#     while i > 0 and j > 0:\n",
    "#         if string[i - 1] == string1[j - 1]:\n",
    "#             res[index - 1] = string[i - 1]\n",
    "#             i -= 1\n",
    "#             j -= 1\n",
    "#             index -= 1\n",
    "#         elif dp[i - 1][j] > dp[i][j - 1]:\n",
    "#             i -= 1\n",
    "#         else:\n",
    "#             j -= 1\n",
    "#     print(\"Lps is\", \"\".join(res))\n",
    "#     return result\n",
    "Lcsubstring(string, string1, len(string), len(string1))"
   ]
  },
  {
   "cell_type": "code",
   "execution_count": null,
   "metadata": {},
   "outputs": [],
   "source": []
  },
  {
   "cell_type": "code",
   "execution_count": null,
   "metadata": {},
   "outputs": [],
   "source": []
  }
 ],
 "metadata": {
  "kernelspec": {
   "display_name": "Python 3",
   "language": "python",
   "name": "python3"
  },
  "language_info": {
   "codemirror_mode": {
    "name": "ipython",
    "version": 3
   },
   "file_extension": ".py",
   "mimetype": "text/x-python",
   "name": "python",
   "nbconvert_exporter": "python",
   "pygments_lexer": "ipython3",
   "version": "3.8.2"
  }
 },
 "nbformat": 4,
 "nbformat_minor": 4
}
