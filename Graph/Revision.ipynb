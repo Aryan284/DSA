{
 "cells": [
  {
   "cell_type": "markdown",
   "metadata": {},
   "source": [
    "### BFS"
   ]
  },
  {
   "cell_type": "code",
   "execution_count": 23,
   "metadata": {},
   "outputs": [
    {
     "name": "stdout",
     "output_type": "stream",
     "text": [
      "defaultdict(<class 'list'>, {0: [1, 3], 3: [1, 4], 4: [2], 2: [1], 1: [5, 6]})\n",
      "0 1 3 5 6 4 2 "
     ]
    }
   ],
   "source": [
    "from collections import defaultdict, deque\n",
    "class graph:\n",
    "    def __init__(self):\n",
    "        self.graph = defaultdict(list)\n",
    "    def addEdge(self, u, v):\n",
    "        self.graph[u].append(v)\n",
    "        \n",
    "    def Bfs(self, s):\n",
    "        visited = set()\n",
    "        queue = deque()\n",
    "        queue.append(s)\n",
    "        visited.add(s)\n",
    "        while queue:\n",
    "            node = queue.popleft()\n",
    "            print(node, end = ' ')\n",
    "            for i in self.graph[node]:\n",
    "                if i not in visited:\n",
    "                    queue.append(i)\n",
    "                    visited.add(i)\n",
    "if __name__==\"__main__\":\n",
    "    g = graph()\n",
    "    g.addEdge(0, 1)\n",
    "    g.addEdge(0, 3)\n",
    "    g.addEdge(3, 1)\n",
    "    g.addEdge(3, 4)\n",
    "    g.addEdge(4, 2)\n",
    "    g.addEdge(2, 1)\n",
    "    g.addEdge(1, 5)\n",
    "    g.addEdge(1, 6)\n",
    "    print(g.graph)\n",
    "    g.Bfs(0)"
   ]
  },
  {
   "cell_type": "markdown",
   "metadata": {},
   "source": [
    "### DFS"
   ]
  },
  {
   "cell_type": "code",
   "execution_count": 29,
   "metadata": {},
   "outputs": [
    {
     "name": "stdout",
     "output_type": "stream",
     "text": [
      "defaultdict(<class 'list'>, {0: [1, 2], 1: [2], 2: [0, 3], 3: [3]})\n",
      "2 0 1 3 "
     ]
    }
   ],
   "source": [
    "from collections import defaultdict, deque\n",
    "class graph:\n",
    "    def __init__(self):\n",
    "        self.graph = defaultdict(list)\n",
    "    def addEdge(self, u, v):\n",
    "        self.graph[u].append(v)\n",
    "    def helper(self, visited, source):\n",
    "        visited.add(source)\n",
    "        print(source, end = ' ')\n",
    "        for i in self.graph[source]:\n",
    "            if i not in visited:\n",
    "                self.helper(visited, i)\n",
    "    def dfs(self, source):\n",
    "        visited = set()\n",
    "        self.helper(visited, source)\n",
    "        \n",
    "if __name__==\"__main__\":\n",
    "    g = graph()\n",
    "    g.addEdge(0, 1)\n",
    "    g.addEdge(0, 2)\n",
    "    g.addEdge(1, 2)\n",
    "    g.addEdge(2, 0)\n",
    "    g.addEdge(2, 3)\n",
    "    g.addEdge(3, 3)\n",
    "    print(g.graph)\n",
    "    g.dfs(2)"
   ]
  },
  {
   "cell_type": "markdown",
   "metadata": {},
   "source": [
    "### Cycle in Graph"
   ]
  },
  {
   "cell_type": "code",
   "execution_count": 36,
   "metadata": {},
   "outputs": [
    {
     "name": "stdout",
     "output_type": "stream",
     "text": [
      "defaultdict(<class 'list'>, {0: [1], 1: [0]})\n",
      "Cycle\n"
     ]
    }
   ],
   "source": [
    "from collections import defaultdict, deque\n",
    "class graph:\n",
    "    def __init__(self):\n",
    "        self.graph = defaultdict(list)\n",
    "    def addedge(self, u, v):\n",
    "        self.graph[u].append(v)\n",
    "        if not self.graph[v]:\n",
    "            self.graph[v] = []\n",
    "    def cycle(self, v, visited):\n",
    "        visited[v] = 1\n",
    "        for i in self.graph[v]:\n",
    "            if visited[i]:\n",
    "                return 'Cycle'\n",
    "            return self.cycle(i, visited)\n",
    "        return 'Not!'\n",
    "\n",
    "if __name__==\"__main__\":\n",
    "    g = graph()\n",
    "    g.addedge(0, 1)\n",
    "    g.addedge(1, 0)\n",
    "#     g.addedge(2, 3)\n",
    "#     g.addedge(3, 4)\n",
    "    print(g.graph)\n",
    "    visited = defaultdict(int)\n",
    "    for i in g.graph:\n",
    "        if not visited[i]:\n",
    "            res = g.cycle(i, visited)\n",
    "    print(res)"
   ]
  },
  {
   "cell_type": "code",
   "execution_count": 38,
   "metadata": {},
   "outputs": [
    {
     "name": "stdout",
     "output_type": "stream",
     "text": [
      "Not\n",
      "defaultdict(<class 'list'>, {0: [1], 1: [0, 2], 2: [1, 3], 3: [2, 4], 4: [3]})\n"
     ]
    }
   ],
   "source": [
    "## Undirected Graph\n",
    "from collections import defaultdict, deque\n",
    "class graph:\n",
    "    def __init__(self):\n",
    "        self.graph = defaultdict(list)\n",
    "    def addedge(self, u, v):\n",
    "        self.graph[u].append(v)\n",
    "        self.graph[v].append(u)\n",
    "        if not self.graph[v]:\n",
    "            self.graph[v] = []\n",
    "    def cycle(self, v, visited, parent = -1):\n",
    "        visited[v] = 1\n",
    "        for i in self.graph[v]:\n",
    "            if i == parent and parent != -1:\n",
    "                continue\n",
    "            if visited[i]:\n",
    "                return 'Cycle'\n",
    "            return self.cycle(i, visited, v)\n",
    "        return 'Not'\n",
    "    \n",
    "if __name__==\"__main__\":\n",
    "    g = graph()\n",
    "    g.addedge(0, 1)\n",
    "    g.addedge(1, 2)\n",
    "    g.addedge(2, 3)\n",
    "    g.addedge(3, 4)\n",
    "    visited = defaultdict(int)\n",
    "    for i in g.graph:\n",
    "        if not visited[i]:\n",
    "            res = g.cycle(i, visited)\n",
    "    print(res)\n",
    "    print(g.graph)"
   ]
  },
  {
   "cell_type": "markdown",
   "metadata": {},
   "source": [
    "### Topological Sort"
   ]
  },
  {
   "cell_type": "code",
   "execution_count": 41,
   "metadata": {},
   "outputs": [
    {
     "name": "stdout",
     "output_type": "stream",
     "text": [
      "defaultdict(<class 'list'>, {5: [0, 2, 1], 0: [], 4: [0, 2], 2: [3], 3: [], 1: []})\n",
      "defaultdict(<class 'int'>, {0: 2, 2: 2, 3: 1, 1: 1})\n",
      "4 5 0 2 3 1 "
     ]
    }
   ],
   "source": [
    "from collections import defaultdict\n",
    "class graph:\n",
    "    def __init__(self):\n",
    "        self.graph = defaultdict(list)\n",
    "        self.mark = defaultdict(int)\n",
    "    def addedge(self, u, v):\n",
    "        self.graph[u].append(v)\n",
    "        self.mark[v] += 1\n",
    "        if not self.graph[v]:\n",
    "            self.graph[v] = []\n",
    "    def topo(self, v, visited):\n",
    "        for i in self.graph[v]:\n",
    "            self.mark[i] -= 1\n",
    "            if self.mark[i] == 0:\n",
    "                if not visited[i]:\n",
    "                    print(i, end = ' ')\n",
    "                    self.topo(i, visited)\n",
    "                    \n",
    "    def topological_sort(self, v):\n",
    "        visited = defaultdict(int)\n",
    "        for i in range(v):\n",
    "            if self.mark[i] == 0:\n",
    "                if not visited[i]:\n",
    "                    if self.graph[i]:\n",
    "                        print(i, end = ' ')\n",
    "                        visited[i] = 1\n",
    "                        self.topo(i, visited)\n",
    "\n",
    "if __name__==\"__main__\":\n",
    "    g = graph()\n",
    "    g.addedge(5, 0)\n",
    "    g.addedge(4, 0)\n",
    "    g.addedge(5, 2)\n",
    "    g.addedge(4, 2)\n",
    "    g.addedge(2, 3)\n",
    "    g.addedge(5, 1)\n",
    "    print(g.graph)\n",
    "    print(g.mark)\n",
    "    (g.topological_sort(max(g.graph) + 1))"
   ]
  },
  {
   "cell_type": "markdown",
   "metadata": {},
   "source": [
    "### Number of island in matrix"
   ]
  },
  {
   "cell_type": "code",
   "execution_count": 7,
   "metadata": {},
   "outputs": [
    {
     "name": "stdout",
     "output_type": "stream",
     "text": [
      "2\n"
     ]
    }
   ],
   "source": [
    "from collections import deque\n",
    "def mark_false(matrix, i, j, visited, m, n):\n",
    "    x = [-1, -1, -1, 0, 1, 0, 1, 1]\n",
    "    y = [-1, 1, 0, -1, -1, 1, 0, 1]\n",
    "    queue = deque()\n",
    "    queue.append([i, j])\n",
    "    visited[i][j] = True\n",
    "    while queue:\n",
    "        i, j = queue.popleft()\n",
    "        for k in range(len(x)):\n",
    "            if i + x[k] >= 0 and i + x[k] < m and j + y[k] >= 0 and j + y[k] < n and matrix[i+x[k]][j + y[k]] == 1\\\n",
    "             and not visited[i+x[k]][j+y[k]]:\n",
    "                queue.append([i+x[k], j + y[k]])\n",
    "                visited[i+x[k]][j+y[k]] = True\n",
    "    \n",
    "            \n",
    "def no_island(matrix):\n",
    "    count = 0\n",
    "    m = len(matrix)\n",
    "    n = len(matrix[0])\n",
    "    visited = [[False for _ in range(n)] for _ in range(m)]\n",
    "    for i in range(m):\n",
    "        for j in range(n):\n",
    "            if matrix[i][j] == 1 and not visited[i][j]:\n",
    "                mark_false(matrix, i, j, visited, m, n)\n",
    "                count += 1\n",
    "    return count\n",
    "\n",
    "\n",
    "\n",
    "if __name__==\"__main__\":\n",
    "            print(no_island([[0, 0, 1, 1, 0],\n",
    "                         [1, 0, 1, 1, 0],\n",
    "                         [0, 1, 0, 0, 0],\n",
    "                         [0, 0, 0, 0, 1],\n",
    "                         [0, 0, 0, 1, 1]]))"
   ]
  },
  {
   "cell_type": "markdown",
   "metadata": {},
   "source": [
    "### Dijsktra's Algo"
   ]
  },
  {
   "cell_type": "code",
   "execution_count": 14,
   "metadata": {},
   "outputs": [
    {
     "name": "stdout",
     "output_type": "stream",
     "text": [
      "[[1, 0], [7, 11], [6, 12], [8, 18], [0, inf], [2, inf], [3, inf], [5, inf]]\n"
     ]
    }
   ],
   "source": [
    "from collections import defaultdict\n",
    "class graph:\n",
    "    def __init__(self):\n",
    "        self.graph = defaultdict(list)\n",
    "        self.dist = defaultdict(int)\n",
    "        \n",
    "    def addedge(self, u, v, weight):\n",
    "        self.graph[u].append([v, weight])\n",
    "        self.dist[u] = float('inf')\n",
    "        self.dist[v] = float('inf')\n",
    "        if not self.graph[v]:\n",
    "            self.graph[v] = []\n",
    "            \n",
    "    def dijsktra_algo(self, source):\n",
    "        dist = self.dist\n",
    "        dist[source] = 0\n",
    "        dv = []\n",
    "        while dist:\n",
    "            w = min(dist.values())\n",
    "            for d in dist:\n",
    "                if dist[d] == w:\n",
    "                    v = d\n",
    "                    break\n",
    "            dv.append([v, w])\n",
    "            del dist[v]\n",
    "            flag = True\n",
    "            for vertex in self.graph[v]:\n",
    "                for e in dv:\n",
    "                    if e[0] == vertex[0]:\n",
    "                        flag = False\n",
    "                        break\n",
    "                if flag:\n",
    "                    weight = vertex[1] + w\n",
    "                    dist[vertex[0]] = min(weight, dist[vertex[0]])\n",
    "        return dv\n",
    "\n",
    "if __name__==\"__main__\":\n",
    "    g = graph()\n",
    "    g.addedge(0, 1, 4)\n",
    "    g.addedge(0, 7, 8)\n",
    "    g.addedge(1, 7, 11)\n",
    "    g.addedge(7, 8, 7)\n",
    "    g.addedge(7, 6, 1)\n",
    "    g.addedge(2, 8, 2)\n",
    "    g.addedge(8, 6, 6)\n",
    "    g.addedge(2, 3, 7)\n",
    "    g.addedge(2, 5, 4)\n",
    "    print(g.dijsktra_algo(1))"
   ]
  },
  {
   "cell_type": "markdown",
   "metadata": {},
   "source": [
    "### Alien Dictionary"
   ]
  },
  {
   "cell_type": "code",
   "execution_count": 27,
   "metadata": {},
   "outputs": [
    {
     "name": "stdout",
     "output_type": "stream",
     "text": [
      "defaultdict(<class 'list'>, {'b': ['a', 'd'], 'a': ['c'], 'd': ['a'], 'c': []})\n",
      "defaultdict(<class 'int'>, {'a': 2, 'b': 0, 'd': 1, 'c': 1})\n",
      "b d a c "
     ]
    }
   ],
   "source": [
    "from collections import defaultdict\n",
    "class graph:\n",
    "    def __init__(self):\n",
    "        self.graph = defaultdict(list)\n",
    "        self.mark = defaultdict(int)\n",
    "        \n",
    "    def addedge(self, u, v):\n",
    "        self.graph[u].append(v)\n",
    "        if not self.graph[v]:\n",
    "            self.graph[v] = []\n",
    "        self.mark[v] += 1\n",
    "        if not self.mark[u]:\n",
    "            self.mark[u] = 0\n",
    "    def alien_dict(self, words):\n",
    "        for i in range(len(words) - 1):\n",
    "            w1 = words[i]\n",
    "            w2 = words[i + 1]\n",
    "            for j in range(min(len(w1), len(w2))):\n",
    "                if w1[j] != w2[j]:\n",
    "                    self.addedge(w1[j], w2[j])\n",
    "                    break\n",
    "    def helper(self, v, visited):\n",
    "        for i in self.graph[v]:\n",
    "            self.mark[i] -= 1\n",
    "            if self.mark[i] == 0:\n",
    "                if not visited[i]:\n",
    "                    print(i, end = ' ')\n",
    "                    visited[i] = 1\n",
    "                    self.helper(i, visited)\n",
    "                        \n",
    "    def topo_sort(self):\n",
    "        visited = defaultdict(int)\n",
    "        for i in self.graph:\n",
    "            if self.mark[i] == 0:\n",
    "                if not visited[i]:\n",
    "                    if self.graph[i]:\n",
    "                        print(i, end = ' ')\n",
    "                        visited[i] = 1\n",
    "                        self.helper(i, visited)\n",
    "        \n",
    "        \n",
    "if __name__==\"__main__\":\n",
    "    \n",
    "    words = [\"baa\", \"abcd\", \"abca\", \"cab\", \"cad\"]\n",
    "    g = graph()\n",
    "    g.alien_dict(words)\n",
    "    print(g.graph)\n",
    "    print(g.mark)\n",
    "    g.topo_sort()\n",
    "    "
   ]
  },
  {
   "cell_type": "markdown",
   "metadata": {},
   "source": [
    "### Rotten Orange"
   ]
  },
  {
   "cell_type": "code",
   "execution_count": 3,
   "metadata": {},
   "outputs": [
    {
     "name": "stdout",
     "output_type": "stream",
     "text": [
      "4\n"
     ]
    }
   ],
   "source": [
    "from collections import deque\n",
    "def rotten_orange(matrix):\n",
    "    m = len(matrix)\n",
    "    n = len(matrix[0])\n",
    "    x = [-1, 1, 0, 0]\n",
    "    y = [0, 0, 1, -1]\n",
    "    time = 0\n",
    "    queue = deque()\n",
    "    for i in range(m):\n",
    "        for j in range(n):\n",
    "            if matrix[i][j] == 2:\n",
    "                queue.append([i, j, time])\n",
    "    while queue:\n",
    "        i, j, time = queue.popleft()\n",
    "        for k in range(4):\n",
    "            if i + x[k] > -1 and i + x[k] < m and j + y[k] > -1 and j + y[k] < n and matrix[i + x[k]][j + y[k]] == 1:\n",
    "                matrix[i + x[k]][j + y[k]] = 2\n",
    "                queue.append([i + x[k], j + y[k], time + 1])\n",
    "    return time\n",
    "\n",
    "if __name__==\"__main__\":\n",
    "    print(rotten_orange([[2,1,1],\n",
    "                         [0,1,1],\n",
    "                         [1,0,1]]))"
   ]
  },
  {
   "cell_type": "markdown",
   "metadata": {},
   "source": [
    "### Snake ladder"
   ]
  },
  {
   "cell_type": "code",
   "execution_count": 23,
   "metadata": {},
   "outputs": [
    {
     "name": "stdout",
     "output_type": "stream",
     "text": [
      "4\n"
     ]
    }
   ],
   "source": [
    "from collections import deque\n",
    "def find_coord(curr, n):\n",
    "    r = n - (curr - 1)//n - 1\n",
    "    c = (curr - 1) % n\n",
    "    if r % 2 == n % 2:\n",
    "        return [r, n - 1 - c]\n",
    "    else:\n",
    "        return [r, c]\n",
    "    \n",
    "def snake_ladder(matrix):\n",
    "    n = len(matrix)\n",
    "    visited = [[False for _ in range(n)] for _  in range(n)]\n",
    "    queue = deque()\n",
    "    queue.append(1)\n",
    "    steps = 0\n",
    "    visited[n - 1][0] = True\n",
    "    while queue:\n",
    "        size = len(queue)\n",
    "        for i in range(size):\n",
    "            val = queue.popleft()\n",
    "            if val == n * n:\n",
    "                return steps\n",
    "            for k in range(1, 7):\n",
    "                if k + val > n * n:\n",
    "                    break\n",
    "                pos = find_coord(k + val, n)\n",
    "                r = pos[0]\n",
    "                c = pos[1]\n",
    "                if visited[r][c] == True:\n",
    "                    continue\n",
    "                visited [r][c] = True\n",
    "                if matrix[r][c] == -1:\n",
    "                    queue.append(k + val)\n",
    "                else:\n",
    "                    queue.append(matrix[r][c])\n",
    "        steps += 1\n",
    "    return -1\n",
    "print(snake_ladder([[-1,-1,-1,-1,-1,-1],\n",
    "             [-1,-1,-1,-1,-1,-1],\n",
    "             [-1,-1,-1,-1,-1,-1],\n",
    "             [-1,35,-1,-1,13,-1],\n",
    "             [-1,-1,-1,-1,-1,-1],\n",
    "             [-1,15,-1,-1,-1,-1]]))"
   ]
  },
  {
   "cell_type": "code",
   "execution_count": null,
   "metadata": {},
   "outputs": [],
   "source": []
  }
 ],
 "metadata": {
  "kernelspec": {
   "display_name": "Python 3",
   "language": "python",
   "name": "python3"
  },
  "language_info": {
   "codemirror_mode": {
    "name": "ipython",
    "version": 3
   },
   "file_extension": ".py",
   "mimetype": "text/x-python",
   "name": "python",
   "nbconvert_exporter": "python",
   "pygments_lexer": "ipython3",
   "version": "3.8.2"
  }
 },
 "nbformat": 4,
 "nbformat_minor": 4
}
