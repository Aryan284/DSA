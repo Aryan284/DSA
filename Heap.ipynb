{
 "cells": [
  {
   "cell_type": "code",
   "execution_count": 18,
   "metadata": {},
   "outputs": [
    {
     "name": "stdout",
     "output_type": "stream",
     "text": [
      "5\n",
      "[3, 4, 5]\n",
      "[3, 5, 4, 7, 9]\n"
     ]
    }
   ],
   "source": [
    "## Tree based data structure.\n",
    "## Python has library for this used in k type problems...\n",
    "\n",
    "##Implementation\n",
    "import heapq\n",
    "a = [5, 7, 9, 1, 3]\n",
    "heapq._heapify_max(a)    ### This is for max heap\n",
    "heapq.heapify(a)         ### This is for min heap\n",
    "heapq.heappush(a, 4)     ### heappush is used to push element in heap it also maintain the order in the heap.\n",
    "heapq.heappop(a)         ## always pop first element from the array\n",
    "print(heapq.nlargest(3, a).pop())   ## this will give the kth largest element array\n",
    "print(heapq.nsmallest(3, a))   ## this will give the kth smallest element array\n",
    "print(a)"
   ]
  },
  {
   "cell_type": "markdown",
   "metadata": {},
   "source": [
    "###  K-th Smallest element "
   ]
  },
  {
   "cell_type": "code",
   "execution_count": 24,
   "metadata": {},
   "outputs": [
    {
     "name": "stdout",
     "output_type": "stream",
     "text": [
      "Enter kth val: 3\n",
      "4\n"
     ]
    }
   ],
   "source": [
    "arr = [7, 4, 3 , 9, 8, 0]\n",
    "import heapq\n",
    "def ksmall(arr, k):\n",
    "    heapq.heapify(arr)\n",
    "    return heapq.nsmallest(k, arr).pop()\n",
    "k = int(input(\"Enter kth val: \"))\n",
    "print(ksmall(arr, k))\n",
    "\n",
    "## Time complexity : nlogk"
   ]
  },
  {
   "cell_type": "code",
   "execution_count": null,
   "metadata": {},
   "outputs": [],
   "source": []
  }
 ],
 "metadata": {
  "kernelspec": {
   "display_name": "Python 3",
   "language": "python",
   "name": "python3"
  },
  "language_info": {
   "codemirror_mode": {
    "name": "ipython",
    "version": 3
   },
   "file_extension": ".py",
   "mimetype": "text/x-python",
   "name": "python",
   "nbconvert_exporter": "python",
   "pygments_lexer": "ipython3",
   "version": "3.8.2"
  }
 },
 "nbformat": 4,
 "nbformat_minor": 4
}
