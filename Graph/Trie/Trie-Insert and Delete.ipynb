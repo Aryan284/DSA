{
 "cells": [
  {
   "cell_type": "code",
   "execution_count": 1,
   "metadata": {},
   "outputs": [],
   "source": [
    "class TrieNode:\n",
    "    def __init__(self):\n",
    "        self.children = [0] * 26\n",
    "        self.isend = False\n",
    "class Trie:\n",
    "    def __init__(self):\n",
    "        self.root = self.getNode()\n",
    "    \n",
    "    def getNode(self):\n",
    "        return TrieNode()\n",
    "    \n",
    "    def char_to_index(self, ch):\n",
    "        return ord(ch) - ord('a')\n",
    "    \n",
    "    def insert(self, string):\n",
    "        ptr = self.root\n",
    "        for i in range(len(string)):\n",
    "            index = self.char_to_index(string[i])\n",
    "            if not ptr.children[index]:\n",
    "                ptr.children[index] = self.getNode()\n",
    "            ptr = ptr.children[index]\n",
    "        self.isend = True\n",
    "    \n",
    "    def search(self, string):\n",
    "        ptr = self.root\n",
    "        for i in range(len(string)):\n",
    "            index = self.char_to_index(string[i])\n",
    "            if not ptr.children[index]:\n",
    "                return False\n",
    "            ptr = ptr.children[index]\n",
    "        return ptr != None and ptr.isend\n",
    "    \n",
    "if __name__==\"__main__\":\n",
    "    t = Trie()\n",
    "    string = ['the', 'a', 'there', 'answer', 'any', 'by', 'their']\n",
    "    \n",
    "    for i in string:\n",
    "        t.insert(i)\n",
    "    t.search(\"the\")\n",
    "    "
   ]
  },
  {
   "cell_type": "code",
   "execution_count": null,
   "metadata": {},
   "outputs": [],
   "source": []
  }
 ],
 "metadata": {
  "kernelspec": {
   "display_name": "Python 3",
   "language": "python",
   "name": "python3"
  },
  "language_info": {
   "codemirror_mode": {
    "name": "ipython",
    "version": 3
   },
   "file_extension": ".py",
   "mimetype": "text/x-python",
   "name": "python",
   "nbconvert_exporter": "python",
   "pygments_lexer": "ipython3",
   "version": "3.8.2"
  }
 },
 "nbformat": 4,
 "nbformat_minor": 4
}
