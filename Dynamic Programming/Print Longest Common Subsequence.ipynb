{
 "cells": [
  {
   "cell_type": "code",
   "execution_count": 1,
   "metadata": {},
   "outputs": [
    {
     "name": "stdout",
     "output_type": "stream",
     "text": [
      "LCs is eegee\n"
     ]
    }
   ],
   "source": [
    "string = \"geeksforgeeks\"\n",
    "string1 = \"skeegrofskeeg\"\n",
    "def PrintLCS(string, string1, m, n):\n",
    "    dp = [[-1 for i in range(n + 1)]for j in range(m + 1)]\n",
    "    for i in range(m + 1):\n",
    "        for j in range(n + 1):\n",
    "            if i == 0 or j == 0:\n",
    "                dp[i][j] = 0\n",
    "            elif string[i - 1] == string1[j - 1]:\n",
    "                dp[i][j] = dp[i - 1][j - 1] + 1\n",
    "            else:\n",
    "                dp[i][j] = max(dp[i][j -1], dp[i -1][j])\n",
    "    index = dp[m][n]\n",
    "    res = [\"\"] * (index + 1)\n",
    "    res[index] = \"\"\n",
    "    while i > 0 and j > 0:\n",
    "        if string[i - 1] == string1[j - 1]:\n",
    "            res[index - 1] = string[i - 1]\n",
    "            i -= 1\n",
    "            j -= 1\n",
    "            index -= 1\n",
    "        elif dp[i - 1][j] > dp[i][j - 1]:\n",
    "            i -= 1\n",
    "        else:\n",
    "            j -= 1\n",
    "    print(\"LCs is\", \"\".join(res))\n",
    "PrintLCS(string, string1, len(string), len(string1))"
   ]
  },
  {
   "cell_type": "code",
   "execution_count": null,
   "metadata": {},
   "outputs": [],
   "source": []
  }
 ],
 "metadata": {
  "kernelspec": {
   "display_name": "Python 3",
   "language": "python",
   "name": "python3"
  },
  "language_info": {
   "codemirror_mode": {
    "name": "ipython",
    "version": 3
   },
   "file_extension": ".py",
   "mimetype": "text/x-python",
   "name": "python",
   "nbconvert_exporter": "python",
   "pygments_lexer": "ipython3",
   "version": "3.8.2"
  }
 },
 "nbformat": 4,
 "nbformat_minor": 4
}
