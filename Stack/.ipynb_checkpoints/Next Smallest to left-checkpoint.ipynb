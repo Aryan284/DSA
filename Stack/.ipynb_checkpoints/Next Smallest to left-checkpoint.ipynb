{
 "cells": [
  {
   "cell_type": "code",
   "execution_count": 2,
   "metadata": {},
   "outputs": [
    {
     "data": {
      "text/plain": [
       "[-1, 1, 1, 2]"
      ]
     },
     "execution_count": 2,
     "metadata": {},
     "output_type": "execute_result"
    }
   ],
   "source": [
    "def nsl(arr):\n",
    "    stack = []\n",
    "    res = [0] * len(arr)\n",
    "    for i in range(len(arr)):\n",
    "        while stack and stack [-1] >= arr[i]:\n",
    "            stack.pop()\n",
    "        res[i] = -1 if not stack else stack[-1]\n",
    "        stack.append(arr[i])\n",
    "    return res\n",
    "nsl([1,3,2,4])"
   ]
  },
  {
   "cell_type": "code",
   "execution_count": null,
   "metadata": {},
   "outputs": [],
   "source": []
  }
 ],
 "metadata": {
  "kernelspec": {
   "display_name": "Python 3",
   "language": "python",
   "name": "python3"
  },
  "language_info": {
   "codemirror_mode": {
    "name": "ipython",
    "version": 3
   },
   "file_extension": ".py",
   "mimetype": "text/x-python",
   "name": "python",
   "nbconvert_exporter": "python",
   "pygments_lexer": "ipython3",
   "version": "3.8.2"
  }
 },
 "nbformat": 4,
 "nbformat_minor": 4
}
