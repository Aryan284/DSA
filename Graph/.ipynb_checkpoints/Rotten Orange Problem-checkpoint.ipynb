{
 "cells": [
  {
   "cell_type": "code",
   "execution_count": 73,
   "metadata": {},
   "outputs": [
    {
     "name": "stdout",
     "output_type": "stream",
     "text": [
      "deque([[0, 0, 0]])\n",
      "{(0, 1)}\n",
      "{(0, 1), (0, 2)}\n",
      "{(0, 1), (1, 0), (0, 2)}\n",
      "{(0, 1), (1, 0), (0, 2), (1, 1)}\n",
      "{(0, 1), (2, 1), (1, 1), (0, 2), (1, 0)}\n",
      "{(0, 1), (2, 1), (1, 1), (0, 2), (2, 2), (1, 0)}\n",
      "deque([[0, 1, 1]])\n",
      "deque([[0, 1, 1], [1, 0, 1]])\n",
      "deque([[1, 0, 1], [0, 2, 2]])\n",
      "deque([[1, 0, 1], [0, 2, 2], [1, 1, 2]])\n",
      "deque([[2, 1, 3]])\n",
      "deque([[2, 2, 4]])\n"
     ]
    },
    {
     "data": {
      "text/plain": [
       "4"
      ]
     },
     "execution_count": 73,
     "metadata": {},
     "output_type": "execute_result"
    }
   ],
   "source": [
    "from collections import deque\n",
    "\n",
    "def check_cell(matrix, rotten, m, n, fresh, count):\n",
    "    x = [-1, 0, 0, 1]\n",
    "    y = [0, -1, 1, 0]\n",
    "    while rotten:\n",
    "        i, j, count = rotten.popleft()\n",
    "        for k in range(len(x)):\n",
    "            if i + x[k] >= 0 and i + x[k] < m and j + y[k] >= 0 and j + y[k] < n:\n",
    "                if matrix[i + x[k]][j + y[k]] == 1:\n",
    "                    matrix[i + x[k]][j + y[k]] = 2\n",
    "                    rotten.append([i + x[k], j + y[k], count + 1])\n",
    "                    print(rotten)\n",
    "                    fresh.remove((i + x[k], j + y[k]))\n",
    "    if not fresh:\n",
    "        return count\n",
    "    \n",
    "def rotten(matrix):\n",
    "    m = len(matrix)\n",
    "    n = len(matrix[0])\n",
    "    rotten = deque()\n",
    "    fresh = set()\n",
    "    count = 0\n",
    "    for i in range(m):\n",
    "        for j in range(n):\n",
    "            if matrix[i][j] == 2:\n",
    "                rotten.append([i, j, 0])\n",
    "                print(rotten)\n",
    "            elif matrix[i][j] == 1:\n",
    "                fresh.add((i, j))\n",
    "                print(fresh)\n",
    "    count = check_cell(matrix, rotten, m, n, fresh, count)      \n",
    "    return count\n",
    "if __name__==\"__main__\":\n",
    "    rotten([[2, 1, 1],\n",
    "           [1, 1, 0],\n",
    "           [0, 1, 1]])"
   ]
  },
  {
   "cell_type": "code",
   "execution_count": null,
   "metadata": {},
   "outputs": [],
   "source": []
  }
 ],
 "metadata": {
  "kernelspec": {
   "display_name": "Python 3",
   "language": "python",
   "name": "python3"
  },
  "language_info": {
   "codemirror_mode": {
    "name": "ipython",
    "version": 3
   },
   "file_extension": ".py",
   "mimetype": "text/x-python",
   "name": "python",
   "nbconvert_exporter": "python",
   "pygments_lexer": "ipython3",
   "version": "3.8.2"
  }
 },
 "nbformat": 4,
 "nbformat_minor": 4
}
