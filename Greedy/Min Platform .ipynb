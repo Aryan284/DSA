{
 "cells": [
  {
   "cell_type": "code",
   "execution_count": 10,
   "metadata": {},
   "outputs": [
    {
     "name": "stdout",
     "output_type": "stream",
     "text": [
      "1\n"
     ]
    }
   ],
   "source": [
    "arr = [900, 940] \n",
    "dep = [910, 1200]\n",
    "arr.sort()\n",
    "dep.sort()\n",
    "i = 1\n",
    "j = 0\n",
    "plat = 1\n",
    "res = 1\n",
    "n = len(arr)\n",
    "while(i < n and j < n):\n",
    "    if arr[i] <= dep[j]:\n",
    "        plat += 1\n",
    "        i += 1\n",
    "    elif arr[i] > dep[j]:\n",
    "        plat -= 1\n",
    "        j += 1\n",
    "    if plat > res:\n",
    "        res = plat\n",
    "print(plat)"
   ]
  },
  {
   "cell_type": "code",
   "execution_count": null,
   "metadata": {},
   "outputs": [],
   "source": []
  },
  {
   "cell_type": "code",
   "execution_count": null,
   "metadata": {},
   "outputs": [],
   "source": []
  }
 ],
 "metadata": {
  "kernelspec": {
   "display_name": "Python 3",
   "language": "python",
   "name": "python3"
  },
  "language_info": {
   "codemirror_mode": {
    "name": "ipython",
    "version": 3
   },
   "file_extension": ".py",
   "mimetype": "text/x-python",
   "name": "python",
   "nbconvert_exporter": "python",
   "pygments_lexer": "ipython3",
   "version": "3.8.2"
  }
 },
 "nbformat": 4,
 "nbformat_minor": 4
}
