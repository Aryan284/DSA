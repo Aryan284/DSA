{
 "cells": [
  {
   "cell_type": "code",
   "execution_count": 2,
   "metadata": {},
   "outputs": [
    {
     "name": "stdout",
     "output_type": "stream",
     "text": [
      "defaultdict(<class 'list'>, {0: [1, 3], 3: [1, 4], 4: [2], 2: [1], 1: [5, 6]})\n",
      "BFS traversal is: \n",
      "0 1 "
     ]
    },
    {
     "ename": "IndexError",
     "evalue": "list index out of range",
     "output_type": "error",
     "traceback": [
      "\u001b[1;31m---------------------------------------------------------------------------\u001b[0m",
      "\u001b[1;31mIndexError\u001b[0m                                Traceback (most recent call last)",
      "\u001b[1;32m<ipython-input-2-6c598e41f6f7>\u001b[0m in \u001b[0;36m<module>\u001b[1;34m\u001b[0m\n\u001b[0;32m     33\u001b[0m     \u001b[0mprint\u001b[0m\u001b[1;33m(\u001b[0m\u001b[0mg\u001b[0m\u001b[1;33m.\u001b[0m\u001b[0mgraph\u001b[0m\u001b[1;33m)\u001b[0m\u001b[1;33m\u001b[0m\u001b[1;33m\u001b[0m\u001b[0m\n\u001b[0;32m     34\u001b[0m     \u001b[0mprint\u001b[0m\u001b[1;33m(\u001b[0m\u001b[1;34m\"BFS traversal is: \"\u001b[0m\u001b[1;33m)\u001b[0m\u001b[1;33m\u001b[0m\u001b[1;33m\u001b[0m\u001b[0m\n\u001b[1;32m---> 35\u001b[1;33m     \u001b[0mg\u001b[0m\u001b[1;33m.\u001b[0m\u001b[0mbfs\u001b[0m\u001b[1;33m(\u001b[0m\u001b[0mgraph\u001b[0m\u001b[1;33m,\u001b[0m \u001b[1;36m0\u001b[0m\u001b[1;33m)\u001b[0m\u001b[1;33m\u001b[0m\u001b[1;33m\u001b[0m\u001b[0m\n\u001b[0m",
      "\u001b[1;32m<ipython-input-2-6c598e41f6f7>\u001b[0m in \u001b[0;36mbfs\u001b[1;34m(self, graph, s)\u001b[0m\n\u001b[0;32m     17\u001b[0m             \u001b[0mprint\u001b[0m\u001b[1;33m(\u001b[0m\u001b[0ms\u001b[0m\u001b[1;33m,\u001b[0m \u001b[0mend\u001b[0m \u001b[1;33m=\u001b[0m \u001b[1;34m\" \"\u001b[0m\u001b[1;33m)\u001b[0m\u001b[1;33m\u001b[0m\u001b[1;33m\u001b[0m\u001b[0m\n\u001b[0;32m     18\u001b[0m             \u001b[1;32mfor\u001b[0m \u001b[0mi\u001b[0m \u001b[1;32min\u001b[0m \u001b[0mg\u001b[0m\u001b[1;33m.\u001b[0m\u001b[0mgraph\u001b[0m\u001b[1;33m[\u001b[0m\u001b[0ms\u001b[0m\u001b[1;33m]\u001b[0m\u001b[1;33m:\u001b[0m\u001b[1;33m\u001b[0m\u001b[1;33m\u001b[0m\u001b[0m\n\u001b[1;32m---> 19\u001b[1;33m                 \u001b[1;32mif\u001b[0m \u001b[0mvisited\u001b[0m\u001b[1;33m[\u001b[0m\u001b[0mi\u001b[0m\u001b[1;33m]\u001b[0m \u001b[1;33m==\u001b[0m \u001b[1;32mFalse\u001b[0m\u001b[1;33m:\u001b[0m\u001b[1;33m\u001b[0m\u001b[1;33m\u001b[0m\u001b[0m\n\u001b[0m\u001b[0;32m     20\u001b[0m                     \u001b[0mqueue\u001b[0m\u001b[1;33m.\u001b[0m\u001b[0mappend\u001b[0m\u001b[1;33m(\u001b[0m\u001b[0mi\u001b[0m\u001b[1;33m)\u001b[0m\u001b[1;33m\u001b[0m\u001b[1;33m\u001b[0m\u001b[0m\n\u001b[0;32m     21\u001b[0m                     \u001b[0mvisited\u001b[0m\u001b[1;33m[\u001b[0m\u001b[0mi\u001b[0m\u001b[1;33m]\u001b[0m \u001b[1;33m=\u001b[0m \u001b[1;32mTrue\u001b[0m\u001b[1;33m\u001b[0m\u001b[1;33m\u001b[0m\u001b[0m\n",
      "\u001b[1;31mIndexError\u001b[0m: list index out of range"
     ]
    }
   ],
   "source": [
    "from collections import defaultdict\n",
    "\n",
    "class graph:\n",
    "    def __init__(self):\n",
    "        self.graph = defaultdict(list)\n",
    "        \n",
    "    def addEdge(self, vertex, edge):\n",
    "        self.graph[vertex].append(edge)\n",
    "        \n",
    "    def bfs(self, graph, s):\n",
    "        visited = [False] * (max(g.graph) + 1)\n",
    "        queue = []\n",
    "        queue.append(s)\n",
    "        visited[s] = True\n",
    "        while queue:\n",
    "            s = queue.pop(0)\n",
    "            print(s, end = \" \")\n",
    "            for i in g.graph[s]:\n",
    "                if visited[i] == False:\n",
    "                    queue.append(i)\n",
    "                    visited[i] = True\n",
    "        \n",
    "if __name__==\"__main__\":\n",
    "    g = graph()\n",
    "    g.addEdge(0, 1)\n",
    "    g.addEdge(0, 3)\n",
    "    g.addEdge(3, 1)\n",
    "    g.addEdge(3, 4)\n",
    "    g.addEdge(4, 2)\n",
    "    g.addEdge(2, 1)\n",
    "    g.addEdge(1, 5)\n",
    "    g.addEdge(1, 6)\n",
    "    print(g.graph)\n",
    "    print(\"BFS traversal is: \")\n",
    "    g.bfs(graph, 0)"
   ]
  },
  {
   "cell_type": "markdown",
   "metadata": {},
   "source": [
    "### DFS "
   ]
  },
  {
   "cell_type": "code",
   "execution_count": 3,
   "metadata": {
    "scrolled": true
   },
   "outputs": [
    {
     "name": "stdout",
     "output_type": "stream",
     "text": [
      "defaultdict(<class 'list'>, {0: [1, 2], 1: [2], 2: [0, 3], 3: [3]})\n",
      "DFS traversal is: \n",
      "1 2 0 3 "
     ]
    }
   ],
   "source": [
    "from collections import defaultdict\n",
    "\n",
    "class graph:\n",
    "    def __init__(self):\n",
    "        self.graph = defaultdict(list)\n",
    "        \n",
    "    def addEdge(self, u, v):\n",
    "        self.graph[u].append(v)\n",
    "        \n",
    "    def helper(self, v, visited):\n",
    "        visited[v] = True\n",
    "        print(v, end = \" \")\n",
    "        for i in self.graph[v]:\n",
    "            if visited[i] == False:\n",
    "                self.helper(i, visited)\n",
    "                \n",
    "    def dfs(self, v):\n",
    "        visited = [False] * (max(g.graph) + 1)\n",
    "        self.helper(v, visited)\n",
    "\n",
    "if __name__==\"__main__\":\n",
    "    g = graph()\n",
    "    g.addEdge(0, 1)\n",
    "    g.addEdge(0, 2)\n",
    "    g.addEdge(1, 2)\n",
    "    g.addEdge(2, 0)\n",
    "    g.addEdge(2, 3)\n",
    "    g.addEdge(3, 3)\n",
    "    print(g.graph)       \n",
    "    print(\"DFS traversal is: \")\n",
    "    g.dfs(1)"
   ]
  },
  {
   "cell_type": "markdown",
   "metadata": {},
   "source": [
    "### Cycle in Directed Graph"
   ]
  },
  {
   "cell_type": "code",
   "execution_count": 2,
   "metadata": {},
   "outputs": [
    {
     "name": "stdout",
     "output_type": "stream",
     "text": [
      "defaultdict(<class 'list'>, {0: [1, 2], 1: [3]})\n",
      "False\n"
     ]
    }
   ],
   "source": [
    "from collections import defaultdict\n",
    "\n",
    "class graph:\n",
    "    def __init__(self, vertices):\n",
    "        self.graph = defaultdict(list)\n",
    "        self.V = vertices\n",
    "        \n",
    "    def addEdge(self, u, v):\n",
    "        self.graph[u].append(v)\n",
    "        \n",
    "    def helper(self, v, visited, recstack):\n",
    "        visited[v] = True\n",
    "        recstack[v] = True\n",
    "        for neigh in self.graph[v]:\n",
    "            if visited[neigh] == False:\n",
    "                if self.helper(neigh, visited, recstack) == True:\n",
    "                    return True\n",
    "            elif recstack[neigh] == True:\n",
    "                return True\n",
    "        recstack[v] = False\n",
    "        return False\n",
    "                \n",
    "    def iscyclic(self):\n",
    "        visited = [False] * self.V\n",
    "        recstack = [False] * self.V\n",
    "        for i in range(self.V):\n",
    "            if visited[i] == False:\n",
    "                if self.helper(i, visited, recstack) == True:\n",
    "                    return True\n",
    "        return False\n",
    "\n",
    "if __name__==\"__main__\":\n",
    "    g = graph(4)\n",
    "    g.addEdge(0, 1)\n",
    "    g.addEdge(0, 2)\n",
    "    g.addEdge(1, 3)\n",
    "    print(g.graph)\n",
    "    if g.iscyclic() == 1:\n",
    "        print(\"True\")\n",
    "    else:\n",
    "        print(\"False\")"
   ]
  },
  {
   "cell_type": "markdown",
   "metadata": {},
   "source": [
    "### Cycle in Undirected Graph"
   ]
  },
  {
   "cell_type": "code",
   "execution_count": 12,
   "metadata": {},
   "outputs": [
    {
     "name": "stdout",
     "output_type": "stream",
     "text": [
      "No\n"
     ]
    }
   ],
   "source": [
    "from collections import defaultdict\n",
    "class graph:\n",
    "    def __init__(self, vertices):\n",
    "        self.V = vertices\n",
    "        self.graph = defaultdict(list)\n",
    "        \n",
    "    def addedge(self, u, v):\n",
    "        self.graph[u].append(v)\n",
    "        self.graph[v].append(u)\n",
    "        \n",
    "    def iscyclic(self):\n",
    "        visited = [False] * self.V\n",
    "        for i in range(self.V):\n",
    "            if visited[i] == False:\n",
    "                if self.helper(i, visited, -1) == True:\n",
    "                    return True\n",
    "        return False\n",
    "    \n",
    "    def helper(self, v, visited, parent):\n",
    "        visited[v] = True\n",
    "        for neigh in (self.graph[v]):\n",
    "            if visited[neigh] == False:\n",
    "                if self.helper(neigh, visited, v):\n",
    "                    return True\n",
    "            elif parent != neigh:\n",
    "                return True\n",
    "        return False\n",
    "    \n",
    "if __name__==\"__main__\":\n",
    "    g = graph(5)\n",
    "    g.addedge(0, 1)\n",
    "    g.addedge(1, 2)\n",
    "    g.addedge(2, 3)\n",
    "    g.addedge(3, 4)\n",
    "    if g.iscyclic():\n",
    "        print(\"Yes\")\n",
    "    else:\n",
    "        print(\"No\")"
   ]
  },
  {
   "cell_type": "markdown",
   "metadata": {},
   "source": [
    "### Topological Sort"
   ]
  },
  {
   "cell_type": "code",
   "execution_count": 4,
   "metadata": {},
   "outputs": [
    {
     "name": "stdout",
     "output_type": "stream",
     "text": [
      "defaultdict(<class 'list'>, {1: [2, 3], 2: [4, 5], 3: [4]})\n",
      "[6, 1, 3, 2, 5, 4, 0]\n"
     ]
    }
   ],
   "source": [
    "from collections import defaultdict\n",
    "class graph:\n",
    "    def __init__(self, vertices):\n",
    "        self.V = vertices\n",
    "        self.graph = defaultdict(list)\n",
    "        \n",
    "    def addedge(self, u, v):\n",
    "        self.graph[u].append(v)\n",
    "        \n",
    "    def topological(self):\n",
    "        visited = [False] * self.V\n",
    "        stack = []\n",
    "        for i in range(self.V):\n",
    "            if visited[i] == False:\n",
    "                self.helper(i, visited, stack)\n",
    "        print(stack)\n",
    "        \n",
    "    def helper(self, v, visited, stack):\n",
    "        visited[v] = True\n",
    "        for neigh in self.graph[v]:\n",
    "            if visited[neigh] == False:\n",
    "                self.helper(neigh, visited, stack)\n",
    "        stack.insert(0, v)\n",
    "\n",
    "if __name__==\"__main__\":\n",
    "    g = graph(7)\n",
    "    g.addedge(1, 2)\n",
    "    g.addedge(1, 3)\n",
    "    g.addedge(2, 4)\n",
    "    g.addedge(2, 5)\n",
    "    g.addedge(3, 4)\n",
    "    print(g.graph)\n",
    "    g.topological()"
   ]
  },
  {
   "cell_type": "code",
   "execution_count": null,
   "metadata": {},
   "outputs": [],
   "source": []
  }
 ],
 "metadata": {
  "kernelspec": {
   "display_name": "Python 3",
   "language": "python",
   "name": "python3"
  },
  "language_info": {
   "codemirror_mode": {
    "name": "ipython",
    "version": 3
   },
   "file_extension": ".py",
   "mimetype": "text/x-python",
   "name": "python",
   "nbconvert_exporter": "python",
   "pygments_lexer": "ipython3",
   "version": "3.8.2"
  }
 },
 "nbformat": 4,
 "nbformat_minor": 4
}
