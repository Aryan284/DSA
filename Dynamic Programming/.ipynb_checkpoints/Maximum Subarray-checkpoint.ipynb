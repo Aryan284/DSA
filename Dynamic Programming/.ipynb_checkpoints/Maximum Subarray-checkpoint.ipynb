{
 "cells": [
  {
   "cell_type": "code",
   "execution_count": 7,
   "metadata": {},
   "outputs": [
    {
     "data": {
      "text/plain": [
       "1"
      ]
     },
     "execution_count": 7,
     "metadata": {},
     "output_type": "execute_result"
    }
   ],
   "source": [
    "nums = [1]\n",
    "def subarray(nums):\n",
    "    max_sum = nums[0]\n",
    "    for i in range(1, len(nums)):\n",
    "        if nums[i - 1] + nums[i] > nums[i]:\n",
    "            nums[i] = nums[i - 1] + nums[i]\n",
    "        max_sum = max(max_sum, nums[i])\n",
    "    return max_sum\n",
    "subarray(nums)"
   ]
  },
  {
   "cell_type": "code",
   "execution_count": null,
   "metadata": {},
   "outputs": [],
   "source": []
  }
 ],
 "metadata": {
  "kernelspec": {
   "display_name": "Python 3",
   "language": "python",
   "name": "python3"
  },
  "language_info": {
   "codemirror_mode": {
    "name": "ipython",
    "version": 3
   },
   "file_extension": ".py",
   "mimetype": "text/x-python",
   "name": "python",
   "nbconvert_exporter": "python",
   "pygments_lexer": "ipython3",
   "version": "3.8.2"
  }
 },
 "nbformat": 4,
 "nbformat_minor": 4
}
