{
 "cells": [
  {
   "cell_type": "code",
   "execution_count": 1,
   "metadata": {},
   "outputs": [
    {
     "data": {
      "text/plain": [
       "2"
      ]
     },
     "execution_count": 1,
     "metadata": {},
     "output_type": "execute_result"
    }
   ],
   "source": [
    "from collections import deque\n",
    "def mark_false(matrix, queue, m, n, count, visited):\n",
    "    x = [-1, -1, -1, 0, 1, 0, 1, 1]\n",
    "    y = [-1, 1, 0, -1, -1, 1, 0, 1]\n",
    "    while queue:\n",
    "        i, j = queue.popleft()\n",
    "        for k in range(len(x)):\n",
    "            if i + x[k] >= 0 and j + y[k] >= 0 and i + x[k] < m and j + y[k] < n:\n",
    "                if matrix[i + x[k]][j + y[k]] == 1 and visited[i + x[k]][j + y[k]] == True:\n",
    "                    queue.append([i + x[k], j + y[k]])\n",
    "                    visited[i + x[k]][j + y[k]] = False\n",
    "    if not queue:\n",
    "        count += 1\n",
    "        j -= 1\n",
    "        i = 0\n",
    "    return count, i, j\n",
    "def no_of_island(matrix):\n",
    "    m = len(matrix)\n",
    "    n = len(matrix[0])\n",
    "    visited = []\n",
    "    for i in range(m):\n",
    "        v = []\n",
    "        for j in range(n):\n",
    "            if matrix[i][j] == 1:\n",
    "                v.append(True)\n",
    "            else:\n",
    "                v.append(False)\n",
    "        visited.append(v)\n",
    "    i = count = 0\n",
    "    queue = deque()\n",
    "    while i < m:\n",
    "        j = 0\n",
    "        while j < n:\n",
    "            if matrix[i][j] == 1 and visited[i][j]:\n",
    "                visited[i][j] = False\n",
    "                queue.append([i, j])\n",
    "                count, i, j = mark_false(matrix, queue, m, n, count, visited)\n",
    "            j += 1\n",
    "        i += 1\n",
    "    return count\n",
    "no_of_island([[0, 0, 1, 1, 0],\n",
    "             [1, 0, 1, 1, 0],\n",
    "             [0, 1, 0, 0, 0],\n",
    "             [0, 0, 0, 0, 1],\n",
    "             [0, 0, 0, 1, 1]])"
   ]
  },
  {
   "cell_type": "code",
   "execution_count": 2,
   "metadata": {},
   "outputs": [
    {
     "name": "stdout",
     "output_type": "stream",
     "text": [
      "2\n"
     ]
    }
   ],
   "source": [
    "from collections import deque\n",
    "def mark_false(matrix, visited, i, j, m, n):\n",
    "    x = [-1, -1, -1, 0, 1, 0, 1, 1]\n",
    "    y = [-1, 1, 0, -1, -1, 1, 0, 1]\n",
    "    queue = deque()\n",
    "    queue.append([i, j])\n",
    "    visited[i][j] = True\n",
    "    while queue:\n",
    "        i, j = queue.popleft()\n",
    "        for k in range(len(x)):\n",
    "            if i + x[k] >= 0 and i + x[k] < m and j + y[k] >= 0 and j + y[k] < n:\n",
    "                if matrix[i + x[k]][j + y[k]] == 1 and not visited[i + x[k]][j + y[k]]:\n",
    "                    queue.append([i + x[k], j + y[k]])\n",
    "                    visited[i + x[k]][j + y[k]] = True\n",
    "\n",
    "def no_of_island(matrix):\n",
    "    count = 0\n",
    "    m = len(matrix)\n",
    "    n = len(matrix[0])\n",
    "    visited = [[False for _ in range(n)] for _ in range(m)]\n",
    "    for i in range(m):\n",
    "        for j in range(n):\n",
    "            if matrix[i][j] == 1 and not visited[i][j]:\n",
    "                mark_false(matrix, visited, i, j, m, n)\n",
    "                count += 1\n",
    "    return count\n",
    "\n",
    "if __name__==\"__main__\":\n",
    "            print(no_of_island([[0, 0, 1, 1, 0],\n",
    "                         [1, 0, 1, 1, 0],\n",
    "                         [0, 1, 0, 0, 0],\n",
    "                         [0, 0, 0, 0, 1],\n",
    "                         [0, 0, 0, 1, 1]]))"
   ]
  },
  {
   "cell_type": "code",
   "execution_count": null,
   "metadata": {},
   "outputs": [],
   "source": []
  }
 ],
 "metadata": {
  "kernelspec": {
   "display_name": "Python 3",
   "language": "python",
   "name": "python3"
  },
  "language_info": {
   "codemirror_mode": {
    "name": "ipython",
    "version": 3
   },
   "file_extension": ".py",
   "mimetype": "text/x-python",
   "name": "python",
   "nbconvert_exporter": "python",
   "pygments_lexer": "ipython3",
   "version": "3.8.2"
  }
 },
 "nbformat": 4,
 "nbformat_minor": 4
}
