{
 "cells": [
  {
   "cell_type": "code",
   "execution_count": 28,
   "metadata": {},
   "outputs": [
    {
     "data": {
      "text/plain": [
       "1"
      ]
     },
     "execution_count": 28,
     "metadata": {},
     "output_type": "execute_result"
    }
   ],
   "source": [
    "def productsub(arr):\n",
    "    n = len(arr)\n",
    "    count_neg = 0\n",
    "    count_zero = 0\n",
    "    max_neg = float(\"-inf\")\n",
    "    min_pos = float(\"inf\")\n",
    "    prod = 1\n",
    "    for i in range(len(arr)):\n",
    "        if len(arr) == 1:\n",
    "            return arr[0]\n",
    "        if arr[i] == 0:\n",
    "            count_zero += 1\n",
    "            prod *= arr[i]\n",
    "        if arr[i] < 0:\n",
    "            count_neg += 1\n",
    "            max_neg = max(max_neg, arr[i])\n",
    "            prod *= arr[i]\n",
    "        if arr[i] > 0:\n",
    "            min_pos = min(min_pos, arr[i])\n",
    "            prod *= arr[i]\n",
    "    if count_zero == n or (count_neg == 0 and count_zero > 0):\n",
    "        return 0\n",
    "    if count_neg == 0:\n",
    "        return min_pos\n",
    "    if (count_neg % 2) == 0 and count_neg != 0:\n",
    "        prod = prod//max_neg\n",
    "    return prod\n",
    "productsub([1])"
   ]
  },
  {
   "cell_type": "code",
   "execution_count": null,
   "metadata": {},
   "outputs": [],
   "source": [
    "# Cases:\n",
    "    # if arr[-1, -1, 4] i.e even number of negative number product is product divide max negative\n",
    "    # if arr[0, -1, 4]i.e if there is any zeros then product zero\n",
    "    # if arr[-1, -1, 4, -1] if there is odd negative then simply product\n",
    "    # if arr[1, 2, 3] if no negative no zeros then return min positive"
   ]
  }
 ],
 "metadata": {
  "kernelspec": {
   "display_name": "Python 3",
   "language": "python",
   "name": "python3"
  },
  "language_info": {
   "codemirror_mode": {
    "name": "ipython",
    "version": 3
   },
   "file_extension": ".py",
   "mimetype": "text/x-python",
   "name": "python",
   "nbconvert_exporter": "python",
   "pygments_lexer": "ipython3",
   "version": "3.8.2"
  }
 },
 "nbformat": 4,
 "nbformat_minor": 4
}
