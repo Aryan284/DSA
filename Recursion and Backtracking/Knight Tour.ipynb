{
 "cells": [
  {
   "cell_type": "code",
   "execution_count": null,
   "metadata": {},
   "outputs": [],
   "source": [
    "def valid_paths(i, j, board, n):\n",
    "    if i >= 0 and i < n and j >= 0 and j < n and board[i][j] == -1:\n",
    "        return True\n",
    "    return False\n",
    "def knight_tour(board, i, j, n, X, Y, count):\n",
    "    board[0][0] = 0\n",
    "    if count == n ** 2:\n",
    "        for i in board:\n",
    "            print(i)\n",
    "        return True\n",
    "    for k in range(n):\n",
    "        x = i + X[k]\n",
    "        y = j + Y[k]\n",
    "        if valid_paths(x, y, board, n):\n",
    "            board[x][y] = count\n",
    "            if knight_tour(board, x, y, n, X, Y, count + 1):\n",
    "                return True \n",
    "            board[x][y] = -1\n",
    "    return False\n",
    "knight_tour([[-1 for i in range(8)]for i in range(8)], 0, 0, 8, [2,2,-2,-2,1,1,-1,-1], [1,-1,-1,1,2,-2,-2,2], 1)"
   ]
  },
  {
   "cell_type": "code",
   "execution_count": null,
   "metadata": {},
   "outputs": [],
   "source": []
  },
  {
   "cell_type": "code",
   "execution_count": null,
   "metadata": {},
   "outputs": [],
   "source": [
    "def valid_paths(i, j, board):\n",
    "    n = 8\n",
    "    if i >= 0 and i < n and j >= 0 and j < n and board[i][j] == -1:\n",
    "        return True\n",
    "    return False\n",
    "def Print(n, board):\n",
    "    for i in range(n):\n",
    "        for j in range(n):\n",
    "            print(board[i][j], end = \" \")\n",
    "        print()\n",
    "def helper(n):\n",
    "    board = [[-1 for i in range(8)]for i in range(8)]\n",
    "    board[0][0] = 0\n",
    "    X = [2, 1, -1, -2, -2, -1, 1, 2]\n",
    "    Y = [1, 2, 2, 1, -1, -2, -2, -1]\n",
    "    if knight_tour(board, 0, 0, n, X, Y, 1):\n",
    "        Print(n, board)\n",
    "def knight_tour(board, i, j, n, X, Y, count):\n",
    "    if count == n ** 2:\n",
    "        return True\n",
    "    for k in range(n):\n",
    "        nx = i + X[k]\n",
    "        ny = j + Y[k]\n",
    "        if valid_paths(nx, ny, board):\n",
    "            board[nx][ny] = count\n",
    "            if knight_tour(board, nx, ny, n, X, Y, count + 1):\n",
    "                return True \n",
    "            board[nx][ny] = -1\n",
    "    return False\n",
    "helper(8)"
   ]
  },
  {
   "cell_type": "code",
   "execution_count": null,
   "metadata": {},
   "outputs": [],
   "source": []
  }
 ],
 "metadata": {
  "kernelspec": {
   "display_name": "Python 3",
   "language": "python",
   "name": "python3"
  },
  "language_info": {
   "codemirror_mode": {
    "name": "ipython",
    "version": 3
   },
   "file_extension": ".py",
   "mimetype": "text/x-python",
   "name": "python",
   "nbconvert_exporter": "python",
   "pygments_lexer": "ipython3",
   "version": "3.8.2"
  }
 },
 "nbformat": 4,
 "nbformat_minor": 4
}
