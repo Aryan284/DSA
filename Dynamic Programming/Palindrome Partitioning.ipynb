{
 "cells": [
  {
   "cell_type": "code",
   "execution_count": 8,
   "metadata": {},
   "outputs": [
    {
     "data": {
      "text/plain": [
       "4"
      ]
     },
     "execution_count": 8,
     "metadata": {},
     "output_type": "execute_result"
    }
   ],
   "source": [
    "## Recurisve Approach\n",
    "string = 'abcde'\n",
    "def ispalindrome(string):\n",
    "    i = 0\n",
    "    j = len(string) - 1\n",
    "    if i == j:\n",
    "        return True\n",
    "    if i > j:\n",
    "        return False\n",
    "    while i < j:\n",
    "        if string[i] != string[j]:\n",
    "            return False\n",
    "        i += 1\n",
    "        j -= 1\n",
    "    return True\n",
    "         \n",
    "def palindrome(string, i, j):\n",
    "    minval = float(\"inf\")\n",
    "    if i >= j or ispalindrome(string[i : j + 1]):\n",
    "        return 0\n",
    "    for k in range(i, j):\n",
    "        tempans = 1 + palindrome(string, i, k) + palindrome(string, k + 1, j)\n",
    "        minval = min(minval, tempans)\n",
    "    return minval\n",
    "palindrome(string, 0, len(string) - 1)"
   ]
  },
  {
   "cell_type": "code",
   "execution_count": 3,
   "metadata": {},
   "outputs": [
    {
     "data": {
      "text/plain": [
       "0"
      ]
     },
     "execution_count": 3,
     "metadata": {},
     "output_type": "execute_result"
    }
   ],
   "source": [
    "## Dp Approach\n",
    "string = \"a\"\n",
    "def ispalindrome(string):\n",
    "    i = 0\n",
    "    j = len(string) - 1\n",
    "    if i == j:\n",
    "        return True\n",
    "    if i > j:\n",
    "        return False\n",
    "    while i < j:\n",
    "        if string[i] != string[j]:\n",
    "            return False\n",
    "        i += 1\n",
    "        j -= 1\n",
    "    return True\n",
    "def palindrome(string, i, j):\n",
    "    tempans = 0\n",
    "    n = len(string)\n",
    "    dp = [[-1 for i in range(n + 1)] for j in range(n + 1)]\n",
    "    if i >= j or ispalindrome(string[i : j + 1]):\n",
    "        return 0\n",
    "    if dp[i][j] != -1:\n",
    "        return dp[i][j]\n",
    "    minval = j - i + 1\n",
    "    for k in range(i, j):\n",
    "        if dp[i][k] != -1:\n",
    "            left = dp[i][k]\n",
    "        else:\n",
    "            left = palindrome(string, i, k)\n",
    "            dp[i][k] = left\n",
    "        if dp[k + 1][j] != -1:\n",
    "            right = dp[k + 1][j]\n",
    "        else:\n",
    "            right = palindrome(string, k + 1, j)\n",
    "            dp[k + 1][j] = right\n",
    "        tempans = 1 + left + right\n",
    "        minval = min(minval, tempans)\n",
    "    dp[i][j] = minval\n",
    "    return dp[i][j]\n",
    "palindrome(string, 0, len(string)-1)"
   ]
  },
  {
   "cell_type": "code",
   "execution_count": null,
   "metadata": {},
   "outputs": [],
   "source": []
  }
 ],
 "metadata": {
  "kernelspec": {
   "display_name": "Python 3",
   "language": "python",
   "name": "python3"
  },
  "language_info": {
   "codemirror_mode": {
    "name": "ipython",
    "version": 3
   },
   "file_extension": ".py",
   "mimetype": "text/x-python",
   "name": "python",
   "nbconvert_exporter": "python",
   "pygments_lexer": "ipython3",
   "version": "3.8.2"
  }
 },
 "nbformat": 4,
 "nbformat_minor": 4
}
