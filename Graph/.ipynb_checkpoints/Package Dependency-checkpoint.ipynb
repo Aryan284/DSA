{
 "cells": [
  {
   "cell_type": "code",
   "execution_count": 1,
   "metadata": {
    "scrolled": true
   },
   "outputs": [
    {
     "name": "stdout",
     "output_type": "stream",
     "text": [
      "defaultdict(<class 'list'>, {1: [0], 0: [], 2: [1], 3: [2]})\n",
      "defaultdict(<class 'int'>, {0: 1, 1: 1, 2: 1, 3: 0})\n",
      "3 2 1 0 "
     ]
    }
   ],
   "source": [
    "from collections import defaultdict\n",
    "class graph:\n",
    "    def __init__(self):\n",
    "        self.graph = defaultdict(list)\n",
    "        self.mark = defaultdict(int)\n",
    "        \n",
    "    def addedge(self, u, v):\n",
    "        self.graph[u].append(v)\n",
    "        self.mark[v] += 1\n",
    "        if not self.mark[u]:\n",
    "            self.mark[u] = 0\n",
    "        if not self.graph[v]:\n",
    "            self.graph[v] = []\n",
    "            \n",
    "    def helper(self, v, visited):\n",
    "        \n",
    "        for i in self.graph[v]:\n",
    "            self.mark[i] -= 1\n",
    "            if self.mark[i] == 0:\n",
    "                if not visited[i]:\n",
    "                    print(i, end = \" \")\n",
    "                    visited[i] = 1\n",
    "                    self.helper(i, visited)        \n",
    "                    \n",
    "    def package(self):\n",
    "        visited = defaultdict(int)\n",
    "        for i in self.graph:\n",
    "            if self.mark[i] == 0:\n",
    "                if not visited[i]:\n",
    "                    if self.graph[i]:\n",
    "                        print(i, end = \" \")\n",
    "                        visited[i] = 1\n",
    "                        self.helper(i, visited)\n",
    "\n",
    "if __name__==\"__main__\":\n",
    "    g = graph()\n",
    "#     g.addedge('B', 'A')\n",
    "#     g.addedge('C', 'A')\n",
    "#     g.addedge('C', 'E')\n",
    "#     g.addedge('F', 'E')\n",
    "#     g.addedge('D', 'F')\n",
    "#     g.addedge('B', 'D')\n",
    "    g.addedge(1, 0)\n",
    "    g.addedge(2, 1)\n",
    "    g.addedge(3, 2)\n",
    "    print(g.graph)\n",
    "    print(g.mark)\n",
    "    (g.package())"
   ]
  },
  {
   "cell_type": "code",
   "execution_count": 11,
   "metadata": {},
   "outputs": [
    {
     "name": "stdout",
     "output_type": "stream",
     "text": [
      "defaultdict(<class 'list'>, {1: [0], 0: [], 2: [1], 3: [2]})\n",
      "defaultdict(<class 'int'>, {0: 1, 1: 1, 2: 1, 3: 0})\n",
      "1\n"
     ]
    }
   ],
   "source": [
    "from collections import defaultdict, deque\n",
    "class graph:\n",
    "    def __init__(self):\n",
    "        self.graph = defaultdict(list)\n",
    "        self.mark = defaultdict(int)\n",
    "        \n",
    "    def addedge(self, u, v):\n",
    "        self.graph[u].append(v)\n",
    "        self.mark[v] += 1\n",
    "        if not self.mark[u]:\n",
    "            self.mark[u] = 0\n",
    "        if not self.graph[v]:\n",
    "            self.graph[v] = []\n",
    "            \n",
    "    def helper(self, v, visited, count, queue):\n",
    "        while queue:\n",
    "            v = queue.popleft()\n",
    "            count += 1\n",
    "            for i in self.graph[v]:\n",
    "                self.mark[i] -= 1\n",
    "                if self.mark[i] == 0:\n",
    "                    if not visited[i]:\n",
    "                        queue.append(i)\n",
    "                        visited[i] = 1\n",
    "                        self.helper(i, visited, count, queue)        \n",
    "        return count\n",
    "    def package(self):\n",
    "        count = 0\n",
    "        queue = deque()\n",
    "        visited = defaultdict(int)\n",
    "        for i in self.graph:\n",
    "            if self.mark[i] == 0:\n",
    "                if not visited[i]:\n",
    "                    if self.graph[i]:\n",
    "                        queue.append(i)\n",
    "                        visited[i] = 1\n",
    "                        count = self.helper(i, visited, count ,queue)\n",
    "        return count\n",
    "if __name__==\"__main__\":\n",
    "    g = graph()\n",
    "#     g.addedge('B', 'A')\n",
    "#     g.addedge('C', 'A')\n",
    "#     g.addedge('C', 'E')\n",
    "#     g.addedge('F', 'E')\n",
    "#     g.addedge('D', 'F')\n",
    "#     g.addedge('B', 'D')\n",
    "    g.addedge(1, 0)\n",
    "    g.addedge(2, 1)\n",
    "    g.addedge(3, 2)\n",
    "    print(g.graph)\n",
    "    print(g.mark)\n",
    "    print(g.package())"
   ]
  },
  {
   "cell_type": "code",
   "execution_count": null,
   "metadata": {},
   "outputs": [],
   "source": []
  }
 ],
 "metadata": {
  "kernelspec": {
   "display_name": "Python 3",
   "language": "python",
   "name": "python3"
  },
  "language_info": {
   "codemirror_mode": {
    "name": "ipython",
    "version": 3
   },
   "file_extension": ".py",
   "mimetype": "text/x-python",
   "name": "python",
   "nbconvert_exporter": "python",
   "pygments_lexer": "ipython3",
   "version": "3.8.2"
  }
 },
 "nbformat": 4,
 "nbformat_minor": 4
}
