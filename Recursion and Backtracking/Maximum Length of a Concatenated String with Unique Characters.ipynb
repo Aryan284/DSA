{
 "cells": [
  {
   "cell_type": "code",
   "execution_count": null,
   "metadata": {},
   "outputs": [],
   "source": [
    "def maxLength(self, arr: List[str]) -> int:\n",
    "        self.maxval = 0\n",
    "        def backtrack(arr, idx, res):\n",
    "            if len(res) == len(set(res)):\n",
    "                self.maxval = max(self.maxval, len(res))\n",
    "            else:\n",
    "                return\n",
    "            for i in range(idx, len(arr)):\n",
    "                backtrack(arr, i + 1, res + arr[i])\n",
    "        backtrack(arr, 0, \"\")\n",
    "        return self.maxval"
   ]
  }
 ],
 "metadata": {
  "kernelspec": {
   "display_name": "Python 3",
   "language": "python",
   "name": "python3"
  },
  "language_info": {
   "codemirror_mode": {
    "name": "ipython",
    "version": 3
   },
   "file_extension": ".py",
   "mimetype": "text/x-python",
   "name": "python",
   "nbconvert_exporter": "python",
   "pygments_lexer": "ipython3",
   "version": "3.8.2"
  }
 },
 "nbformat": 4,
 "nbformat_minor": 4
}
