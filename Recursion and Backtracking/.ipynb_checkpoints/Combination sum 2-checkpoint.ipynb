{
 "cells": [
  {
   "cell_type": "code",
   "execution_count": 15,
   "metadata": {},
   "outputs": [
    {
     "data": {
      "text/plain": [
       "[[1, 1, 6], [1, 2, 5], [1, 7], [2, 6]]"
      ]
     },
     "execution_count": 15,
     "metadata": {},
     "output_type": "execute_result"
    }
   ],
   "source": [
    "arr = [10,1,2,7,6,1,5]\n",
    "target = 8\n",
    "def combination_sum(arr, target):\n",
    "    ans = []\n",
    "    res = []\n",
    "    arr.sort()\n",
    "    backtrack(res, 0, target, ans)\n",
    "    return ans\n",
    "def backtrack(res, idx, target, ans):\n",
    "    if target < 0:\n",
    "        return\n",
    "    if target == 0:\n",
    "        ans.append(res)\n",
    "        return\n",
    "    for i in range(idx, len(arr)):\n",
    "        if i > idx and arr[i] == arr[i - 1]:\n",
    "            continue\n",
    "        backtrack(res + [arr[i]], i + 1, target - arr[i], ans)\n",
    "combination_sum(arr, target)"
   ]
  },
  {
   "cell_type": "code",
   "execution_count": null,
   "metadata": {},
   "outputs": [],
   "source": []
  }
 ],
 "metadata": {
  "kernelspec": {
   "display_name": "Python 3",
   "language": "python",
   "name": "python3"
  },
  "language_info": {
   "codemirror_mode": {
    "name": "ipython",
    "version": 3
   },
   "file_extension": ".py",
   "mimetype": "text/x-python",
   "name": "python",
   "nbconvert_exporter": "python",
   "pygments_lexer": "ipython3",
   "version": "3.8.2"
  }
 },
 "nbformat": 4,
 "nbformat_minor": 4
}
