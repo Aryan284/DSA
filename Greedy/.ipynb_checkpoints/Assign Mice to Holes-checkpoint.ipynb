{
 "cells": [
  {
   "cell_type": "code",
   "execution_count": 3,
   "metadata": {},
   "outputs": [
    {
     "data": {
      "text/plain": [
       "102"
      ]
     },
     "execution_count": 3,
     "metadata": {},
     "output_type": "execute_result"
    }
   ],
   "source": [
    "mice = [-10, -79, -79, 67, 93, -85, -28, -94]\n",
    "hole = [-2, 9, 69, 25, -31, 23, 50, 78]\n",
    "def micehole(mice, hole):\n",
    "    if len(mice) != len(hole):\n",
    "        return -1\n",
    "    mice.sort()\n",
    "    hole.sort()\n",
    "    max = 0\n",
    "    for i in range(len(mice)):\n",
    "        if abs(mice[i] - hole[i]) > max:\n",
    "            max = abs(mice[i] - hole[i])\n",
    "    return max\n",
    "micehole(mice, hole)"
   ]
  },
  {
   "cell_type": "code",
   "execution_count": null,
   "metadata": {},
   "outputs": [],
   "source": []
  }
 ],
 "metadata": {
  "kernelspec": {
   "display_name": "Python 3",
   "language": "python",
   "name": "python3"
  },
  "language_info": {
   "codemirror_mode": {
    "name": "ipython",
    "version": 3
   },
   "file_extension": ".py",
   "mimetype": "text/x-python",
   "name": "python",
   "nbconvert_exporter": "python",
   "pygments_lexer": "ipython3",
   "version": "3.8.2"
  }
 },
 "nbformat": 4,
 "nbformat_minor": 4
}
