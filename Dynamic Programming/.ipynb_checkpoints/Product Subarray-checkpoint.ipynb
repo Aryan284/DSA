{
 "cells": [
  {
   "cell_type": "code",
   "execution_count": 8,
   "metadata": {},
   "outputs": [
    {
     "data": {
      "text/plain": [
       "10"
      ]
     },
     "execution_count": 8,
     "metadata": {},
     "output_type": "execute_result"
    }
   ],
   "source": [
    "nums = [-2,0,-1,5,2,-2,9]\n",
    "def maximum_sub(nums):\n",
    "    max_so_far = -1\n",
    "    max_end = 1\n",
    "    for i in range(len(nums)):\n",
    "        max_end = max_end * nums[i]\n",
    "        if max_so_far < max_end:\n",
    "            max_so_far = max_end\n",
    "        if max_end <1:\n",
    "            max_end = 1\n",
    "    return max_so_far\n",
    "maximum_sub(nums)"
   ]
  },
  {
   "cell_type": "code",
   "execution_count": null,
   "metadata": {},
   "outputs": [],
   "source": []
  }
 ],
 "metadata": {
  "kernelspec": {
   "display_name": "Python 3",
   "language": "python",
   "name": "python3"
  },
  "language_info": {
   "codemirror_mode": {
    "name": "ipython",
    "version": 3
   },
   "file_extension": ".py",
   "mimetype": "text/x-python",
   "name": "python",
   "nbconvert_exporter": "python",
   "pygments_lexer": "ipython3",
   "version": "3.8.2"
  }
 },
 "nbformat": 4,
 "nbformat_minor": 4
}
