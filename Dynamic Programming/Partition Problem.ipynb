{
 "cells": [
  {
   "cell_type": "code",
   "execution_count": 5,
   "metadata": {},
   "outputs": [
    {
     "data": {
      "text/plain": [
       "False"
      ]
     },
     "execution_count": 5,
     "metadata": {},
     "output_type": "execute_result"
    }
   ],
   "source": [
    "## Dp\n",
    "def partition(arr, n):\n",
    "    sum = 0\n",
    "    for i in range(len(arr)):\n",
    "        sum += arr[i]\n",
    "    if sum % 2 != 0:\n",
    "        return False\n",
    "    dp = [[True for i in range(sum//2 + 1)] for j in range(n + 1)]\n",
    "    for i in range(1, sum//2 + 1):\n",
    "        dp[0][i] = False\n",
    "    for i in range(0, n + 1):\n",
    "        dp[i][0] = True\n",
    "    for i in range(1, n + 1):\n",
    "        for j in range(1, sum//2 + 1):\n",
    "            if arr[i - 1] <= j:\n",
    "                dp[i][j] = dp[i - 1][j] or dp[i - 1][j - arr[i - 1]]\n",
    "            else:\n",
    "                dp[i][j] = dp[i - 1][j]\n",
    "#     for i in dp:\n",
    "    print(dp)\n",
    "    return dp[n][sum//2]\n",
    "partition([1,2,3,5], 4)"
   ]
  },
  {
   "cell_type": "code",
   "execution_count": 7,
   "metadata": {},
   "outputs": [
    {
     "data": {
      "text/plain": [
       "False"
      ]
     },
     "execution_count": 7,
     "metadata": {},
     "output_type": "execute_result"
    }
   ],
   "source": [
    "## Recursive Approach\n",
    "arr = [4, 3, 2, 3, 5, 2]\n",
    "def partition(arr, n):\n",
    "    sum = 0\n",
    "    for i in range(0, n):\n",
    "        sum += arr[i]\n",
    "    if sum % 2 != 0:\n",
    "        return False\n",
    "    else:\n",
    "        return issubset(arr, sum//4, n)\n",
    "def issubset(arr, sum, n):\n",
    "    if n == 0 and sum != 0:\n",
    "        return False\n",
    "    if sum == 0:\n",
    "        return True\n",
    "    if arr[n - 1] > sum:\n",
    "        return issubset(arr, sum, n - 1)\n",
    "    return issubset(arr, sum - arr[n -1], n - 1) or issubset(arr, sum, n - 1)\n",
    "partition(arr, len(arr))"
   ]
  },
  {
   "cell_type": "code",
   "execution_count": null,
   "metadata": {},
   "outputs": [],
   "source": []
  }
 ],
 "metadata": {
  "kernelspec": {
   "display_name": "Python 3",
   "language": "python",
   "name": "python3"
  },
  "language_info": {
   "codemirror_mode": {
    "name": "ipython",
    "version": 3
   },
   "file_extension": ".py",
   "mimetype": "text/x-python",
   "name": "python",
   "nbconvert_exporter": "python",
   "pygments_lexer": "ipython3",
   "version": "3.8.2"
  }
 },
 "nbformat": 4,
 "nbformat_minor": 4
}
