{
 "cells": [
  {
   "cell_type": "code",
   "execution_count": 1,
   "metadata": {},
   "outputs": [
    {
     "name": "stdout",
     "output_type": "stream",
     "text": [
      "[[60, 10, 6.0], [100, 20, 5.0], [120, 30, 4.0], [200, 70, 2.86], [150, 60, 2.5], [40, 40, 1.0]]\n",
      "394.29\n"
     ]
    }
   ],
   "source": [
    "import operator\n",
    "profit = [60, 40, 100, 120, 150, 200]\n",
    "obj = [10, 40, 20, 30, 60, 70]\n",
    "maxweight = 100\n",
    "n = 6\n",
    "arr = []\n",
    "for i in range(n):\n",
    "    arr.append([profit[i], obj[i], round(profit[i]/obj[i],2)])\n",
    "arr = sorted(arr, reverse = True, key = operator.itemgetter(2))\n",
    "print(arr)\n",
    "profitmax = 0\n",
    "fracobj = 0\n",
    "for i in range(n):\n",
    "    if maxweight > 0 and arr[i][1] < maxweight:\n",
    "        maxweight -= arr[i][1]\n",
    "        profitmax += arr[i][0]\n",
    "    else:\n",
    "        fracobj = i\n",
    "        break\n",
    "if maxweight > 0:\n",
    "    profitmax += maxweight * (arr[fracobj][0]/arr[fracobj][1])\n",
    "print(round(profitmax, 2))"
   ]
  },
  {
   "cell_type": "code",
   "execution_count": null,
   "metadata": {},
   "outputs": [],
   "source": []
  }
 ],
 "metadata": {
  "kernelspec": {
   "display_name": "Python 3",
   "language": "python",
   "name": "python3"
  },
  "language_info": {
   "codemirror_mode": {
    "name": "ipython",
    "version": 3
   },
   "file_extension": ".py",
   "mimetype": "text/x-python",
   "name": "python",
   "nbconvert_exporter": "python",
   "pygments_lexer": "ipython3",
   "version": "3.8.2"
  }
 },
 "nbformat": 4,
 "nbformat_minor": 4
}
