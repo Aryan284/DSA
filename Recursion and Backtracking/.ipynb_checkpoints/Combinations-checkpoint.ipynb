{
 "cells": [
  {
   "cell_type": "code",
   "execution_count": 3,
   "metadata": {},
   "outputs": [
    {
     "data": {
      "text/plain": [
       "[[1, 2], [1, 3], [1, 4], [2, 3], [2, 4], [3, 4]]"
      ]
     },
     "execution_count": 3,
     "metadata": {},
     "output_type": "execute_result"
    }
   ],
   "source": [
    "n = 4\n",
    "k = 2\n",
    "def combinations(n, k):\n",
    "    ans = []\n",
    "    res = []\n",
    "    backtrack(res, 1, k, ans)\n",
    "    return ans\n",
    "def backtrack(res, idx, k, ans):\n",
    "    if k < 0:\n",
    "        return\n",
    "    if k == 0:\n",
    "        ans.append(res)\n",
    "        return\n",
    "    for i in range(idx, n + 1):\n",
    "        backtrack(res + [i], i + 1, k - 1, ans)\n",
    "combinations(n, k)"
   ]
  },
  {
   "cell_type": "code",
   "execution_count": null,
   "metadata": {},
   "outputs": [],
   "source": []
  }
 ],
 "metadata": {
  "kernelspec": {
   "display_name": "Python 3",
   "language": "python",
   "name": "python3"
  },
  "language_info": {
   "codemirror_mode": {
    "name": "ipython",
    "version": 3
   },
   "file_extension": ".py",
   "mimetype": "text/x-python",
   "name": "python",
   "nbconvert_exporter": "python",
   "pygments_lexer": "ipython3",
   "version": "3.8.2"
  }
 },
 "nbformat": 4,
 "nbformat_minor": 4
}
