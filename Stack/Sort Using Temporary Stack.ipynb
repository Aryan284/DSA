{
 "cells": [
  {
   "cell_type": "code",
   "execution_count": 19,
   "metadata": {},
   "outputs": [
    {
     "name": "stdout",
     "output_type": "stream",
     "text": [
      "23 92 98 31 3 34 \n",
      "\n",
      "98 92 34 31 23 3 "
     ]
    }
   ],
   "source": [
    "def create():\n",
    "    stack = []\n",
    "    return stack\n",
    "def push(stack, res):\n",
    "    stack.append(res)\n",
    "def pop(stack):\n",
    "    if stack ==[]:\n",
    "        return None\n",
    "    else:\n",
    "        ele = stack.pop()\n",
    "        return ele\n",
    "def isempty(stack):\n",
    "    if stack == []:\n",
    "        return True\n",
    "    else:\n",
    "        return False\n",
    "def top(stack):\n",
    "    if isempty(stack):\n",
    "        return None\n",
    "    else:\n",
    "        return stack[-1]\n",
    "def sortstack(stack):\n",
    "    tempstack = create()\n",
    "    while isempty(stack) == False:\n",
    "        temp = pop(stack)\n",
    "        while isempty(tempstack) == False and top(tempstack) > temp:\n",
    "            push(stack, top(tempstack))\n",
    "            pop(tempstack)\n",
    "        push(tempstack, temp)\n",
    "    return tempstack\n",
    "def Print(stack):\n",
    "    for i in range(len(stack) - 1, -1, -1):\n",
    "        print(stack[i], end = \" \")\n",
    "    \n",
    "    \n",
    "    \n",
    "if __name__=='__main__':\n",
    "    stack = create()\n",
    "    push(stack, 34)\n",
    "    push(stack, 3)\n",
    "    push(stack, 31)\n",
    "    push(stack, 98)\n",
    "    push(stack, 92)\n",
    "    push(stack, 23)\n",
    "    Print(stack)\n",
    "    temp1 = sortstack(stack)\n",
    "    print('\\n')\n",
    "    Print(temp1)"
   ]
  },
  {
   "cell_type": "code",
   "execution_count": null,
   "metadata": {},
   "outputs": [],
   "source": []
  },
  {
   "cell_type": "code",
   "execution_count": null,
   "metadata": {},
   "outputs": [],
   "source": []
  }
 ],
 "metadata": {
  "kernelspec": {
   "display_name": "Python 3",
   "language": "python",
   "name": "python3"
  },
  "language_info": {
   "codemirror_mode": {
    "name": "ipython",
    "version": 3
   },
   "file_extension": ".py",
   "mimetype": "text/x-python",
   "name": "python",
   "nbconvert_exporter": "python",
   "pygments_lexer": "ipython3",
   "version": "3.8.2"
  }
 },
 "nbformat": 4,
 "nbformat_minor": 4
}
