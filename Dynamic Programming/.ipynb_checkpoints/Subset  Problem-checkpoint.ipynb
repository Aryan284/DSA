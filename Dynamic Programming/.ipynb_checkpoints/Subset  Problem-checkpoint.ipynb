{
 "cells": [
  {
   "cell_type": "code",
   "execution_count": 17,
   "metadata": {},
   "outputs": [
    {
     "data": {
      "text/plain": [
       "True"
      ]
     },
     "execution_count": 17,
     "metadata": {},
     "output_type": "execute_result"
    }
   ],
   "source": [
    "## Dp Approach\n",
    "def issubset(arr, sum, n):\n",
    "    dp = [[False for i in range(sum + 1)] for j in range(n + 1)]\n",
    "    for i in range(n + 1):\n",
    "        dp[i][0] = True\n",
    "    for i in range(1, sum + 1):\n",
    "        dp[0][i] = False\n",
    "    for i in range(1, n + 1):\n",
    "        for j in range(1, sum + 1):\n",
    "            if arr[i - 1] <= j:\n",
    "                dp[i][j] = (dp[i - 1][j] or dp[i - 1][j - arr[i - 1]])\n",
    "            elif arr[i - 1] > j:\n",
    "                dp[i][j] = dp[i -1][j]\n",
    "    return dp[n][sum]\n",
    "issubset([3,34,4,12,5,2], 9, len(arr))"
   ]
  },
  {
   "cell_type": "code",
   "execution_count": null,
   "metadata": {},
   "outputs": [],
   "source": [
    "## Recurisve Approach\n",
    "arr = [3, 34, 4, 12, 5, 2]\n",
    "sum = 30\n",
    "def issubset(arr, sum, n):\n",
    "    if n == 0:\n",
    "        return False\n",
    "    if sum == 0:\n",
    "        return True\n",
    "    if arr[n - 1] > sum:\n",
    "        return issubset(arr, sum, n - 1)\n",
    "    elif arr[n - 1] <= sum:\n",
    "        return issubset(arr, sum - arr[n - 1], n - 1) or issubset(arr, sum, n - 1)\n",
    "issubset(arr, sum, len(arr))"
   ]
  }
 ],
 "metadata": {
  "kernelspec": {
   "display_name": "Python 3",
   "language": "python",
   "name": "python3"
  },
  "language_info": {
   "codemirror_mode": {
    "name": "ipython",
    "version": 3
   },
   "file_extension": ".py",
   "mimetype": "text/x-python",
   "name": "python",
   "nbconvert_exporter": "python",
   "pygments_lexer": "ipython3",
   "version": "3.8.2"
  }
 },
 "nbformat": 4,
 "nbformat_minor": 4
}
