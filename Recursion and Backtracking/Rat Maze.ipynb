{
 "cells": [
  {
   "cell_type": "code",
   "execution_count": 53,
   "metadata": {},
   "outputs": [
    {
     "name": "stdout",
     "output_type": "stream",
     "text": [
      "[1, 0, 0, 0, 0]\n",
      "[1, 1, 1, 1, 0]\n",
      "[0, 0, 0, 1, 0]\n",
      "[0, 0, 0, 1, 1]\n",
      "[0, 0, 0, 0, 1]\n"
     ]
    },
    {
     "data": {
      "text/plain": [
       "True"
      ]
     },
     "execution_count": 53,
     "metadata": {},
     "output_type": "execute_result"
    }
   ],
   "source": [
    "def valid_paths(maze, i, j, m, n):\n",
    "    if i < m and j < n and maze[i][j] == 0:\n",
    "        return True\n",
    "    return False\n",
    "\n",
    "def rat_maze(maze, i, j, m, n, arr):\n",
    "    if arr[-1][-1] == 1:\n",
    "        for i in arr:\n",
    "            print(i)\n",
    "        return True   \n",
    "    if valid_paths(maze, i, j, m, n):\n",
    "        arr[i][j] = 1\n",
    "        if rat_maze(maze, i, j + 1, m , n, arr):\n",
    "            return True\n",
    "        if rat_maze(maze, i + 1, j, m , n, arr):\n",
    "            return True\n",
    "        arr[i][j] = 0\n",
    "        return False\n",
    "\n",
    "rat_maze([[0,1,0,1,1],\n",
    "         [0,0,0,0,0],\n",
    "         [1,0,1,0,1],\n",
    "         [0,0,1,0,0],\n",
    "         [1,0,0,1,0]], 0, 0, len(maze), len(maze[0]), arr = [[0 for _ in range(len(maze[0]))] for _ in range(len(maze))])\n"
   ]
  },
  {
   "cell_type": "code",
   "execution_count": null,
   "metadata": {},
   "outputs": [],
   "source": []
  }
 ],
 "metadata": {
  "kernelspec": {
   "display_name": "Python 3",
   "language": "python",
   "name": "python3"
  },
  "language_info": {
   "codemirror_mode": {
    "name": "ipython",
    "version": 3
   },
   "file_extension": ".py",
   "mimetype": "text/x-python",
   "name": "python",
   "nbconvert_exporter": "python",
   "pygments_lexer": "ipython3",
   "version": "3.8.2"
  }
 },
 "nbformat": 4,
 "nbformat_minor": 4
}
