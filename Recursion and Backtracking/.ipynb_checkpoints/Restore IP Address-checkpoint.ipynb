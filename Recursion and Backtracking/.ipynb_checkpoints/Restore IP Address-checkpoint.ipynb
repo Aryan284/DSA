{
 "cells": [
  {
   "cell_type": "code",
   "execution_count": 2,
   "metadata": {},
   "outputs": [
    {
     "data": {
      "text/plain": [
       "['255.255.11.135', '255.255.111.35']"
      ]
     },
     "execution_count": 2,
     "metadata": {},
     "output_type": "execute_result"
    }
   ],
   "source": [
    "def restore(s):\n",
    "    def backtrack(s, path, idx, res):\n",
    "        if idx > 4:\n",
    "            return\n",
    "        if idx == 4 and not s:\n",
    "            res.append(path[:-1])\n",
    "        for i in range(1, len(s) + 1):\n",
    "            if s[:i] == 0 or (s[0] != 0 and 0 < int(s[:i]) < 256):\n",
    "                backtrack(s[i:], path + s[:i] + \".\", idx + 1, res)\n",
    "    res = []\n",
    "    backtrack(s, \"\", 0, res)\n",
    "    return res\n",
    "restore(\"25525511135\")"
   ]
  },
  {
   "cell_type": "code",
   "execution_count": null,
   "metadata": {},
   "outputs": [],
   "source": []
  }
 ],
 "metadata": {
  "kernelspec": {
   "display_name": "Python 3",
   "language": "python",
   "name": "python3"
  },
  "language_info": {
   "codemirror_mode": {
    "name": "ipython",
    "version": 3
   },
   "file_extension": ".py",
   "mimetype": "text/x-python",
   "name": "python",
   "nbconvert_exporter": "python",
   "pygments_lexer": "ipython3",
   "version": "3.8.2"
  }
 },
 "nbformat": 4,
 "nbformat_minor": 4
}
