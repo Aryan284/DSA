{
 "cells": [
  {
   "cell_type": "code",
   "execution_count": 5,
   "metadata": {},
   "outputs": [
    {
     "name": "stdout",
     "output_type": "stream",
     "text": [
      "5 4 3 2 1 \n",
      "\n",
      "5 4 2 1 "
     ]
    }
   ],
   "source": [
    "def create():\n",
    "    stack = []\n",
    "    return stack\n",
    "def push(stack, res):\n",
    "    stack.append(res)\n",
    "def pop(stack):\n",
    "    if stack ==[]:\n",
    "        return None\n",
    "    else:\n",
    "        ele = stack.pop()\n",
    "        return ele\n",
    "def isempty(stack):\n",
    "    if stack == []:\n",
    "        return True\n",
    "    else:\n",
    "        return False\n",
    "def top(stack):\n",
    "    if isempty(stack):\n",
    "        return None\n",
    "    else:\n",
    "        return stack[-1]\n",
    "    \n",
    "def Print(stack):\n",
    "    for i in range(len(stack) - 1, -1, -1):\n",
    "        print(stack[i], end = \" \")\n",
    "    \n",
    "def delete(stack, curr, n):\n",
    "    if isempty(stack) or curr == n:\n",
    "        return\n",
    "    temp = pop(stack)\n",
    "    delete(stack, curr + 1, n)\n",
    "    if curr != n//2:\n",
    "        push(stack, temp)\n",
    "\n",
    "        \n",
    "if __name__=='__main__':\n",
    "    stack = create()\n",
    "    push(stack, 1)\n",
    "    push(stack, 2)\n",
    "    push(stack, 3)\n",
    "    push(stack, 4)\n",
    "    push(stack, 5)\n",
    "    Print(stack)\n",
    "    delete(stack, 0, len(stack))\n",
    "    print('\\n')\n",
    "    Print(stack)"
   ]
  },
  {
   "cell_type": "code",
   "execution_count": null,
   "metadata": {},
   "outputs": [],
   "source": []
  }
 ],
 "metadata": {
  "kernelspec": {
   "display_name": "Python 3",
   "language": "python",
   "name": "python3"
  },
  "language_info": {
   "codemirror_mode": {
    "name": "ipython",
    "version": 3
   },
   "file_extension": ".py",
   "mimetype": "text/x-python",
   "name": "python",
   "nbconvert_exporter": "python",
   "pygments_lexer": "ipython3",
   "version": "3.8.2"
  }
 },
 "nbformat": 4,
 "nbformat_minor": 4
}
