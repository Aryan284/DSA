{
 "cells": [
  {
   "cell_type": "code",
   "execution_count": 44,
   "metadata": {},
   "outputs": [
    {
     "name": "stdout",
     "output_type": "stream",
     "text": [
      "Cycle Found\n",
      "defaultdict(<class 'list'>, {0: [1], 1: [2], 2: [0]})\n",
      "defaultdict(<class 'int'>, {0: 1, 1: 1, 2: 1})\n"
     ]
    }
   ],
   "source": [
    "## For Directed Graph\n",
    "from collections import defaultdict\n",
    "class graph:\n",
    "    def __init__(self):\n",
    "        self.graph = defaultdict(list)\n",
    "    def addEdge(self, u, v):\n",
    "        self.graph[u].append(v)\n",
    "        if not self.graph[v]:\n",
    "            self.graph[v] = []\n",
    "    def cycle(self, v, visited):\n",
    "        visited[v] = 1\n",
    "        for i in self.graph[v]:\n",
    "            if visited[i]:\n",
    "                return \"Cycle Found\"\n",
    "            return self.cycle(i, visited)\n",
    "        return \"No cycle\"\n",
    "if __name__==\"__main__\":\n",
    "    g = graph()\n",
    "    g.addEdge(0, 1)\n",
    "    g.addEdge(2, 0)\n",
    "    g.addEdge(1, 2)\n",
    "    visited = defaultdict(int)\n",
    "    for i in g.graph:\n",
    "        if not visited[i]:\n",
    "            res = g.cycle(i, visited)\n",
    "    print(res)\n",
    "    print(g.graph)\n",
    "    print(visited)"
   ]
  },
  {
   "cell_type": "code",
   "execution_count": 1,
   "metadata": {},
   "outputs": [
    {
     "name": "stdout",
     "output_type": "stream",
     "text": [
      "No cycle\n",
      "defaultdict(<class 'list'>, {0: [1], 1: [0, 2], 2: [1, 3], 3: [2, 4], 4: [3]})\n"
     ]
    }
   ],
   "source": [
    "## For Undirected Graph\n",
    "from collections import defaultdict\n",
    "class graph:\n",
    "    def __init__(self):\n",
    "        self.graph = defaultdict(list)\n",
    "    def addedge(self, u, v):\n",
    "        self.graph[u].append(v)\n",
    "        self.graph[v].append(u)\n",
    "    def cycle(self, v, visited, parent = -1):\n",
    "        visited[v] = 1\n",
    "        for i in self.graph[v]:\n",
    "            if i == parent and parent != -1:\n",
    "                continue\n",
    "            if visited[i]:\n",
    "                return \"Cycle Found\"\n",
    "            return self.cycle(i, visited, v)\n",
    "        return \"No cycle\"\n",
    "\n",
    "if __name__==\"__main__\":\n",
    "    g = graph()\n",
    "    g.addedge(0, 1)\n",
    "    g.addedge(1, 2)\n",
    "    g.addedge(2, 3)\n",
    "    g.addedge(3, 4)\n",
    "    visited = defaultdict(int)\n",
    "    for i in g.graph:\n",
    "        if not visited[i]:\n",
    "            res = g.cycle(i, visited)\n",
    "    print(res)\n",
    "    print(g.graph)"
   ]
  },
  {
   "cell_type": "code",
   "execution_count": null,
   "metadata": {},
   "outputs": [],
   "source": []
  }
 ],
 "metadata": {
  "kernelspec": {
   "display_name": "Python 3",
   "language": "python",
   "name": "python3"
  },
  "language_info": {
   "codemirror_mode": {
    "name": "ipython",
    "version": 3
   },
   "file_extension": ".py",
   "mimetype": "text/x-python",
   "name": "python",
   "nbconvert_exporter": "python",
   "pygments_lexer": "ipython3",
   "version": "3.8.2"
  }
 },
 "nbformat": 4,
 "nbformat_minor": 4
}
