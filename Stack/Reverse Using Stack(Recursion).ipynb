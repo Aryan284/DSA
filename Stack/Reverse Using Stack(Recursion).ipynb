{
 "cells": [
  {
   "cell_type": "code",
   "execution_count": 25,
   "metadata": {},
   "outputs": [
    {
     "name": "stdout",
     "output_type": "stream",
     "text": [
      "1 2 3 4 \n",
      "\n",
      "4 3 2 1 "
     ]
    }
   ],
   "source": [
    "def create():\n",
    "    stack = []\n",
    "    return stack\n",
    "def push(stack, res):\n",
    "    stack.append(res)\n",
    "    return stack\n",
    "def pop(stack):\n",
    "    if isempty(stack):\n",
    "        return None\n",
    "    else:\n",
    "        ele = stack.pop()\n",
    "        return ele\n",
    "def isempty(stack):\n",
    "    if stack ==[]:\n",
    "        return True\n",
    "    else:\n",
    "        return False\n",
    "def insert(stack, item):\n",
    "    if isempty(stack):\n",
    "        push(stack, item)\n",
    "    else:\n",
    "        temp = pop(stack)\n",
    "        insert(stack, item)\n",
    "        push(stack, temp)\n",
    "def reverse(stack):\n",
    "    if not isempty(stack):\n",
    "        temp = pop(stack)\n",
    "        reverse(stack)\n",
    "        insert(stack, temp)\n",
    "def Print(stack):\n",
    "    for i in range(len(stack) - 1, -1, -1):\n",
    "        print(stack[i], end = \" \")\n",
    "        \n",
    "if __name__==\"__main__\":\n",
    "    stack = create()\n",
    "    push(stack, 4)\n",
    "    push(stack, 3)\n",
    "    push(stack, 2)\n",
    "    push(stack, 1)\n",
    "    Print(stack)\n",
    "    reverse(stack)\n",
    "    print(\"\\n\")\n",
    "    Print(stack)"
   ]
  },
  {
   "cell_type": "markdown",
   "metadata": {},
   "source": [
    "### Sorting Using Stack(Recursion)"
   ]
  },
  {
   "cell_type": "code",
   "execution_count": 29,
   "metadata": {},
   "outputs": [
    {
     "name": "stdout",
     "output_type": "stream",
     "text": [
      "7 2 5 4 \n",
      "\n",
      "2 4 5 7 "
     ]
    }
   ],
   "source": [
    "def create():\n",
    "    stack = []\n",
    "    return stack\n",
    "def push(stack, res):\n",
    "    stack.append(res)\n",
    "def pop(stack):\n",
    "    if stack == []:\n",
    "        return None\n",
    "    else:\n",
    "        ele = stack.pop()\n",
    "        return ele\n",
    "def isempty(stack):\n",
    "    if stack == []:\n",
    "        return True\n",
    "    else:\n",
    "        return False\n",
    "def sortstack(stack):\n",
    "    if not isempty(stack):\n",
    "        temp = pop(stack)\n",
    "        sortstack(stack)\n",
    "        insert(stack, temp)\n",
    "def insert(stack, item):\n",
    "    if isempty(stack) or item < stack[-1]:\n",
    "        push(stack, item)\n",
    "    else:\n",
    "        temp = pop(stack)\n",
    "        insert(stack, item)\n",
    "        push(stack, temp)\n",
    "\n",
    "        \n",
    "def Print(stack):\n",
    "    for i in range(len(stack) - 1, -1, -1):\n",
    "        print(stack[i], end = \" \")\n",
    "        \n",
    "if __name__==\"__main__\":\n",
    "    stack = create()\n",
    "    push(stack, 4)\n",
    "    push(stack, 5)\n",
    "    push(stack, 2)\n",
    "    push(stack, 7)\n",
    "    Print(stack)\n",
    "    sortstack(stack)\n",
    "    print(\"\\n\")\n",
    "    Print(stack)"
   ]
  },
  {
   "cell_type": "code",
   "execution_count": null,
   "metadata": {},
   "outputs": [],
   "source": []
  }
 ],
 "metadata": {
  "kernelspec": {
   "display_name": "Python 3",
   "language": "python",
   "name": "python3"
  },
  "language_info": {
   "codemirror_mode": {
    "name": "ipython",
    "version": 3
   },
   "file_extension": ".py",
   "mimetype": "text/x-python",
   "name": "python",
   "nbconvert_exporter": "python",
   "pygments_lexer": "ipython3",
   "version": "3.8.2"
  }
 },
 "nbformat": 4,
 "nbformat_minor": 4
}
