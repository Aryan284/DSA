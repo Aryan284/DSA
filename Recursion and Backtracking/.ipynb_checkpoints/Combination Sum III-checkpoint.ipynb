{
 "cells": [
  {
   "cell_type": "code",
   "execution_count": 16,
   "metadata": {},
   "outputs": [
    {
     "data": {
      "text/plain": [
       "[[1, 2, 6], [1, 3, 5], [2, 3, 4]]"
      ]
     },
     "execution_count": 16,
     "metadata": {},
     "output_type": "execute_result"
    }
   ],
   "source": [
    "def combination_sum(n, k):\n",
    "    def backtrack(res, k, n, idx, ans):\n",
    "        if k < 0:\n",
    "            return\n",
    "        if len(res) == k and n == 0:\n",
    "            ans.append(res)\n",
    "            return \n",
    "        for i in range(idx, 10):\n",
    "            backtrack(res + [i], k, n - i, i + 1, ans)\n",
    "    res = []\n",
    "    ans = []\n",
    "    backtrack(res, k, n, 1, ans)\n",
    "    return ans\n",
    "combination_sum(9, 3)"
   ]
  },
  {
   "cell_type": "code",
   "execution_count": null,
   "metadata": {},
   "outputs": [],
   "source": []
  }
 ],
 "metadata": {
  "kernelspec": {
   "display_name": "Python 3",
   "language": "python",
   "name": "python3"
  },
  "language_info": {
   "codemirror_mode": {
    "name": "ipython",
    "version": 3
   },
   "file_extension": ".py",
   "mimetype": "text/x-python",
   "name": "python",
   "nbconvert_exporter": "python",
   "pygments_lexer": "ipython3",
   "version": "3.8.2"
  }
 },
 "nbformat": 4,
 "nbformat_minor": 4
}
