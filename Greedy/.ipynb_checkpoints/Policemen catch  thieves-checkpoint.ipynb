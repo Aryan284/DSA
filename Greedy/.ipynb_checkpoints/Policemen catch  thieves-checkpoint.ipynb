{
 "cells": [
  {
   "cell_type": "code",
   "execution_count": 12,
   "metadata": {},
   "outputs": [
    {
     "name": "stdout",
     "output_type": "stream",
     "text": [
      "3\n"
     ]
    }
   ],
   "source": [
    "arr = ['T', 'T', 'P', 'P', 'T', 'P'] \n",
    "# def catch(arr):\n",
    "n = len(arr)\n",
    "i = 0\n",
    "j = 0\n",
    "l = 0\n",
    "r = 0\n",
    "res = 0\n",
    "thi = []\n",
    "p = []\n",
    "k = 2\n",
    "while i < n:\n",
    "    if arr[i] == 'P':\n",
    "        p.append(i)\n",
    "    else:\n",
    "        thi.append(i)\n",
    "    i += 1\n",
    "while l < len(thi) and r < len(p):\n",
    "    if abs(thi[l] - p[r]) <= k:\n",
    "        res += 1\n",
    "        l += 1\n",
    "        r += 1\n",
    "    elif thi[l] < p[r]:\n",
    "        l +=1\n",
    "    else:\n",
    "        r += 1\n",
    "print(res)"
   ]
  },
  {
   "cell_type": "code",
   "execution_count": null,
   "metadata": {},
   "outputs": [],
   "source": []
  }
 ],
 "metadata": {
  "kernelspec": {
   "display_name": "Python 3",
   "language": "python",
   "name": "python3"
  },
  "language_info": {
   "codemirror_mode": {
    "name": "ipython",
    "version": 3
   },
   "file_extension": ".py",
   "mimetype": "text/x-python",
   "name": "python",
   "nbconvert_exporter": "python",
   "pygments_lexer": "ipython3",
   "version": "3.8.2"
  }
 },
 "nbformat": 4,
 "nbformat_minor": 4
}
