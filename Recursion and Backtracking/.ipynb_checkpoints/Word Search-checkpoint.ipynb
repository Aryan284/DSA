{
 "cells": [
  {
   "cell_type": "code",
   "execution_count": 10,
   "metadata": {},
   "outputs": [
    {
     "data": {
      "text/plain": [
       "True"
      ]
     },
     "execution_count": 10,
     "metadata": {},
     "output_type": "execute_result"
    }
   ],
   "source": [
    "matrix = [[\"A\",\"B\",\"C\",\"E\"],\n",
    "          [\"S\",\"F\",\"C\",\"S\"],\n",
    "          [\"A\",\"D\",\"E\",\"E\"]]\n",
    "word = \"SEE\"\n",
    "\n",
    "def valid(matrix, word, i, j, m, n, visited, pos):\n",
    "    if len(word) == pos:\n",
    "        return True\n",
    "    \n",
    "    if i < 0 or i == m or j == n or j < 0 or visited.get((i, j)) or word[pos] != matrix[i][j]:\n",
    "        return False\n",
    "    \n",
    "    visited[(i, j)] = True\n",
    "    \n",
    "    res = valid(matrix, word, i, j + 1, m, n, visited, pos + 1) or valid(matrix, word, i, j - 1, m, n, visited, pos + 1) or valid(matrix, word, i + 1, j, m, n, visited, pos + 1) or valid(matrix, word, i - 1, j, m, n, visited, pos + 1)\n",
    "    visited[(i, j)] = False\n",
    "    return res\n",
    "def word_search(matrix, word):\n",
    "    visited = {}\n",
    "    m = len(matrix)\n",
    "    n = len(matrix[0])\n",
    "    for i in range(m):\n",
    "        for j in range(n):\n",
    "            if matrix[i][j] == word[0]:\n",
    "                if valid(matrix, word, i, j, m, n, visited, 0):\n",
    "                    return True\n",
    "    return False\n",
    "\n",
    "word_search(matrix, word)"
   ]
  },
  {
   "cell_type": "code",
   "execution_count": 3,
   "metadata": {},
   "outputs": [
    {
     "data": {
      "text/plain": [
       "False"
      ]
     },
     "execution_count": 3,
     "metadata": {},
     "output_type": "execute_result"
    }
   ],
   "source": [
    "matrix = [[\"A\",\"B\",\"C\",\"E\"],\n",
    "          [\"S\",\"F\",\"C\",\"S\"],\n",
    "          [\"A\",\"D\",\"E\",\"E\"]]\n",
    "word = \"ABCB\"\n",
    "\n",
    "def valid(matrix, word, i, j, m, n, visited, pos):\n",
    "    if len(word) == pos:\n",
    "        return True\n",
    "    \n",
    "    if i < 0 or i == m or j == n or j < 0 or visited[i][j] or word[pos] != matrix[i][j]:\n",
    "        return False\n",
    "    \n",
    "    visited[i][j] = True\n",
    "    \n",
    "    res = valid(matrix, word, i, j + 1, m, n, visited, pos + 1) or valid(matrix, word, i, j - 1, m, n, visited, pos + 1) or valid(matrix, word, i + 1, j, m, n, visited, pos + 1) or valid(matrix, word, i - 1, j, m, n, visited, pos + 1)\n",
    "    visited[i][j] = False\n",
    "    return res\n",
    "def word_search(matrix, word):\n",
    "    m = len(matrix)\n",
    "    n = len(matrix[0])\n",
    "    visited = [[False for _ in range(n)] for _ in range(m)]\n",
    "    for i in range(m):\n",
    "        for j in range(n):\n",
    "            if matrix[i][j] == word[0]:\n",
    "                if valid(matrix, word, i, j, m, n, visited, 0):\n",
    "                    return True\n",
    "    return False\n",
    "\n",
    "word_search(matrix, word)"
   ]
  },
  {
   "cell_type": "code",
   "execution_count": null,
   "metadata": {},
   "outputs": [],
   "source": []
  }
 ],
 "metadata": {
  "kernelspec": {
   "display_name": "Python 3",
   "language": "python",
   "name": "python3"
  },
  "language_info": {
   "codemirror_mode": {
    "name": "ipython",
    "version": 3
   },
   "file_extension": ".py",
   "mimetype": "text/x-python",
   "name": "python",
   "nbconvert_exporter": "python",
   "pygments_lexer": "ipython3",
   "version": "3.8.2"
  }
 },
 "nbformat": 4,
 "nbformat_minor": 4
}
