{
 "cells": [
  {
   "cell_type": "code",
   "execution_count": 4,
   "metadata": {},
   "outputs": [
    {
     "data": {
      "text/plain": [
       "5"
      ]
     },
     "execution_count": 4,
     "metadata": {},
     "output_type": "execute_result"
    }
   ],
   "source": [
    "h1 = [3,2,1,1,1]\n",
    "h2 = [4,3,2]\n",
    "h3 = [1,1,4,1]\n",
    "def equal_stack(h1, h2, h3):\n",
    "    s1, s2, s3 = map(sum, (h1, h2, h3))\n",
    "    while h1 and h2 and h3:\n",
    "        m = min(s1, s2, s3)\n",
    "        while s1 > m:\n",
    "            s1 -= h1.pop(0)\n",
    "        while s2 > m:\n",
    "            s2 -= h2.pop(0)\n",
    "        while s3 > m:\n",
    "            s3 -= h3.pop(0)\n",
    "        if s1 == s2 == s3:\n",
    "            return s1\n",
    "    return 0\n",
    "equal_stack(h1, h2, h3)"
   ]
  },
  {
   "cell_type": "code",
   "execution_count": null,
   "metadata": {},
   "outputs": [],
   "source": []
  }
 ],
 "metadata": {
  "kernelspec": {
   "display_name": "Python 3",
   "language": "python",
   "name": "python3"
  },
  "language_info": {
   "codemirror_mode": {
    "name": "ipython",
    "version": 3
   },
   "file_extension": ".py",
   "mimetype": "text/x-python",
   "name": "python",
   "nbconvert_exporter": "python",
   "pygments_lexer": "ipython3",
   "version": "3.8.2"
  }
 },
 "nbformat": 4,
 "nbformat_minor": 4
}
