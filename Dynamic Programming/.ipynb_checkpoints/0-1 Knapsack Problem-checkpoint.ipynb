{
 "cells": [
  {
   "cell_type": "code",
   "execution_count": 19,
   "metadata": {},
   "outputs": [
    {
     "name": "stdout",
     "output_type": "stream",
     "text": [
      "220\n"
     ]
    }
   ],
   "source": [
    "## Dp approach\n",
    "n = len(val)\n",
    "capacity = 50\n",
    "dp = [[-1 for i in range(capacity + 1)] for j in range(n + 1)]\n",
    "def knapsack(weight, val, capacity, n):\n",
    "    \n",
    "    if n == 0 or capacity == 0:\n",
    "        return 0\n",
    "    if dp[n][capacity] != -1:\n",
    "        return dp[n][capacity]\n",
    "    if weight[n - 1] <= capacity:\n",
    "        dp[n][capacity] = max(val[n - 1] + knapsack(weight, val, capacity - weight[n - 1], n - 1), knapsack(weight, val, capacity, n - 1))\n",
    "        return dp[n][capacity]\n",
    "    else:\n",
    "        dp[n][capacity] = knapsack(weight, val, capacity, n - 1)\n",
    "        return dp[n][capacity]\n",
    "print(knapsack([10,20,30],[60,100,120],50,3))"
   ]
  },
  {
   "cell_type": "code",
   "execution_count": 5,
   "metadata": {},
   "outputs": [
    {
     "data": {
      "text/plain": [
       "220"
      ]
     },
     "execution_count": 5,
     "metadata": {},
     "output_type": "execute_result"
    }
   ],
   "source": [
    "## Recursive Approach\n",
    "val = [60, 100, 120]\n",
    "weight = [10, 20, 30]\n",
    "capacity = 50\n",
    "def knapsack(weight, val, capacity, n):\n",
    "    if n == 0 or capacity == 0:\n",
    "        return 0\n",
    "    if weight[n - 1] <= capacity:\n",
    "        return max(val[n - 1] + knapsack(weight, val, capacity - weight[n - 1], n - 1), knapsack(weight, val, capacity, n - 1))\n",
    "    else:\n",
    "        return knapsack(weight, val, capacity, n - 1)\n",
    "knapsack(weight, val, 50, len(val))"
   ]
  },
  {
   "cell_type": "code",
   "execution_count": null,
   "metadata": {},
   "outputs": [],
   "source": []
  }
 ],
 "metadata": {
  "kernelspec": {
   "display_name": "Python 3",
   "language": "python",
   "name": "python3"
  },
  "language_info": {
   "codemirror_mode": {
    "name": "ipython",
    "version": 3
   },
   "file_extension": ".py",
   "mimetype": "text/x-python",
   "name": "python",
   "nbconvert_exporter": "python",
   "pygments_lexer": "ipython3",
   "version": "3.8.2"
  }
 },
 "nbformat": 4,
 "nbformat_minor": 4
}
