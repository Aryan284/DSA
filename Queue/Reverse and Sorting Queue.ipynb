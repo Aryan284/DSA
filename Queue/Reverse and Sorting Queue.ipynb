{
 "cells": [
  {
   "cell_type": "code",
   "execution_count": 1,
   "metadata": {},
   "outputs": [
    {
     "name": "stdout",
     "output_type": "stream",
     "text": [
      "1. Reverse\n",
      "2. display\n",
      "Enter your choice: 1\n",
      "Enter number: 2\n",
      "Enter number: 9\n",
      "Enter number: 5\n",
      "Enter number: 3\n",
      "Enter number: -1\n",
      "1. Reverse\n",
      "2. display\n",
      "Enter your choice: 2\n",
      "3,5,9,2,\n",
      "\n",
      "1. Reverse\n",
      "2. display\n",
      "Enter your choice: 0\n"
     ]
    }
   ],
   "source": [
    "from queue import Queue\n",
    "def reverse(queue):\n",
    "    while True:\n",
    "        n = int(input(\"Enter number: \"))\n",
    "        if n == -1:\n",
    "            break\n",
    "        queue.put(n)\n",
    "    stack = []\n",
    "    while not queue.empty():\n",
    "        stack.append(queue.queue[0])\n",
    "        queue.get()\n",
    "    while len(stack) != 0:\n",
    "        queue.put(stack[-1])\n",
    "        stack.pop()\n",
    "\n",
    "def Print(queue):\n",
    "    while not queue.empty():\n",
    "        print(queue.queue[0], end = \",\")\n",
    "        queue.get()\n",
    "    print(\"\\n\")\n",
    "\n",
    "\n",
    "if __name__==\"__main__\":\n",
    "    queue = Queue()\n",
    "    while True:\n",
    "        print(\"1. Reverse\")\n",
    "        print(\"2. display\")\n",
    "        ch = int(input(\"Enter your choice: \"))\n",
    "        if ch == 1:\n",
    "            reverse(queue)\n",
    "        elif ch == 2:\n",
    "            Print(queue)\n",
    "        else:\n",
    "            break"
   ]
  },
  {
   "cell_type": "code",
   "execution_count": null,
   "metadata": {},
   "outputs": [],
   "source": []
  }
 ],
 "metadata": {
  "kernelspec": {
   "display_name": "Python 3",
   "language": "python",
   "name": "python3"
  },
  "language_info": {
   "codemirror_mode": {
    "name": "ipython",
    "version": 3
   },
   "file_extension": ".py",
   "mimetype": "text/x-python",
   "name": "python",
   "nbconvert_exporter": "python",
   "pygments_lexer": "ipython3",
   "version": "3.8.2"
  }
 },
 "nbformat": 4,
 "nbformat_minor": 4
}
