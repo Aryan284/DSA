{
 "cells": [
  {
   "cell_type": "code",
   "execution_count": 16,
   "metadata": {},
   "outputs": [
    {
     "name": "stdout",
     "output_type": "stream",
     "text": [
      "1/1 + 1/1 + 1/1 + 1/1 + 1/1 + 1/1 + 1/1 + 1/1 + 1/1 + 1/2 + 1/3 + 1/7 + 1/63 + 1/4095\n"
     ]
    }
   ],
   "source": [
    "import math\n",
    "def egyptian(num, deno):\n",
    "    res = []\n",
    "    while num != 0:\n",
    "        x = math.ceil(deno/num)\n",
    "        res.append(x)\n",
    "        num = num * x - deno\n",
    "        deno = deno * x\n",
    "    for i in range(len(res)):\n",
    "        if i != len(res) - 1:\n",
    "            print('1/{0} +'.format(res[i]), end = ' ')\n",
    "        else:\n",
    "            print('1/{0}'.format(res[i]))\n",
    "egyptian(12990,1300)"
   ]
  },
  {
   "cell_type": "code",
   "execution_count": null,
   "metadata": {},
   "outputs": [],
   "source": []
  }
 ],
 "metadata": {
  "kernelspec": {
   "display_name": "Python 3",
   "language": "python",
   "name": "python3"
  },
  "language_info": {
   "codemirror_mode": {
    "name": "ipython",
    "version": 3
   },
   "file_extension": ".py",
   "mimetype": "text/x-python",
   "name": "python",
   "nbconvert_exporter": "python",
   "pygments_lexer": "ipython3",
   "version": "3.8.2"
  }
 },
 "nbformat": 4,
 "nbformat_minor": 4
}
