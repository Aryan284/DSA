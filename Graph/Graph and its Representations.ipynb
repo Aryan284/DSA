{
 "cells": [
  {
   "cell_type": "markdown",
   "metadata": {},
   "source": [
    "### Adjacency Matrix"
   ]
  },
  {
   "cell_type": "code",
   "execution_count": 29,
   "metadata": {},
   "outputs": [
    {
     "name": "stdout",
     "output_type": "stream",
     "text": [
      "4\n",
      "Same Vertex! (2, 2)\n",
      "[0, 1, 1, 0]\n",
      "[1, 0, 1, 0]\n",
      "[1, 1, 1, 0]\n",
      "[0, 0, 0, 0]\n"
     ]
    }
   ],
   "source": [
    "def add(vertex, v1, v2, arr):\n",
    "    if v1 == v2:\n",
    "        print(\"Same Vertex!\", (v1, v2))\n",
    "    arr[v1][v2] = 1\n",
    "    arr[v2][v1] = 1\n",
    "    \n",
    "\n",
    "vertex = int(input())\n",
    "arr = [[0 for _ in range(vertex)]for _ in range(vertex)]\n",
    "add(vertex,0, 1, arr)\n",
    "add(vertex,0,2, arr)\n",
    "add(vertex,1,2, arr)\n",
    "add(vertex,2,0, arr)\n",
    "add(vertex,2,2, arr)\n",
    "for i in arr:\n",
    "    print(i)"
   ]
  },
  {
   "cell_type": "markdown",
   "metadata": {},
   "source": [
    "### Adjacency List"
   ]
  },
  {
   "cell_type": "code",
   "execution_count": 46,
   "metadata": {},
   "outputs": [
    {
     "name": "stdout",
     "output_type": "stream",
     "text": [
      "List of vertex 0-> 4 -> 1 \n",
      "List of vertex 1-> 4 -> 3 -> 2 -> 0 \n",
      "List of vertex 2-> 3 -> 1 \n",
      "List of vertex 3-> 4 -> 2 -> 1 \n",
      "List of vertex 4-> 3 -> 1 -> 0 \n"
     ]
    }
   ],
   "source": [
    "class Node:\n",
    "    def __init__(self, data):\n",
    "        self.vertex = data\n",
    "        self.next = None\n",
    "class Graph:\n",
    "    def __init__(self, vertices):\n",
    "        self.V = vertices\n",
    "        self.graph = [None] * self.V\n",
    "    def add(self, v1, v2):\n",
    "        node = Node(v2)\n",
    "        node.next = self.graph[v1]\n",
    "        self.graph[v1] = node\n",
    "        \n",
    "        node = Node(v1)\n",
    "        node.next = self.graph[v2]\n",
    "        self.graph[v2] = node\n",
    "    def Print(self):\n",
    "        for i in range(self.V):\n",
    "            print(\"List of vertex\", i,end = \"\")\n",
    "            temp = self.graph[i]\n",
    "            while temp:\n",
    "                print(\"->\", temp.vertex, end = \" \")\n",
    "                temp = temp.next\n",
    "            print()\n",
    "            \n",
    "if __name__ == \"__main__\": \n",
    "    V = 5\n",
    "    graph = Graph(V) \n",
    "    graph.add(0, 1) \n",
    "    graph.add(0, 4) \n",
    "    graph.add(1, 2) \n",
    "    graph.add(1, 3) \n",
    "    graph.add(1,4)\n",
    "    graph.add(2,3)\n",
    "    graph.add(3,4)\n",
    "    graph.Print()"
   ]
  },
  {
   "cell_type": "code",
   "execution_count": null,
   "metadata": {},
   "outputs": [],
   "source": []
  }
 ],
 "metadata": {
  "kernelspec": {
   "display_name": "Python 3",
   "language": "python",
   "name": "python3"
  },
  "language_info": {
   "codemirror_mode": {
    "name": "ipython",
    "version": 3
   },
   "file_extension": ".py",
   "mimetype": "text/x-python",
   "name": "python",
   "nbconvert_exporter": "python",
   "pygments_lexer": "ipython3",
   "version": "3.8.2"
  }
 },
 "nbformat": 4,
 "nbformat_minor": 4
}
