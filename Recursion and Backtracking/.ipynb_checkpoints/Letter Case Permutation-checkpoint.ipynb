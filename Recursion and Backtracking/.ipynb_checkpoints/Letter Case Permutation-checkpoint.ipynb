{
 "cells": [
  {
   "cell_type": "code",
   "execution_count": 8,
   "metadata": {},
   "outputs": [
    {
     "data": {
      "text/plain": [
       "['A1B2', 'A1b2', 'a1B2', 'a1b2']"
      ]
     },
     "execution_count": 8,
     "metadata": {},
     "output_type": "execute_result"
    }
   ],
   "source": [
    "def lettercase(string):\n",
    "    def backtrack(s, i):\n",
    "        if len(s) == len(string):\n",
    "            ans.append(s)\n",
    "            return\n",
    "        else:\n",
    "            if string[i].isalpha():\n",
    "                backtrack(s + string[i].swapcase(), i + 1)\n",
    "            backtrack(s + string[i], i + 1)\n",
    "    ans = []\n",
    "    backtrack(\"\", 0)\n",
    "    return ans\n",
    "lettercase(\"a1b2\")"
   ]
  },
  {
   "cell_type": "code",
   "execution_count": null,
   "metadata": {},
   "outputs": [],
   "source": []
  }
 ],
 "metadata": {
  "kernelspec": {
   "display_name": "Python 3",
   "language": "python",
   "name": "python3"
  },
  "language_info": {
   "codemirror_mode": {
    "name": "ipython",
    "version": 3
   },
   "file_extension": ".py",
   "mimetype": "text/x-python",
   "name": "python",
   "nbconvert_exporter": "python",
   "pygments_lexer": "ipython3",
   "version": "3.8.2"
  }
 },
 "nbformat": 4,
 "nbformat_minor": 4
}
