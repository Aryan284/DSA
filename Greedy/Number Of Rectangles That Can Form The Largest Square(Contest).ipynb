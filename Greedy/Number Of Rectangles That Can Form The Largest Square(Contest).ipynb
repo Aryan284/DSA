{
 "cells": [
  {
   "cell_type": "code",
   "execution_count": null,
   "metadata": {},
   "outputs": [],
   "source": [
    "## 224"
   ]
  },
  {
   "cell_type": "code",
   "execution_count": 82,
   "metadata": {},
   "outputs": [
    {
     "name": "stdout",
     "output_type": "stream",
     "text": [
      "1\n"
     ]
    }
   ],
   "source": [
    "arr = [[5,8],[3,9],[3,12]]\n",
    "res = []\n",
    "i = 0\n",
    "while i <= len(arr)-1:\n",
    "    for j in range(0, len(arr[0])-1):\n",
    "        x = min(arr[i][j],arr[i][j+1])\n",
    "        res.append(x)\n",
    "    i += 1\n",
    "a = max(res)\n",
    "result = res.count(a)\n",
    "print(result)"
   ]
  },
  {
   "cell_type": "code",
   "execution_count": null,
   "metadata": {},
   "outputs": [],
   "source": [
    "##225"
   ]
  },
  {
   "cell_type": "code",
   "execution_count": null,
   "metadata": {},
   "outputs": [],
   "source": [
    "string =  \"?7:02\"\n",
    "arr = []\n",
    "arr[:0] = string\n",
    "for i in range(len(arr)//2):\n",
    "    if arr[i] == '?' and arr[i + 1] == '?':\n",
    "        arr[i] = '2'\n",
    "        arr[i + 1] = '3'\n",
    "    if arr[i] == '?':\n",
    "        if arr[i - 1] == '2':\n",
    "            arr[i] = '3'\n",
    "        if arr[i - 1] == '1' or arr[i - 1] == '0':\n",
    "            arr[i] = '9'\n",
    "        if arr[i + 1] == '0' or arr[i + 1] == '1' or arr[i + 1] == '2' or arr[i + 1] == '3' or arr[i + 1] == '4':\n",
    "            arr[0] = '2'\n",
    "        elif arr[i + 1] == '9' or arr[i + 1] == '8' or arr[i + 1] == '7' or arr[i + 1] == '6' or arr[i + 1] == '5':\n",
    "            arr[0] = '1'\n",
    "for i in range(len(arr)//2, len(arr)):\n",
    "    if arr[i] == '?':\n",
    "        arr[i] = '5'\n",
    "    if arr[-1] == '?':\n",
    "        arr[-1] = '9'\n",
    "str1 = ''\n",
    "print(str1.join(arr))"
   ]
  }
 ],
 "metadata": {
  "kernelspec": {
   "display_name": "Python 3",
   "language": "python",
   "name": "python3"
  },
  "language_info": {
   "codemirror_mode": {
    "name": "ipython",
    "version": 3
   },
   "file_extension": ".py",
   "mimetype": "text/x-python",
   "name": "python",
   "nbconvert_exporter": "python",
   "pygments_lexer": "ipython3",
   "version": "3.8.2"
  }
 },
 "nbformat": 4,
 "nbformat_minor": 4
}
