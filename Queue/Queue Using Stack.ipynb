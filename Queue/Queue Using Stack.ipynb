{
 "cells": [
  {
   "cell_type": "code",
   "execution_count": null,
   "metadata": {},
   "outputs": [],
   "source": [
    "class Queue:\n",
    "    def __init__(self):\n",
    "        self.s1 = []\n",
    "        self.s2 = []\n",
    "    \n",
    "    def enqueue(self, x):\n",
    "        while True:\n",
    "            n = int(input(\"Enter number: \"))\n",
    "            if n == -1:\n",
    "                break\n",
    "            self.s1.append(n)\n",
    "    \n",
    "    def dequeue(self):\n",
    "        if len(self.s1) == 0 and len(self.s2) == 0:\n",
    "            print(\"Queue is Empty\")\n",
    "\n",
    "        elif len(self.s2) == 0 and len(self.s1) > 0:\n",
    "\n",
    "            while len(self.s1):\n",
    "                temp = self.s1.pop()\n",
    "                self.s2.append(temp)\n",
    "            return self.s2.pop()\n",
    "\n",
    "        else:\n",
    "            return self.s2.pop()\n",
    "        \n",
    "if __name__==\"__main__\":\n",
    "    q = Queue()\n",
    "\n",
    "    while True:\n",
    "        print(\"-1 to break\")\n",
    "        print(\"1. Enqueue\")\n",
    "        print(\"2. Dequeue\")\n",
    "        print(\"3. display\")\n",
    "        ch = int(input(\"Enter your choice: \"))\n",
    "\n",
    "        if ch == 1:\n",
    "            q.enqueue(q)\n",
    "\n",
    "        elif ch == 2:\n",
    "            a = q.dequeue()\n",
    "            print(\"Dequeue element\", a)\n",
    "            \n",
    "        else:\n",
    "            break\n"
   ]
  }
 ],
 "metadata": {
  "kernelspec": {
   "display_name": "Python 3",
   "language": "python",
   "name": "python3"
  },
  "language_info": {
   "codemirror_mode": {
    "name": "ipython",
    "version": 3
   },
   "file_extension": ".py",
   "mimetype": "text/x-python",
   "name": "python",
   "nbconvert_exporter": "python",
   "pygments_lexer": "ipython3",
   "version": "3.8.2"
  }
 },
 "nbformat": 4,
 "nbformat_minor": 4
}
