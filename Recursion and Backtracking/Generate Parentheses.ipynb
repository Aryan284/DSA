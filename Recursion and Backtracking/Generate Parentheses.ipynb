{
 "cells": [
  {
   "cell_type": "code",
   "execution_count": 5,
   "metadata": {},
   "outputs": [
    {
     "data": {
      "text/plain": [
       "['()']"
      ]
     },
     "execution_count": 5,
     "metadata": {},
     "output_type": "execute_result"
    }
   ],
   "source": [
    "def generate_parenthesis(n):\n",
    "    def backtrack(s, open_p, close_p):\n",
    "        if len(s) == 2 * n:\n",
    "            ans.append(s)\n",
    "        if open_p < n:\n",
    "            backtrack(s + \"(\", open_p + 1, close_p)\n",
    "        if close_p < open_p:\n",
    "            backtrack(s + \")\", open_p, close_p + 1)\n",
    "    ans = []\n",
    "    backtrack(\"\", open_p = 0, close_p = 0)\n",
    "    return ans\n",
    "generate_parenthesis(1)"
   ]
  },
  {
   "cell_type": "code",
   "execution_count": null,
   "metadata": {},
   "outputs": [],
   "source": []
  }
 ],
 "metadata": {
  "kernelspec": {
   "display_name": "Python 3",
   "language": "python",
   "name": "python3"
  },
  "language_info": {
   "codemirror_mode": {
    "name": "ipython",
    "version": 3
   },
   "file_extension": ".py",
   "mimetype": "text/x-python",
   "name": "python",
   "nbconvert_exporter": "python",
   "pygments_lexer": "ipython3",
   "version": "3.8.2"
  }
 },
 "nbformat": 4,
 "nbformat_minor": 4
}
