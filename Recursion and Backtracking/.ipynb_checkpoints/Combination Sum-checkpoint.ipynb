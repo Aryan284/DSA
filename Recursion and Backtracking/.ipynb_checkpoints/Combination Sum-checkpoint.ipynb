{
 "cells": [
  {
   "cell_type": "code",
   "execution_count": 3,
   "metadata": {},
   "outputs": [
    {
     "data": {
      "text/plain": [
       "[[2, 2, 2, 2], [2, 3, 3], [3, 5]]"
      ]
     },
     "execution_count": 3,
     "metadata": {},
     "output_type": "execute_result"
    }
   ],
   "source": [
    "arr = [2,3,5]\n",
    "target = 8\n",
    "def combination_sum(arr, target):\n",
    "    ans = []\n",
    "    res = []\n",
    "    backtrack(res, 0, target, ans)\n",
    "    return ans\n",
    "def backtrack(res, idx, target, ans):\n",
    "    if target < 0:\n",
    "        return\n",
    "    if target == 0:\n",
    "        ans.append(res)\n",
    "        return\n",
    "    for i in range(idx, len(arr)):\n",
    "        backtrack(res + [arr[i]], i, target - arr[i], ans)\n",
    "combination_sum(arr, target)"
   ]
  },
  {
   "cell_type": "code",
   "execution_count": null,
   "metadata": {},
   "outputs": [],
   "source": []
  }
 ],
 "metadata": {
  "kernelspec": {
   "display_name": "Python 3",
   "language": "python",
   "name": "python3"
  },
  "language_info": {
   "codemirror_mode": {
    "name": "ipython",
    "version": 3
   },
   "file_extension": ".py",
   "mimetype": "text/x-python",
   "name": "python",
   "nbconvert_exporter": "python",
   "pygments_lexer": "ipython3",
   "version": "3.8.2"
  }
 },
 "nbformat": 4,
 "nbformat_minor": 4
}
