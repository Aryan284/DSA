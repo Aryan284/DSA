{
 "cells": [
  {
   "cell_type": "code",
   "execution_count": 21,
   "metadata": {},
   "outputs": [
    {
     "data": {
      "text/plain": [
       "'abdcabdab'"
      ]
     },
     "execution_count": 21,
     "metadata": {},
     "output_type": "execute_result"
    }
   ],
   "source": [
    "string = \"abcbdab\"\n",
    "string1 = \"bdcaba\"\n",
    "def PrintSCS(string, string1, m, n):\n",
    "    dp = [[0 for i in range(n + 1)]for j in range(m + 1)]\n",
    "    for i in range(1, m + 1):\n",
    "        for j in range(1, n + 1):\n",
    "            if string[i - 1] == string1[j - 1]:\n",
    "                dp[i][j] = 1 + dp[i - 1][j - 1]\n",
    "            else:\n",
    "                dp[i][j] = max(dp[i -1][j], dp[i][j -1])\n",
    "    index = dp[m][n]\n",
    "    res = \"\"\n",
    "    i = m\n",
    "    j = n\n",
    "    while i > 0 and j > 0:\n",
    "        if string[i - 1] == string1[j - 1]:\n",
    "            res += string[i - 1]\n",
    "            i -= 1\n",
    "            j -= 1\n",
    "            index -= 1\n",
    "        else:\n",
    "            if dp[i-1][j] < dp[i][j - 1]:\n",
    "                res += string1[j - 1]\n",
    "                j -= 1\n",
    "                index -= 1\n",
    "            else:\n",
    "                res += string[i-1]\n",
    "                i -= 1\n",
    "                index -= 1\n",
    "    while i > 0:\n",
    "        res += string[i -1]\n",
    "        i -= 1\n",
    "        index -= 1\n",
    "    while j > 0:\n",
    "        res += string1[j - 1]\n",
    "        j -= 1\n",
    "        index -= 1\n",
    "    res = list(res)\n",
    "    res.reverse()\n",
    "    return \"\".join(res)\n",
    "PrintSCS(string, string1, len(string), len(string1))"
   ]
  }
 ],
 "metadata": {
  "kernelspec": {
   "display_name": "Python 3",
   "language": "python",
   "name": "python3"
  },
  "language_info": {
   "codemirror_mode": {
    "name": "ipython",
    "version": 3
   },
   "file_extension": ".py",
   "mimetype": "text/x-python",
   "name": "python",
   "nbconvert_exporter": "python",
   "pygments_lexer": "ipython3",
   "version": "3.8.2"
  }
 },
 "nbformat": 4,
 "nbformat_minor": 4
}
