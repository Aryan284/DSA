{
 "cells": [
  {
   "cell_type": "code",
   "execution_count": 3,
   "metadata": {},
   "outputs": [
    {
     "data": {
      "text/plain": [
       "'126574398'"
      ]
     },
     "execution_count": 3,
     "metadata": {},
     "output_type": "execute_result"
    }
   ],
   "source": [
    "import math\n",
    "def permutation_Sequence(n, k):\n",
    "    nums = [str(i) for i in range(1, n + 1)]\n",
    "    s = \"\"\n",
    "    while nums:\n",
    "        f = math.factorial(n - 1)\n",
    "        i = 0\n",
    "        while k > f:\n",
    "            k -= f\n",
    "            i += 1\n",
    "        s += nums.pop(i)\n",
    "        n -= 1\n",
    "    return s\n",
    "permutation_Sequence(9, 2456)"
   ]
  },
  {
   "cell_type": "code",
   "execution_count": null,
   "metadata": {},
   "outputs": [],
   "source": [
    "## TLE\n",
    "def perm(n, k):\n",
    "    arr = [i for i in range(1, n + 1)]\n",
    "    def helper(arr, low, high):\n",
    "        if low == high:\n",
    "            res.append(arr[:])\n",
    "            return\n",
    "        else:\n",
    "            for i in range(low, high + 1):\n",
    "                arr[low], arr[i] = arr[i], arr[low]\n",
    "                helper(arr, low + 1, high)\n",
    "                arr[low], arr[i] = arr[i], arr[low]\n",
    "    res = []\n",
    "    helper(arr, 0, len(arr) - 1)\n",
    "    s = \"\"\n",
    "    for i in sorted(res)[k - 1]:\n",
    "        s += str(i)\n",
    "    return s"
   ]
  }
 ],
 "metadata": {
  "kernelspec": {
   "display_name": "Python 3",
   "language": "python",
   "name": "python3"
  },
  "language_info": {
   "codemirror_mode": {
    "name": "ipython",
    "version": 3
   },
   "file_extension": ".py",
   "mimetype": "text/x-python",
   "name": "python",
   "nbconvert_exporter": "python",
   "pygments_lexer": "ipython3",
   "version": "3.8.2"
  }
 },
 "nbformat": 4,
 "nbformat_minor": 4
}
