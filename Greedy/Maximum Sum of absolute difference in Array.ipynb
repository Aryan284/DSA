{
 "cells": [
  {
   "cell_type": "code",
   "execution_count": 2,
   "metadata": {},
   "outputs": [
    {
     "name": "stdout",
     "output_type": "stream",
     "text": [
      "[1, 8, 2, 7, 3, 6, 4]\n"
     ]
    },
    {
     "data": {
      "text/plain": [
       "30"
      ]
     },
     "execution_count": 2,
     "metadata": {},
     "output_type": "execute_result"
    }
   ],
   "source": [
    "arr = [1,8,2,4, 6 ,7, 3]\n",
    "def maxsumabsol(arr):\n",
    "    n = len(arr)\n",
    "    arr.sort()\n",
    "    j = 0\n",
    "    final = [0 for _ in range(n)]\n",
    "    maxsum = 0\n",
    "    for i in range(len(arr)//2):\n",
    "        final[j] = arr[i]\n",
    "        final[j + 1] = arr[len(arr) - i - 1]\n",
    "        j += 2\n",
    "    if len(arr) % 2 != 0:\n",
    "        final[n - 1] = arr[n//2]\n",
    "    for i in range(len(arr) - 1):\n",
    "        maxsum = (maxsum + abs(final[i] - final[i + 1]))\n",
    "    maxsum = maxsum + abs(final[n - 1] - final[0])\n",
    "    print(final)\n",
    "    return maxsum\n",
    "maxsumabsol(arr)"
   ]
  },
  {
   "cell_type": "code",
   "execution_count": null,
   "metadata": {},
   "outputs": [],
   "source": []
  }
 ],
 "metadata": {
  "kernelspec": {
   "display_name": "Python 3",
   "language": "python",
   "name": "python3"
  },
  "language_info": {
   "codemirror_mode": {
    "name": "ipython",
    "version": 3
   },
   "file_extension": ".py",
   "mimetype": "text/x-python",
   "name": "python",
   "nbconvert_exporter": "python",
   "pygments_lexer": "ipython3",
   "version": "3.8.2"
  }
 },
 "nbformat": 4,
 "nbformat_minor": 4
}
