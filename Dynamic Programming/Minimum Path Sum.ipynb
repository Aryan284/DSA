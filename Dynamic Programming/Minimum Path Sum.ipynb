{
 "cells": [
  {
   "cell_type": "code",
   "execution_count": 1,
   "metadata": {},
   "outputs": [
    {
     "data": {
      "text/plain": [
       "7"
      ]
     },
     "execution_count": 1,
     "metadata": {},
     "output_type": "execute_result"
    }
   ],
   "source": [
    "grid = [[1,3,1],[1,5,1],[4,2,1]]\n",
    "def minimum_paths(grid):\n",
    "    m = len(grid)\n",
    "    n = len(grid[0])\n",
    "    for i in range(1, n):\n",
    "        grid[0][i] += grid[0][i - 1]\n",
    "    for i in range(1, m):\n",
    "        grid[i][0] += grid[i -1][0]\n",
    "    for i in range(1, m):\n",
    "        for j in range(1, n):\n",
    "            grid[i][j] += min(grid[i - 1][j], grid[i][j - 1])\n",
    "    return grid[-1][-1]\n",
    "minimum_paths(grid)"
   ]
  },
  {
   "cell_type": "code",
   "execution_count": null,
   "metadata": {},
   "outputs": [],
   "source": [
    "1 3 1\n",
    "1 5 1\n",
    "4 2 1\n",
    "\n",
    "1 2 3\n",
    "4 5 6"
   ]
  }
 ],
 "metadata": {
  "kernelspec": {
   "display_name": "Python 3",
   "language": "python",
   "name": "python3"
  },
  "language_info": {
   "codemirror_mode": {
    "name": "ipython",
    "version": 3
   },
   "file_extension": ".py",
   "mimetype": "text/x-python",
   "name": "python",
   "nbconvert_exporter": "python",
   "pygments_lexer": "ipython3",
   "version": "3.8.2"
  }
 },
 "nbformat": 4,
 "nbformat_minor": 4
}
