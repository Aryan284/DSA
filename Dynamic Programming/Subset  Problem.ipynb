{
 "cells": [
  {
   "cell_type": "code",
   "execution_count": 10,
   "metadata": {},
   "outputs": [
    {
     "name": "stdout",
     "output_type": "stream",
     "text": [
      "3 3\n",
      "3 4\n",
      "3 5\n",
      "3 6\n",
      "3 7\n",
      "3 8\n",
      "3 9\n",
      "4 4\n",
      "4 5\n",
      "4 6\n",
      "4 7\n",
      "4 8\n",
      "4 9\n",
      "5 5\n",
      "5 6\n",
      "5 7\n",
      "5 8\n",
      "5 9\n",
      "2 2\n",
      "2 3\n",
      "2 4\n",
      "2 5\n",
      "2 6\n",
      "2 7\n",
      "2 8\n",
      "2 9\n",
      "[[True, False, False, False, False, False, False, False, False, False], [True, False, False, True, False, False, False, False, False, False], [True, False, False, True, False, False, False, False, False, False], [True, False, False, True, True, False, False, True, False, False], [True, False, False, True, True, False, False, True, False, False], [True, False, False, True, True, True, False, True, True, True], [True, False, True, True, True, True, True, True, True, True]]\n"
     ]
    },
    {
     "data": {
      "text/plain": [
       "True"
      ]
     },
     "execution_count": 10,
     "metadata": {},
     "output_type": "execute_result"
    }
   ],
   "source": [
    "## Dp Approach\n",
    "arr = [3, 34, 4, 12,5, 2]\n",
    "def issubset(arr, sum, n):\n",
    "    dp = [[False for i in range(sum + 1)] for j in range(n + 1)]\n",
    "    for i in range(n + 1):\n",
    "        dp[i][0] = True\n",
    "    for i in range(1, sum + 1):\n",
    "        dp[0][i] = False\n",
    "    for i in range(1, n + 1):\n",
    "        for j in range(1, sum + 1):\n",
    "            if arr[i - 1] <= j:\n",
    "                print(arr[i-1],j)\n",
    "                dp[i][j] = (dp[i - 1][j] or dp[i - 1][j - arr[i - 1]])\n",
    "            elif arr[i - 1] > j:\n",
    "                dp[i][j] = dp[i -1][j]\n",
    "    print(dp)\n",
    "    return dp[n][sum]\n",
    "issubset(arr, 9, len(arr))"
   ]
  },
  {
   "cell_type": "code",
   "execution_count": 2,
   "metadata": {},
   "outputs": [
    {
     "data": {
      "text/plain": [
       "False"
      ]
     },
     "execution_count": 2,
     "metadata": {},
     "output_type": "execute_result"
    }
   ],
   "source": [
    "## Recurisve Approach\n",
    "arr = [3, 34, 4, 12, 5, 2]\n",
    "sum = 30\n",
    "def issubset(arr, sum, n):\n",
    "    if n == 0:\n",
    "        return False\n",
    "    if sum == 0:\n",
    "        return True\n",
    "    if arr[n - 1] > sum:\n",
    "        return issubset(arr, sum, n - 1)\n",
    "    elif arr[n - 1] <= sum:\n",
    "        return issubset(arr, sum - arr[n - 1], n - 1) or issubset(arr, sum, n - 1)\n",
    "issubset(arr, sum, len(arr))"
   ]
  },
  {
   "cell_type": "code",
   "execution_count": null,
   "metadata": {},
   "outputs": [],
   "source": []
  },
  {
   "cell_type": "code",
   "execution_count": null,
   "metadata": {},
   "outputs": [],
   "source": []
  }
 ],
 "metadata": {
  "kernelspec": {
   "display_name": "Python 3",
   "language": "python",
   "name": "python3"
  },
  "language_info": {
   "codemirror_mode": {
    "name": "ipython",
    "version": 3
   },
   "file_extension": ".py",
   "mimetype": "text/x-python",
   "name": "python",
   "nbconvert_exporter": "python",
   "pygments_lexer": "ipython3",
   "version": "3.8.2"
  }
 },
 "nbformat": 4,
 "nbformat_minor": 4
}
