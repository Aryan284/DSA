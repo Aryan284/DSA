{
 "cells": [
  {
   "cell_type": "code",
   "execution_count": null,
   "metadata": {},
   "outputs": [],
   "source": [
    "class Solution:\n",
    "    def getMaximumGold(self, grid: List[List[int]]) -> int:\n",
    "        m = len(grid)\n",
    "        n = len(grid[0])\n",
    "        self.res = 0\n",
    "        visited = [[False for _ in range(n)] for _ in range(m)]\n",
    "        for i in range(m):\n",
    "            for j in range(n):\n",
    "                if grid[i][j] != 0:\n",
    "                    visited[i][j] = True\n",
    "                    self.get_gold(grid, i, j, m, n, visited, grid[i][j])\n",
    "                    visited[i][j] = False\n",
    "        return self.res\n",
    "    def get_gold(self, grid, i, j, m, n, visited, val):\n",
    "        self.res = max(self.res, val)\n",
    "        X = [-1, 0, 0, 1]\n",
    "        Y = [0, -1, 1, 0]\n",
    "        \n",
    "        for k in range(4):\n",
    "            x = i + X[k]\n",
    "            y = j + Y[k]\n",
    "            if x >= 0 and x < m and y >= 0 and y < n and not visited[x][y] and grid[x][y] != 0:\n",
    "                    visited[x][y] = True\n",
    "                    self.get_gold(grid, x, y, m, n, visited, val + grid[x][y])\n",
    "                    visited[x][y] = False"
   ]
  }
 ],
 "metadata": {
  "kernelspec": {
   "display_name": "Python 3",
   "language": "python",
   "name": "python3"
  },
  "language_info": {
   "codemirror_mode": {
    "name": "ipython",
    "version": 3
   },
   "file_extension": ".py",
   "mimetype": "text/x-python",
   "name": "python",
   "nbconvert_exporter": "python",
   "pygments_lexer": "ipython3",
   "version": "3.8.2"
  }
 },
 "nbformat": 4,
 "nbformat_minor": 4
}
