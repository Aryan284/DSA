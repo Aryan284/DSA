{
 "cells": [
  {
   "cell_type": "code",
   "execution_count": 46,
   "metadata": {},
   "outputs": [
    {
     "name": "stdout",
     "output_type": "stream",
     "text": [
      "defaultdict(<class 'list'>, {1: [[2, 2], [3, 4]], 2: [[3, 1], [4, 7], [1, 3]], 3: [[5, 3]], 5: [[6, 5], [4, 2]], 6: [], 4: [[6, 1]]})\n",
      "[[1, 0], [2, 2], [3, 3], [5, 6], [4, 8], [6, 9]]\n"
     ]
    }
   ],
   "source": [
    "from collections import defaultdict\n",
    "\n",
    "class graph:\n",
    "    def __init__(self):\n",
    "        self.graph = defaultdict(list)\n",
    "        self.dist = defaultdict(int)\n",
    "        \n",
    "    def addedge(self, u, v, weight):\n",
    "        self.graph[u].append([v, weight])\n",
    "        self.dist[u] = float(\"inf\")\n",
    "        self.dist[v] = float(\"inf\")\n",
    "        if not self.graph[v]:\n",
    "            self.graph[v] = []\n",
    "            \n",
    "    def dijktra(self, source):\n",
    "        dist = self.dist\n",
    "        dist[source] = 0\n",
    "        dv = []\n",
    "        while dist:\n",
    "            w = min(dist.values())\n",
    "            for d in dist:\n",
    "                if dist[d] == w:\n",
    "                    v = d\n",
    "                    break\n",
    "            dv.append([v, w])\n",
    "            del dist[v]\n",
    "            flag = True\n",
    "            for vertex in self.graph[v]:\n",
    "                for e in dv:\n",
    "                    if e[0] == vertex[0]:\n",
    "                        flag = False\n",
    "                        break\n",
    "                if flag:\n",
    "                    weight = vertex[1] + w\n",
    "                    dist[vertex[0]] = min(weight, dist[vertex[0]])\n",
    "        return dv\n",
    "    \n",
    "if __name__==\"__main__\":\n",
    "    g = graph()\n",
    "    g.addedge(1, 2, 2)\n",
    "    g.addedge(1, 3, 4)\n",
    "    g.addedge(2, 3, 1)\n",
    "    g.addedge(3, 5, 3)\n",
    "    g.addedge(5, 6, 5)\n",
    "    g.addedge(5, 4, 2)\n",
    "    g.addedge(4, 6, 1)\n",
    "    g.addedge(2, 4, 7)\n",
    "    g.addedge(2, 1, 3)\n",
    "    print(g.graph)\n",
    "    print(g.dijktra(1))"
   ]
  },
  {
   "cell_type": "code",
   "execution_count": null,
   "metadata": {},
   "outputs": [],
   "source": [
    "class Solution(object):\n",
    "    def networkDelayTime(self, times, N, K):\n",
    "        graph = collections.defaultdict(list)\n",
    "        for u, v, w in times:\n",
    "            graph[u].append((w, v))\n",
    "\n",
    "        dist = {node: float('inf') for node in xrange(1, N+1)}\n",
    "\n",
    "        def dfs(node, elapsed):\n",
    "            if elapsed >= dist[node]: return\n",
    "            dist[node] = elapsed\n",
    "            for time, nei in sorted(graph[node]):\n",
    "                dfs(nei, elapsed + time)\n",
    "\n",
    "        dfs(K, 0)\n",
    "        ans = max(dist.values())\n",
    "        return ans if ans < float('inf') else -1"
   ]
  }
 ],
 "metadata": {
  "kernelspec": {
   "display_name": "Python 3",
   "language": "python",
   "name": "python3"
  },
  "language_info": {
   "codemirror_mode": {
    "name": "ipython",
    "version": 3
   },
   "file_extension": ".py",
   "mimetype": "text/x-python",
   "name": "python",
   "nbconvert_exporter": "python",
   "pygments_lexer": "ipython3",
   "version": "3.8.2"
  }
 },
 "nbformat": 4,
 "nbformat_minor": 4
}
