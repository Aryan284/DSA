{
 "cells": [
  {
   "cell_type": "code",
   "execution_count": 3,
   "metadata": {},
   "outputs": [
    {
     "data": {
      "text/plain": [
       "2"
      ]
     },
     "execution_count": 3,
     "metadata": {},
     "output_type": "execute_result"
    }
   ],
   "source": [
    "string = \"aebcbda\"\n",
    "def insertion(string):\n",
    "    string1 = string[::-1]\n",
    "    m = len(string)\n",
    "    n = len(string1)\n",
    "    dp = [[0 for i in range(n + 1)] for j in range(m + 1)]\n",
    "    for i in range(1, m + 1):\n",
    "        for j in range(1, n + 1):\n",
    "            if string[i - 1] == string1[j - 1]:\n",
    "                dp[i][j] = 1 + dp[i - 1][j - 1]\n",
    "            else:\n",
    "                dp[i][j] = max(dp[i][j - 1], dp[i - 1][j])\n",
    "    lps = dp[m][n]\n",
    "    insert = len(string) - lps\n",
    "    return insert\n",
    "insertion(string)"
   ]
  },
  {
   "cell_type": "code",
   "execution_count": null,
   "metadata": {},
   "outputs": [],
   "source": [
    "# Same as deletion to make palindrome."
   ]
  }
 ],
 "metadata": {
  "kernelspec": {
   "display_name": "Python 3",
   "language": "python",
   "name": "python3"
  },
  "language_info": {
   "codemirror_mode": {
    "name": "ipython",
    "version": 3
   },
   "file_extension": ".py",
   "mimetype": "text/x-python",
   "name": "python",
   "nbconvert_exporter": "python",
   "pygments_lexer": "ipython3",
   "version": "3.8.2"
  }
 },
 "nbformat": 4,
 "nbformat_minor": 4
}
