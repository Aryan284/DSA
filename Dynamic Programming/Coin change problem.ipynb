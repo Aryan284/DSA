{
 "cells": [
  {
   "cell_type": "code",
   "execution_count": 2,
   "metadata": {},
   "outputs": [
    {
     "name": "stdout",
     "output_type": "stream",
     "text": [
      "[-1, -1, -1, -1, -1]\n",
      "[-1, -1, -1, -1, -1]\n",
      "[-1, -1, -1, -1, -1]\n",
      "[-1, -1, -1, -1, -1]\n",
      "[[1, 0, 0, 0, 0], [1, 1, 1, 1, 1], [1, 1, 2, 2, 3], [1, 1, 2, 3, 4]]\n"
     ]
    },
    {
     "data": {
      "text/plain": [
       "4"
      ]
     },
     "execution_count": 2,
     "metadata": {},
     "output_type": "execute_result"
    }
   ],
   "source": [
    "arr = [1,2,3]\n",
    "sum = 4\n",
    "def coin(arr, n):\n",
    "    dp = [[-1 for i in range(sum + 1)] for j in range(n + 1)]\n",
    "    for i in range(len(dp)):\n",
    "        print(dp[i])\n",
    "    for i in range(1, sum + 1):\n",
    "        dp[0][i] = 0\n",
    "    for i in range(n + 1):\n",
    "        dp[i][0] = 1\n",
    "    for i in range(1, n + 1):\n",
    "        for j in range(1, sum + 1):\n",
    "            if arr[i - 1] <= j:\n",
    "                dp[i][j] = (dp[i - 1][j] + dp[i][j - arr[i - 1]])\n",
    "            else:\n",
    "                dp[i][j] = dp[i - 1][j]\n",
    "    print(dp)\n",
    "    return dp[n][sum]\n",
    "coin(arr, len(arr))"
   ]
  },
  {
   "cell_type": "code",
   "execution_count": 1,
   "metadata": {},
   "outputs": [],
   "source": [
    "## Finding max no. of ways we can make the change of sum..\n",
    "## similar to unbounded knapsack subset problem."
   ]
  },
  {
   "cell_type": "markdown",
   "metadata": {},
   "source": [
    "### Coin Change Problem 2"
   ]
  },
  {
   "cell_type": "code",
   "execution_count": 3,
   "metadata": {},
   "outputs": [
    {
     "data": {
      "text/plain": [
       "4"
      ]
     },
     "execution_count": 3,
     "metadata": {},
     "output_type": "execute_result"
    }
   ],
   "source": [
    "arr = [1,2,3]\n",
    "sum = 4\n",
    "def coinchange(arr, sum, n):\n",
    "    dp = [0] * (sum + 1)\n",
    "    for i in range(sum + 1):\n",
    "        dp[i] = 99999\n",
    "    dp[0] = 0\n",
    "    for i in range(1, sum + 1):\n",
    "        for j in range(n):\n",
    "            if arr[j] <= i:\n",
    "                dp[i] = min(dp[i], 1 + dp[i - arr[j]])\n",
    "    return dp[sum]\n",
    "coinchange(arr, 11, len(arr))"
   ]
  },
  {
   "cell_type": "code",
   "execution_count": null,
   "metadata": {},
   "outputs": [],
   "source": []
  }
 ],
 "metadata": {
  "kernelspec": {
   "display_name": "Python 3",
   "language": "python",
   "name": "python3"
  },
  "language_info": {
   "codemirror_mode": {
    "name": "ipython",
    "version": 3
   },
   "file_extension": ".py",
   "mimetype": "text/x-python",
   "name": "python",
   "nbconvert_exporter": "python",
   "pygments_lexer": "ipython3",
   "version": "3.8.2"
  }
 },
 "nbformat": 4,
 "nbformat_minor": 4
}
