{
 "cells": [
  {
   "cell_type": "code",
   "execution_count": 21,
   "metadata": {},
   "outputs": [
    {
     "name": "stdout",
     "output_type": "stream",
     "text": [
      "70 100 50 40 300 "
     ]
    }
   ],
   "source": [
    "from queue import Queue\n",
    "def reversek(k, queue):\n",
    "    if queue.empty() or queue.qsize() < k:\n",
    "        return\n",
    "    if k <= 0:\n",
    "        return\n",
    "    stack = []\n",
    "    for i in range(k):\n",
    "        stack.append(queue.queue[0])\n",
    "        queue.get()\n",
    "    while len(stack) != 0:\n",
    "        queue.put(stack[-1])\n",
    "        stack.pop()\n",
    "        \n",
    "    for i in range(queue.qsize() - k):\n",
    "        queue.put(queue.queue[0])\n",
    "        queue.get()\n",
    "        \n",
    "def Print(queue):\n",
    "    while not queue.empty():\n",
    "        print(queue.queue[0], end = \" \")\n",
    "        queue.get()\n",
    "\n",
    "\n",
    "if __name__==\"__main__\":\n",
    "    queue = Queue()\n",
    "    queue.put(100)\n",
    "    queue.put(70)\n",
    "    queue.put(50)\n",
    "    queue.put(40)\n",
    "    queue.put(300)\n",
    "    reversek(2, queue)\n",
    "    Print(queue)"
   ]
  },
  {
   "cell_type": "code",
   "execution_count": 5,
   "metadata": {},
   "outputs": [
    {
     "data": {
      "text/plain": [
       "False"
      ]
     },
     "execution_count": 5,
     "metadata": {},
     "output_type": "execute_result"
    }
   ],
   "source": [
    "'a'>'b'"
   ]
  },
  {
   "cell_type": "code",
   "execution_count": null,
   "metadata": {},
   "outputs": [],
   "source": []
  }
 ],
 "metadata": {
  "kernelspec": {
   "display_name": "Python 3",
   "language": "python",
   "name": "python3"
  },
  "language_info": {
   "codemirror_mode": {
    "name": "ipython",
    "version": 3
   },
   "file_extension": ".py",
   "mimetype": "text/x-python",
   "name": "python",
   "nbconvert_exporter": "python",
   "pygments_lexer": "ipython3",
   "version": "3.8.2"
  }
 },
 "nbformat": 4,
 "nbformat_minor": 4
}
