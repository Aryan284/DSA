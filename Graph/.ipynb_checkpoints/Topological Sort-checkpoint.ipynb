{
 "cells": [
  {
   "cell_type": "code",
   "execution_count": 35,
   "metadata": {},
   "outputs": [
    {
     "name": "stdout",
     "output_type": "stream",
     "text": [
      "defaultdict(<class 'list'>, {5: [0, 2, 1], 0: [], 4: [0, 2], 2: [3], 3: [], 1: []})\n",
      "defaultdict(<class 'int'>, {0: 2, 2: 2, 3: 1, 1: 1})\n",
      "4 5 0 2 3 1 "
     ]
    }
   ],
   "source": [
    "from collections import defaultdict\n",
    "class graph:\n",
    "    def __init__(self):\n",
    "        self.graph = defaultdict(list)\n",
    "        self.mark = defaultdict(int)\n",
    "    def addedge(self, u, v):\n",
    "        self.graph[u].append(v)\n",
    "        self.mark[v] += 1\n",
    "        if not self.graph[v]:\n",
    "            self.graph[v] = []\n",
    "    def topologicalsort(self, v, visited):\n",
    "        for i in self.graph[v]:\n",
    "            self.mark[i] -= 1\n",
    "            if self.mark[i] == 0:\n",
    "                if not visited[i]:\n",
    "                    print(i, end = \" \")\n",
    "                    visited[i] = 1\n",
    "                    self.topologicalsort(i, visited)\n",
    "                    \n",
    "    def toposort(self, v):\n",
    "        visited = defaultdict(int)\n",
    "        for i in range(v):\n",
    "            if self.mark[i] == 0:\n",
    "                if not visited[i]:\n",
    "                    if self.graph[i]:\n",
    "                        print(i, end = \" \")\n",
    "                        visited[i] = 1\n",
    "                        self.topologicalsort(i, visited)\n",
    "\n",
    "\n",
    "if __name__==\"__main__\":\n",
    "    g = graph()\n",
    "    g.addedge(5, 0)\n",
    "    g.addedge(4, 0)\n",
    "    g.addedge(5, 2)\n",
    "    g.addedge(4, 2)\n",
    "    g.addedge(2, 3)\n",
    "    g.addedge(5, 1)\n",
    "    print(g.graph)\n",
    "    print(g.mark)\n",
    "    (g.toposort(max(g.graph) + 1))"
   ]
  },
  {
   "cell_type": "code",
   "execution_count": null,
   "metadata": {},
   "outputs": [],
   "source": []
  }
 ],
 "metadata": {
  "kernelspec": {
   "display_name": "Python 3",
   "language": "python",
   "name": "python3"
  },
  "language_info": {
   "codemirror_mode": {
    "name": "ipython",
    "version": 3
   },
   "file_extension": ".py",
   "mimetype": "text/x-python",
   "name": "python",
   "nbconvert_exporter": "python",
   "pygments_lexer": "ipython3",
   "version": "3.8.2"
  }
 },
 "nbformat": 4,
 "nbformat_minor": 4
}
