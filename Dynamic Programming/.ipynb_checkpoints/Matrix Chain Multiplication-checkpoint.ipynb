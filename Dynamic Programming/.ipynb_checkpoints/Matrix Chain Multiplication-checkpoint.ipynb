{
 "cells": [
  {
   "cell_type": "code",
   "execution_count": 2,
   "metadata": {},
   "outputs": [
    {
     "data": {
      "text/plain": [
       "30"
      ]
     },
     "execution_count": 2,
     "metadata": {},
     "output_type": "execute_result"
    }
   ],
   "source": [
    "## Recurisve Approach\n",
    "arr = [1,2,3,4,3]\n",
    "def MCM(arr, i, j):\n",
    "    min = float(\"inf\")\n",
    "    if i >= j:\n",
    "        return 0\n",
    "    for k in range(i, j):\n",
    "        tempans = (MCM(arr, i, k) + MCM(arr, k + 1, j) + arr[i -1] * arr[j] * arr[k])\n",
    "        if tempans < min:\n",
    "            min = tempans\n",
    "    return min\n",
    "MCM(arr, 1, len(arr) - 1)"
   ]
  },
  {
   "cell_type": "code",
   "execution_count": 4,
   "metadata": {},
   "outputs": [
    {
     "data": {
      "text/plain": [
       "30"
      ]
     },
     "execution_count": 4,
     "metadata": {},
     "output_type": "execute_result"
    }
   ],
   "source": [
    "## Dp Approach(Memoization)\n",
    "def MCM(arr, i, j):\n",
    "    min = float(\"inf\")\n",
    "    dp = [[-1 for i in range(len(arr) + 1)] for j in range(len(arr) + 1)]\n",
    "    if i >= j:\n",
    "        return 0\n",
    "    if dp[i][j] != -1:\n",
    "        return dp[i][j]\n",
    "    for k in range(i, j):\n",
    "        dp[i][j] = (MCM(arr, i, k) + MCM(arr, k + 1, j) + arr[i - 1] * arr[j] * arr[k])\n",
    "        if dp[i][j] < min :\n",
    "            min = dp[i][j]\n",
    "    return dp[i][j]\n",
    "MCM(arr, 1, len(arr)  -1)"
   ]
  },
  {
   "cell_type": "code",
   "execution_count": null,
   "metadata": {},
   "outputs": [],
   "source": []
  }
 ],
 "metadata": {
  "kernelspec": {
   "display_name": "Python 3",
   "language": "python",
   "name": "python3"
  },
  "language_info": {
   "codemirror_mode": {
    "name": "ipython",
    "version": 3
   },
   "file_extension": ".py",
   "mimetype": "text/x-python",
   "name": "python",
   "nbconvert_exporter": "python",
   "pygments_lexer": "ipython3",
   "version": "3.8.2"
  }
 },
 "nbformat": 4,
 "nbformat_minor": 4
}
