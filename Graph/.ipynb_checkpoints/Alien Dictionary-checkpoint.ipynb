{
 "cells": [
  {
   "cell_type": "code",
   "execution_count": 2,
   "metadata": {},
   "outputs": [
    {
     "name": "stdout",
     "output_type": "stream",
     "text": [
      "defaultdict(<class 'list'>, {'c': ['a'], 'a': ['b'], 'b': []})\n",
      "defaultdict(<class 'int'>, {'a': 1, 'c': 0, 'b': 1})\n",
      "c a b "
     ]
    }
   ],
   "source": [
    "from collections import defaultdict\n",
    "\n",
    "class graph:\n",
    "    def __init__(self):\n",
    "        self.graph = defaultdict(list)\n",
    "        self.mark = defaultdict(int)\n",
    "        \n",
    "    def add_edge(self, u, v):\n",
    "        self.graph[u].append(v)\n",
    "        self.mark[v] += 1\n",
    "        if not self.mark[u]:\n",
    "            self.mark[u] = 0\n",
    "        if not self.graph[v]:\n",
    "            self.graph[v] = []\n",
    "            \n",
    "    def alien_dict(self, words):\n",
    "        for i in range(len(words) - 1):\n",
    "            w1 = words[i]\n",
    "            w2 = words[i + 1]\n",
    "            for j in range(min(len(w1), len(w2))):\n",
    "                if w1[j] != w2[j]:\n",
    "                    self.add_edge(w1[j], w2[j])\n",
    "                    break\n",
    "                    \n",
    "                    \n",
    "    def helper_func(self, v, visited):\n",
    "        for i in self.graph[v]:\n",
    "            self.mark[i] -= 1\n",
    "            if self.mark[i] == 0:\n",
    "                if not visited[i]:\n",
    "                    print(i, end = \" \")\n",
    "                    visited[i] = 1\n",
    "                    self.helper_func(i, visited)\n",
    "            \n",
    "            \n",
    "    def topological_sort(self):\n",
    "        visited = defaultdict(int)\n",
    "        for i in self.graph:\n",
    "            if self.mark[i] == 0:\n",
    "                if not visited[i]:\n",
    "                    if self.graph[i]:\n",
    "                        print(i, end = \" \")\n",
    "                        visited[i] = 1\n",
    "                        self.helper_func(i, visited)\n",
    "        \n",
    "if __name__==\"__main__\":\n",
    "    \n",
    "    words = [\"caa\", \"aaa\", \"aab\"]\n",
    "    g = graph()\n",
    "    g.alien_dict(words)\n",
    "    print(g.graph)\n",
    "    print(g.mark)\n",
    "    g.topological_sort()"
   ]
  },
  {
   "cell_type": "code",
   "execution_count": null,
   "metadata": {},
   "outputs": [],
   "source": [
    "class Solution:\n",
    "    def networkDelayTime(self, times: List[List[int]], n: int, k: int) -> int:\n",
    "        graph = defaultdict(list)\n",
    "        dist = defaultdict(int)\n",
    "        for u,v,w in times:\n",
    "            graph[u].append([v, w])\n",
    "        dist[u] = float(\"inf\")\n",
    "        dist[v] = float(\"inf\")\n",
    "        seen = [False] * (n + 1)\n",
    "        dist[k] = 0\n",
    "        while True:\n",
    "            node = -1\n",
    "            node_dist = inf\n",
    "            for i in range(1, n + 1):\n",
    "                if not seen[i] and dist[i] < node_dist:\n",
    "                    node_dist = dist[i]\n",
    "                    node = i\n",
    "            if node < 0: break\n",
    "            seen[node] = True\n",
    "            for nei, d in graph[node]:\n",
    "                dist[nei] = min(dist[nei], dist[node] + d)\n",
    "        ans = max(dist.values())\n",
    "        return ans if ans < inf else -1"
   ]
  }
 ],
 "metadata": {
  "kernelspec": {
   "display_name": "Python 3",
   "language": "python",
   "name": "python3"
  },
  "language_info": {
   "codemirror_mode": {
    "name": "ipython",
    "version": 3
   },
   "file_extension": ".py",
   "mimetype": "text/x-python",
   "name": "python",
   "nbconvert_exporter": "python",
   "pygments_lexer": "ipython3",
   "version": "3.8.2"
  }
 },
 "nbformat": 4,
 "nbformat_minor": 4
}
