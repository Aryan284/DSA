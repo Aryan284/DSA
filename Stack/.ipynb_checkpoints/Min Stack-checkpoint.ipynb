{
 "cells": [
  {
   "cell_type": "code",
   "execution_count": 11,
   "metadata": {},
   "outputs": [
    {
     "name": "stdout",
     "output_type": "stream",
     "text": [
      "min 0\n",
      "min 5\n"
     ]
    }
   ],
   "source": [
    "class MinStack:\n",
    "    def __init__(self):\n",
    "        self.stack = []\n",
    "        self.minarray = []\n",
    "    def push(self, x):\n",
    "        self.stack.append(x)\n",
    "        if not self.minarray:\n",
    "            self.minarray.append(x)\n",
    "        else:\n",
    "            self.minarray.append(min(x, self.minarray[-1]))\n",
    "    def pop(self):\n",
    "        self.stack.pop()\n",
    "        self.minarray.pop()\n",
    "    def top(self):\n",
    "        return self.stack[-1]\n",
    "    def getmin(self):\n",
    "        return self.minarray[-1]\n",
    "    \n",
    "    \n",
    "if __name__==\"__main__\":\n",
    "    stack = MinStack()  \n",
    "    stack.push(3) \n",
    "    stack.push(5)\n",
    "    stack.push(0) \n",
    "    stack.push(-1)      \n",
    "    stack.pop()\n",
    "    print(\"min\", stack.getmin())\n",
    "    stack.getmin() \n",
    "    stack.pop()  \n",
    "    stack.top()\n",
    "    print(\"top\", stack.top())"
   ]
  },
  {
   "cell_type": "code",
   "execution_count": null,
   "metadata": {},
   "outputs": [],
   "source": []
  }
 ],
 "metadata": {
  "kernelspec": {
   "display_name": "Python 3",
   "language": "python",
   "name": "python3"
  },
  "language_info": {
   "codemirror_mode": {
    "name": "ipython",
    "version": 3
   },
   "file_extension": ".py",
   "mimetype": "text/x-python",
   "name": "python",
   "nbconvert_exporter": "python",
   "pygments_lexer": "ipython3",
   "version": "3.8.2"
  }
 },
 "nbformat": 4,
 "nbformat_minor": 4
}
