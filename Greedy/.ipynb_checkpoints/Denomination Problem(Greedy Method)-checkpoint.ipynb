{
 "cells": [
  {
   "cell_type": "code",
   "execution_count": 11,
   "metadata": {},
   "outputs": [
    {
     "name": "stdout",
     "output_type": "stream",
     "text": [
      "[2000, 500, 200, 100, 50, 20, 10, 5, 2, 1]\n",
      "970 500\n",
      "470 500\n",
      "270 200\n",
      "70 200\n",
      "20 50\n",
      "0 20\n",
      "[500, 500, 200, 200, 50, 20]\n",
      "6\n"
     ]
    }
   ],
   "source": [
    "note = [1, 2, 5, 10, 20, 50, 100, 200, 500, 2000]\n",
    "deno = 1470\n",
    "ans = []\n",
    "count = 0\n",
    "note.sort(reverse = True)\n",
    "print(note)\n",
    "for i in range(len(note)):\n",
    "    while(deno >= note[i]):\n",
    "        deno -= note[i]\n",
    "        print(deno, note[i])\n",
    "        count += 1\n",
    "        ans.append(note[i])\n",
    "print(ans)\n",
    "print(count)"
   ]
  },
  {
   "cell_type": "code",
   "execution_count": null,
   "metadata": {},
   "outputs": [],
   "source": []
  }
 ],
 "metadata": {
  "kernelspec": {
   "display_name": "Python 3",
   "language": "python",
   "name": "python3"
  },
  "language_info": {
   "codemirror_mode": {
    "name": "ipython",
    "version": 3
   },
   "file_extension": ".py",
   "mimetype": "text/x-python",
   "name": "python",
   "nbconvert_exporter": "python",
   "pygments_lexer": "ipython3",
   "version": "3.8.2"
  }
 },
 "nbformat": 4,
 "nbformat_minor": 4
}
