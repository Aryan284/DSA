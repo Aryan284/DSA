{
 "cells": [
  {
   "cell_type": "code",
   "execution_count": 3,
   "metadata": {},
   "outputs": [
    {
     "name": "stdout",
     "output_type": "stream",
     "text": [
      "4\n"
     ]
    },
    {
     "data": {
      "text/plain": [
       "2"
      ]
     },
     "execution_count": 3,
     "metadata": {},
     "output_type": "execute_result"
    }
   ],
   "source": [
    "arr = [1,1,2,4]\n",
    "def countdiff(arr, n, diff):\n",
    "    sum = sum1 = 0\n",
    "    for i in range(n):\n",
    "        sum += arr[i]\n",
    "    sum1 = (diff + sum)//2\n",
    "    print(sum1)\n",
    "    dp = [[-1 for i in range(sum1 + 1)] for j in range(n + 1)]\n",
    "    for i in range(1, sum1 + 1):\n",
    "        dp[0][i] = 0\n",
    "    for i in range(0, n + 1):\n",
    "        dp[i][0] = 1\n",
    "    for i in range(1, n + 1):\n",
    "        for j in range(1, sum1 + 1):\n",
    "            if arr[i - 1] <= j:\n",
    "                dp[i][j] = dp[i - 1][j] + dp[i - 1][j - arr[i - 1]]\n",
    "            else:\n",
    "                dp[i][j] = dp[i - 1][j]\n",
    "    return dp[n][sum1]\n",
    "countdiff(arr, len(arr), 1)"
   ]
  },
  {
   "cell_type": "code",
   "execution_count": null,
   "metadata": {},
   "outputs": [],
   "source": []
  }
 ],
 "metadata": {
  "kernelspec": {
   "display_name": "Python 3",
   "language": "python",
   "name": "python3"
  },
  "language_info": {
   "codemirror_mode": {
    "name": "ipython",
    "version": 3
   },
   "file_extension": ".py",
   "mimetype": "text/x-python",
   "name": "python",
   "nbconvert_exporter": "python",
   "pygments_lexer": "ipython3",
   "version": "3.8.2"
  }
 },
 "nbformat": 4,
 "nbformat_minor": 4
}
