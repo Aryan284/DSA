{
 "cells": [
  {
   "cell_type": "code",
   "execution_count": 4,
   "metadata": {},
   "outputs": [
    {
     "data": {
      "text/plain": [
       "0"
      ]
     },
     "execution_count": 4,
     "metadata": {},
     "output_type": "execute_result"
    }
   ],
   "source": [
    "arr = [1,2,7,9,981]\n",
    "def targetsum(arr, n, s):\n",
    "    sum = diff = 0\n",
    "    for i in range(n):\n",
    "        sum += arr[i]\n",
    "        if arr[i] == 0:\n",
    "            count += 1\n",
    "    if s > sum:\n",
    "        return 0\n",
    "    if (sum + s) % 2 != 0:\n",
    "        return 0\n",
    "    diff = (sum + s)//2\n",
    "    print(diff)\n",
    "    dp = [[-1 for i in range(diff + 1)] for j in range(n + 1)]\n",
    "    for i in range(1, diff + 1):\n",
    "        dp[0][i] = 0\n",
    "    for i in range(0, n + 1):\n",
    "        dp[i][0] = 1\n",
    "    for i in range(1, n + 1):\n",
    "        for j in range(1, diff + 1):\n",
    "            if arr[i - 1] == 0:\n",
    "                dp[i][j] = dp[i - 1][j]\n",
    "            elif arr[i - 1] <= j:\n",
    "                dp[i][j] = dp[i - 1][j] + dp[i - 1][j - arr[i - 1]]\n",
    "            else:\n",
    "                dp[i][j] = dp[i - 1][j]\n",
    "    return int(pow(2, count)) * dp[n][diff]\n",
    "targetsum(arr, len(arr),1000000000)"
   ]
  },
  {
   "cell_type": "code",
   "execution_count": null,
   "metadata": {},
   "outputs": [],
   "source": [
    "## Same as Count Subset with given difference."
   ]
  }
 ],
 "metadata": {
  "kernelspec": {
   "display_name": "Python 3",
   "language": "python",
   "name": "python3"
  },
  "language_info": {
   "codemirror_mode": {
    "name": "ipython",
    "version": 3
   },
   "file_extension": ".py",
   "mimetype": "text/x-python",
   "name": "python",
   "nbconvert_exporter": "python",
   "pygments_lexer": "ipython3",
   "version": "3.8.2"
  }
 },
 "nbformat": 4,
 "nbformat_minor": 4
}
