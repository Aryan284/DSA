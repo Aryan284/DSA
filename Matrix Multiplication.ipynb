{
 "cells": [
  {
   "cell_type": "code",
   "execution_count": 1,
   "metadata": {},
   "outputs": [
    {
     "name": "stdout",
     "output_type": "stream",
     "text": [
      "Enter Row: 2\n",
      "Enter column: 2\n",
      "Enter 0 0 element of 1st matrix: 1\n",
      "Enter 0 1 element of 1st matrix: 2\n",
      "Enter 1 0 element of 1st matrix: 2\n",
      "Enter 1 1 element of 1st matrix: 2\n",
      "[[1, 2], [2, 2]]\n",
      "Enter Row: 2\n",
      "Enter column: 2\n",
      "Enter 0 0 element of 2nd matrix: 1\n",
      "Enter 0 1 element of 2nd matrix: 1\n",
      "Enter 1 0 element of 2nd matrix: 1\n",
      "Enter 1 1 element of 2nd matrix: 1\n",
      "[[1, 1], [1, 1]]\n",
      "\n",
      "Multiplication..\n",
      "\n",
      "[[3, 3], [4, 4]]\n"
     ]
    }
   ],
   "source": [
    "m = int(input(\"Enter Row: \"))\n",
    "n = int(input(\"Enter column: \"))\n",
    "a = []\n",
    "for i in range(m):\n",
    "    one_d_array = []\n",
    "    for j in range(n):\n",
    "        s = int(input('Enter' + \" \" +  str(i) + \" \" + str(j) + \" \" +  'element of 1st matrix: '))\n",
    "        one_d_array.append(s)\n",
    "    a.append(one_d_array)\n",
    "print(a)\n",
    "p = int(input(\"Enter Row: \"))\n",
    "q = int(input(\"Enter column: \"))\n",
    "b = []\n",
    "for i in range(p):\n",
    "    one_d_arr = []\n",
    "    for j in range(q):\n",
    "        s = int(input('Enter' + \" \" +  str(i) + \" \" + str(j) + \" \" +  'element of 2nd matrix: '))\n",
    "        one_d_arr.append(s)\n",
    "    b.append(one_d_arr)\n",
    "print(b)\n",
    "if n != p:\n",
    "    print(\"Not possible\")\n",
    "c = []\n",
    "for i in range(m):\n",
    "    c.append([0] * p)\n",
    "for i in range(m):\n",
    "    for j in range(p):\n",
    "        for k in range(n):\n",
    "            c[i][j] += a[i][k] * b[k][j]\n",
    "print(\"\\nMultiplication..\\n\")\n",
    "print(c)"
   ]
  },
  {
   "cell_type": "code",
   "execution_count": 21,
   "metadata": {},
   "outputs": [
    {
     "ename": "IndexError",
     "evalue": "list index out of range",
     "output_type": "error",
     "traceback": [
      "\u001b[1;31m---------------------------------------------------------------------------\u001b[0m",
      "\u001b[1;31mIndexError\u001b[0m                                Traceback (most recent call last)",
      "\u001b[1;32m<ipython-input-21-62683e24a446>\u001b[0m in \u001b[0;36m<module>\u001b[1;34m\u001b[0m\n\u001b[0;32m      2\u001b[0m \u001b[0mi\u001b[0m \u001b[1;33m=\u001b[0m \u001b[1;36m0\u001b[0m\u001b[1;33m\u001b[0m\u001b[1;33m\u001b[0m\u001b[0m\n\u001b[0;32m      3\u001b[0m \u001b[1;32mwhile\u001b[0m \u001b[0mi\u001b[0m \u001b[1;33m<\u001b[0m \u001b[1;36m2\u001b[0m\u001b[1;33m:\u001b[0m\u001b[1;33m\u001b[0m\u001b[1;33m\u001b[0m\u001b[0m\n\u001b[1;32m----> 4\u001b[1;33m     \u001b[0ma\u001b[0m\u001b[1;33m[\u001b[0m\u001b[0mi\u001b[0m\u001b[1;33m]\u001b[0m\u001b[1;33m[\u001b[0m\u001b[0mi\u001b[0m\u001b[1;33m]\u001b[0m \u001b[1;33m=\u001b[0m \u001b[1;36m1\u001b[0m\u001b[1;33m\u001b[0m\u001b[1;33m\u001b[0m\u001b[0m\n\u001b[0m\u001b[0;32m      5\u001b[0m     \u001b[0mi\u001b[0m \u001b[1;33m+=\u001b[0m \u001b[1;36m1\u001b[0m\u001b[1;33m\u001b[0m\u001b[1;33m\u001b[0m\u001b[0m\n\u001b[0;32m      6\u001b[0m \u001b[0mprint\u001b[0m\u001b[1;33m(\u001b[0m\u001b[0ma\u001b[0m\u001b[1;33m)\u001b[0m\u001b[1;33m\u001b[0m\u001b[1;33m\u001b[0m\u001b[0m\n",
      "\u001b[1;31mIndexError\u001b[0m: list index out of range"
     ]
    }
   ],
   "source": [
    "a = [[0] * 2]\n",
    "i = 0\n",
    "while i < 2:\n",
    "    a[i][i] = 1\n",
    "    i += 1\n",
    "print(a)"
   ]
  },
  {
   "cell_type": "code",
   "execution_count": null,
   "metadata": {},
   "outputs": [],
   "source": []
  }
 ],
 "metadata": {
  "kernelspec": {
   "display_name": "Python 3",
   "language": "python",
   "name": "python3"
  },
  "language_info": {
   "codemirror_mode": {
    "name": "ipython",
    "version": 3
   },
   "file_extension": ".py",
   "mimetype": "text/x-python",
   "name": "python",
   "nbconvert_exporter": "python",
   "pygments_lexer": "ipython3",
   "version": "3.8.2"
  }
 },
 "nbformat": 4,
 "nbformat_minor": 4
}
