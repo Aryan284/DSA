{
 "cells": [
  {
   "cell_type": "code",
   "execution_count": 2,
   "metadata": {},
   "outputs": [
    {
     "name": "stdout",
     "output_type": "stream",
     "text": [
      "[[0, 0, 0, 0], [0, 0, 0, 1], [0, 0, 1, 0], [0, 1, 0, 0]]\n",
      "Lps is c\n"
     ]
    }
   ],
   "source": [
    "string = 'abc'\n",
    "def LPS(string):\n",
    "    string1 = string[::-1]\n",
    "    m = len(string)\n",
    "    n = len(string1)\n",
    "    dp = [[-1 for i in range(n + 1)] for j in range(m + 1)]\n",
    "    for i in range(m + 1):\n",
    "        for j in range(n + 1):\n",
    "            if i == 0 or j == 0:\n",
    "                dp[i][j] = 0\n",
    "            elif string[i - 1] == string1[j - 1]:\n",
    "                dp[i][j] = 1 + dp[i - 1][j - 1]\n",
    "            else:\n",
    "                dp[i][j] = max(dp[i][j -1], dp[i - 1][j])\n",
    "    print(dp)\n",
    "    index = dp[m][n]\n",
    "    res = [\"\"] * (index + 1)\n",
    "    res[index] = \"\"\n",
    "    while i > 0 and j > 0:\n",
    "        if string[i - 1] == string1[j - 1]:\n",
    "            res[index - 1] = string[i - 1]\n",
    "            i -= 1\n",
    "            j -= 1\n",
    "            index -= 1\n",
    "        elif dp[i - 1][j] > dp[i][j - 1]:\n",
    "            i -= 1\n",
    "        else:\n",
    "            j -= 1\n",
    "    print(\"Lps is\", \"\".join(res))\n",
    "LPS(string)"
   ]
  },
  {
   "cell_type": "code",
   "execution_count": null,
   "metadata": {},
   "outputs": [],
   "source": []
  }
 ],
 "metadata": {
  "kernelspec": {
   "display_name": "Python 3",
   "language": "python",
   "name": "python3"
  },
  "language_info": {
   "codemirror_mode": {
    "name": "ipython",
    "version": 3
   },
   "file_extension": ".py",
   "mimetype": "text/x-python",
   "name": "python",
   "nbconvert_exporter": "python",
   "pygments_lexer": "ipython3",
   "version": "3.8.2"
  }
 },
 "nbformat": 4,
 "nbformat_minor": 4
}
