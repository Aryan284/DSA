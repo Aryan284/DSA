{
 "cells": [
  {
   "cell_type": "code",
   "execution_count": 75,
   "metadata": {},
   "outputs": [
    {
     "name": "stdout",
     "output_type": "stream",
     "text": [
      "[['j1', 3, 35], ['j2', 4, 30], ['j3', 4, 25], ['j4', 2, 20], ['j5', 3, 15], ['j6', 1, 12], ['j7', 2, 5]]\n",
      "['j4', 'j3', 'j1', 'j2']\n"
     ]
    }
   ],
   "source": [
    "arr = [['j1', 3, 35],\n",
    "      ['j2', 4, 30],\n",
    "      ['j3', 4, 25],\n",
    "      ['j4', 2, 20],\n",
    "      ['j5', 3, 15],\n",
    "      ['j6', 1, 12],\n",
    "      ['j7', 2, 5]]\n",
    "n = len(arr)\n",
    "dmax = 4\n",
    "## sort in descending\n",
    "for i in range(n):\n",
    "    for j in range(n - 1 - i):\n",
    "        if arr[j][2] < arr[j + 1][2]:\n",
    "            arr[j], arr[j + 1] = arr[j + 1], arr[j]\n",
    "print(arr)\n",
    "time = [False] * dmax\n",
    "job = ['-1'] * dmax\n",
    "for i in range(n):\n",
    "    \n",
    "    for j in range(min(dmax-1, arr[i][1]-1), -1, -1):\n",
    "        if time[j] is False:\n",
    "            time[j] = True\n",
    "            job[j] = arr[i][0]\n",
    "            break\n",
    "\n",
    "print(job)"
   ]
  },
  {
   "cell_type": "code",
   "execution_count": 91,
   "metadata": {},
   "outputs": [
    {
     "name": "stdout",
     "output_type": "stream",
     "text": [
      "['j4', 'j3', 'j1', 'j2'] \n",
      " Profit: 110\n"
     ]
    }
   ],
   "source": [
    "arr = [['j1', 3, 35],\n",
    "      ['j2', 4, 30],\n",
    "      ['j3', 4, 25],\n",
    "      ['j4', 2, 20],\n",
    "      ['j5', 3, 15],\n",
    "      ['j6', 1, 12],\n",
    "      ['j7', 2, 5]]\n",
    "n = len(arr)\n",
    "dmax = 4\n",
    "## sort in descending\n",
    "for i in range(n):\n",
    "    for j in range(n - 1 - i):\n",
    "        if arr[j][2] < arr[j + 1][2]:\n",
    "            arr[j], arr[j + 1] = arr[j + 1], arr[j]\n",
    "time = 0\n",
    "profit = 0\n",
    "job = ['-1'] * dmax\n",
    "for i in range(n):\n",
    "    k = min(dmax-1, arr[i][1]-1)\n",
    "    while k >= 0:\n",
    "        if job[k] == '-1':\n",
    "            job[k] = arr[i][0]\n",
    "            profit += arr[i][2]\n",
    "            break\n",
    "        k -= 1\n",
    "print(job, '\\n Profit:', profit)\n",
    "\n",
    "## sort the list wrt profits in descending order\n",
    "# Time Complexity : 0(n^2)"
   ]
  },
  {
   "cell_type": "code",
   "execution_count": null,
   "metadata": {},
   "outputs": [],
   "source": []
  }
 ],
 "metadata": {
  "kernelspec": {
   "display_name": "Python 3",
   "language": "python",
   "name": "python3"
  },
  "language_info": {
   "codemirror_mode": {
    "name": "ipython",
    "version": 3
   },
   "file_extension": ".py",
   "mimetype": "text/x-python",
   "name": "python",
   "nbconvert_exporter": "python",
   "pygments_lexer": "ipython3",
   "version": "3.8.2"
  }
 },
 "nbformat": 4,
 "nbformat_minor": 4
}
