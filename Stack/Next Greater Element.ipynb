{
 "cells": [
  {
   "cell_type": "code",
   "execution_count": 5,
   "metadata": {},
   "outputs": [
    {
     "data": {
      "text/plain": [
       "[3, 4, 1, 1, 4, -1]"
      ]
     },
     "execution_count": 5,
     "metadata": {},
     "output_type": "execute_result"
    }
   ],
   "source": [
    "arr = [1,3,0,0,1,4]\n",
    "def nextgreat(arr):\n",
    "    stack = []\n",
    "    res = [-1] * len(arr)\n",
    "    for i in range(len(arr)):\n",
    "        while stack and arr[stack[-1]] < arr[i]:\n",
    "            res[stack[-1]] = arr[i]\n",
    "            stack.pop()\n",
    "        stack.append(i)\n",
    "    return res\n",
    "nextgreat(arr)"
   ]
  },
  {
   "cell_type": "markdown",
   "metadata": {},
   "source": [
    "### Next Greater Element I(Leetcode)"
   ]
  },
  {
   "cell_type": "code",
   "execution_count": 8,
   "metadata": {},
   "outputs": [
    {
     "data": {
      "text/plain": [
       "[-1, 3, -1]"
      ]
     },
     "execution_count": 8,
     "metadata": {},
     "output_type": "execute_result"
    }
   ],
   "source": [
    "nums1 = [4,1,2]\n",
    "nums2 = [1,3,4,2]\n",
    "def nge(nums1, nums2):\n",
    "    stack = []\n",
    "    dic = {}\n",
    "    res = []\n",
    "    for i in range(len(nums2) - 1, -1, -1):\n",
    "        while stack and stack[-1] < nums2[i]:\n",
    "            stack.pop()\n",
    "        dic[nums2[i]] = -1 if not stack else stack[-1]\n",
    "        stack.append(nums2[i])\n",
    "    for n in nums1:\n",
    "        res.append(dic[n])\n",
    "    return res\n",
    "nge(nums1, nums2)"
   ]
  },
  {
   "cell_type": "markdown",
   "metadata": {},
   "source": [
    "### Next Greater Element II(Leetcode)"
   ]
  },
  {
   "cell_type": "code",
   "execution_count": 4,
   "metadata": {},
   "outputs": [
    {
     "data": {
      "text/plain": [
       "[-1, 3, 4, 4]"
      ]
     },
     "execution_count": 4,
     "metadata": {},
     "output_type": "execute_result"
    }
   ],
   "source": [
    "arr = []\n",
    "def nge(arr):\n",
    "    dic = {}\n",
    "    stack = []\n",
    "    res = [-1] * len(arr)\n",
    "    for i in range(len(arr)):\n",
    "        while stack and arr[stack[-1]] < arr[i]:\n",
    "            res[stack.pop()] = arr[i]\n",
    "        stack.append(i)\n",
    "    for i in range(len(arr)):\n",
    "        while stack and arr[stack[-1]] < arr[i]:\n",
    "            res[stack.pop()] = arr[i]\n",
    "    return res\n",
    "nge(arr)"
   ]
  },
  {
   "cell_type": "code",
   "execution_count": null,
   "metadata": {},
   "outputs": [],
   "source": []
  }
 ],
 "metadata": {
  "kernelspec": {
   "display_name": "Python 3",
   "language": "python",
   "name": "python3"
  },
  "language_info": {
   "codemirror_mode": {
    "name": "ipython",
    "version": 3
   },
   "file_extension": ".py",
   "mimetype": "text/x-python",
   "name": "python",
   "nbconvert_exporter": "python",
   "pygments_lexer": "ipython3",
   "version": "3.8.2"
  }
 },
 "nbformat": 4,
 "nbformat_minor": 4
}
