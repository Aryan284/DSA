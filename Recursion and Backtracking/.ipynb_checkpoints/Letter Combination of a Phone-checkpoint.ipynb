{
 "cells": [
  {
   "cell_type": "code",
   "execution_count": 2,
   "metadata": {},
   "outputs": [
    {
     "data": {
      "text/plain": [
       "['aw', 'ax', 'ay', 'az', 'bw', 'bx', 'by', 'bz', 'cw', 'cx', 'cy', 'cz']"
      ]
     },
     "execution_count": 2,
     "metadata": {},
     "output_type": "execute_result"
    }
   ],
   "source": [
    "digits = \"29\"\n",
    "def letter_combinations(digits):\n",
    "    phone = {'2' : ['a', 'b','c'],\n",
    "             '3' : ['d', 'e','f'],\n",
    "             '4' : ['g', 'h','i'],\n",
    "             '5' : ['j', 'k','l'],\n",
    "             '6' : ['m', 'n','o'],\n",
    "             '7' : ['p', 'q','r', 's'],\n",
    "             '8' : ['t', 'u','v'],\n",
    "             '9' : ['w', 'x','y', 'z']}\n",
    "    output = [\"\"]\n",
    "    for digit in digits:\n",
    "        next_level = []\n",
    "        for val in output:\n",
    "            for i in phone[digit]:\n",
    "                next_level.append(val + i)\n",
    "        output = next_level\n",
    "    return output\n",
    "letter_combinations(digits)"
   ]
  },
  {
   "cell_type": "code",
   "execution_count": null,
   "metadata": {},
   "outputs": [],
   "source": []
  }
 ],
 "metadata": {
  "kernelspec": {
   "display_name": "Python 3",
   "language": "python",
   "name": "python3"
  },
  "language_info": {
   "codemirror_mode": {
    "name": "ipython",
    "version": 3
   },
   "file_extension": ".py",
   "mimetype": "text/x-python",
   "name": "python",
   "nbconvert_exporter": "python",
   "pygments_lexer": "ipython3",
   "version": "3.8.2"
  }
 },
 "nbformat": 4,
 "nbformat_minor": 4
}
