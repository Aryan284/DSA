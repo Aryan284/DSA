{
 "cells": [
  {
   "cell_type": "code",
   "execution_count": 4,
   "metadata": {},
   "outputs": [
    {
     "data": {
      "text/plain": [
       "[929, 707, 292, 818, 181]"
      ]
     },
     "execution_count": 4,
     "metadata": {},
     "output_type": "execute_result"
    }
   ],
   "source": [
    "def number_diff(n, k):\n",
    "    res = set()\n",
    "    def dfs(num, n):\n",
    "        if n == 0:\n",
    "            res.add(num)\n",
    "            return\n",
    "        last_dig = num % 10\n",
    "        if last_dig >= k:\n",
    "            dfs(num * 10 + last_dig - k, n - 1)\n",
    "        if last_dig + k < 10:\n",
    "            dfs(num * 10 + last_dig + k, n - 1)\n",
    "    for d in range(1, 10):\n",
    "        dfs(d, n - 1)\n",
    "    return list(res)\n",
    "number_diff(3, 7)"
   ]
  },
  {
   "cell_type": "code",
   "execution_count": null,
   "metadata": {},
   "outputs": [],
   "source": []
  }
 ],
 "metadata": {
  "kernelspec": {
   "display_name": "Python 3",
   "language": "python",
   "name": "python3"
  },
  "language_info": {
   "codemirror_mode": {
    "name": "ipython",
    "version": 3
   },
   "file_extension": ".py",
   "mimetype": "text/x-python",
   "name": "python",
   "nbconvert_exporter": "python",
   "pygments_lexer": "ipython3",
   "version": "3.8.2"
  }
 },
 "nbformat": 4,
 "nbformat_minor": 4
}
